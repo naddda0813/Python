{
 "cells": [
  {
   "cell_type": "markdown",
   "metadata": {},
   "source": [
    "### 지도 학습과 비지도 학습\n",
    "- 학습 : 데이터를 특별한 알고리즘에 적용해 머신러닝 모델을 정의된 문제에 \"최적화\" (가장 근접한 알고리즘을 만들어 내는 것 , y*) 하는 과정을 의미\n",
    "\n",
    "### 지도 학습(Supervised Learning)\n",
    "- 정답을 알려주면서 진행되는 학습.\n",
    "- 정답, 실제값, 레이블, 타깃, 클래스, y값 : 동일한 의미\n",
    "- 머신러닝 모델을 통해 예측된 값을 예측값, 분류값, Y^(hat) 등으로 표현한다.\n",
    "- 지도학습의 예로는 분류(Classification , 객관식)와 회귀(regression , 주관식)이 대표적\n",
    "\n",
    "### 비지도 학습(Unsupervised Learning)\n",
    "- 정답(레이블)이 없이 진행되는 학습\n",
    "- 데이터 자체에서 패턴을 찾아내야 할때 사용\n",
    "- 예로는 군집화와 차원축소가 대표적\n",
    "\n",
    "; 샘플 1개의 raw , 한 줄 데이터 "
   ]
  },
  {
   "cell_type": "markdown",
   "metadata": {},
   "source": [
    "---\n",
    "# 분류와 회귀\n",
    "- 분류와 회귀의 큰 차이점은 * 데이터가 입력되었을 때 분류는 분리된 값으로 예측하고, 회귀는 연속된 값으로 예측한다. (시계열 데이터 는 연속된 값)\n",
    "\n",
    "### 분류(Classification)\n",
    "- 분류는 데이터가 입력되었을 때 지도학습을 통해 미리 학습된 레이블 중 하나 또는 여러개의 레이블로 예측하는 것이다. \n",
    "\n",
    "##### 이진 분류 (binary)\n",
    "- 둘 중 하나의 값으로 분류하는 경우 (sigmoid 함수 사용)    ( 0 / 1 , T / F , 타이타닉)\n",
    "\n",
    "##### 다중 분류\n",
    "- 여러개의 분류값 중에서 하나의 값으로 예측하는 경우 (softmax 함수 사용)    ( iris )\n"
   ]
  },
  {
   "cell_type": "markdown",
   "metadata": {},
   "source": [
    "---\n",
    "# 과대적합(overfitting) 과 과소적합(underfitting)\n",
    "- 데이터에서 충분히 특징을 찾아내지 못하고 머신러닝 모델 학습을 할 경우 모델이 과소적합이 되기 쉽고 (과소적합은 절대 쓰면 안됨 , 차라리 과대적합이 낫다. 과대적합에서 줄여나간다)\n",
    "- 필요 이상의 특징으로 학습할 경우 모델이 과대적합이 되기 쉽습니다.\n",
    "\n",
    "### 과소적합\n",
    "- 보통 테스트 데이터 뿐만 아니라 학습데이터에 대해서도 정확도가 낮게 나올경우 과소적합된 모델일 가능성이 높음\n",
    "\n",
    "### 과대적합\n",
    "- 학습 데이터외의 데이터에는 정확도가 낮게 나오는 모델 \n",
    "- 데이터의 특징들의 수치값을 정규화함으로써 특정 특징에 의한 편향(bias)을 줄이는 것도 과대적합을 피하는 좋은 방법이다.\n",
    "- 딥러닝 같은 경우 조기종료(early stopping) (학습하는걸 중간에 끝내자. 굉장히 편해진다. 반복횟수를 줄이는 것), 드롭 아웃(drop out)을 사용해 과대적합을 피할 수 있다. (컬럼을 미리 지운다!)\n"
   ]
  },
  {
   "cell_type": "markdown",
   "metadata": {},
   "source": [
    "---\n",
    "# 혼동행렬(confusion matrix) \n",
    ": R에서 예측 정확도 테이블로 봤던 것과 같다\n",
    "- 모델의 성능을 평가할때 사용되는 지표\n",
    "- 실제값과 예측값을 비교하여 실제값에 예측값이 어느정도 일치되었는지를 파악\n",
    "- 모델의 성능은 이 혼동행렬을 기반으로 단 하나의 수치로 표현이 가능하다."
   ]
  },
  {
   "cell_type": "markdown",
   "metadata": {},
   "source": [
    "# 머신러닝 모델의 성능 평가\n",
    "- TP(True Positive): 맞은 것을 올바르게 예측한것 a) 9,15,24,15\n",
    "- TN(True Negative): 틀린것을 올바르게 예측한 것 a) \n",
    "- FP(False Positive): 틀린 것을 맞다고 잘못 예측한것 a) 1,5,0 / b)1,0,4\n",
    "- FN(False Negative): 맞는 것을 틀렸다고 잘못 예측한 것  a)1,0,0\n",
    "ovr(over vs Rest)\n",
    "- 정확도: \n",
    "- 가장 일반적인 모델 성능 평가 지표 \n",
    "- 혼동행렬상에서는 tp를 전체 셀의 합으로 나눈 값에 해당"
   ]
  },
  {
   "cell_type": "markdown",
   "metadata": {},
   "source": [
    "<img src=\"../Data/ML.정확도.png\">"
   ]
  },
  {
   "cell_type": "code",
   "execution_count": 6,
   "metadata": {},
   "outputs": [
    {
     "name": "stdout",
     "output_type": "stream",
     "text": [
      "정확도 : 78.75%\n"
     ]
    }
   ],
   "source": [
    "print(f'정확도 : {(9+15+24+15)/80 * 100}%')"
   ]
  },
  {
   "cell_type": "markdown",
   "metadata": {},
   "source": [
    "---\n",
    "# 정밀도 (Precision)\n",
    "- 각 모델들의 예측값이 얼마나 정확하게 예측됬는가를 나타내는 지표"
   ]
  },
  {
   "cell_type": "markdown",
   "metadata": {},
   "source": [
    "<img src=\"../Data/ML.정밀도.png\">"
   ]
  },
  {
   "cell_type": "code",
   "execution_count": 8,
   "metadata": {},
   "outputs": [
    {
     "name": "stdout",
     "output_type": "stream",
     "text": [
      "A 모델의 정확도: 69.0%\n",
      "B 모델의 정확도: 71.0%\n"
     ]
    }
   ],
   "source": [
    "# 2가지 모델의 정확도\n",
    "print(f'A 모델의 정확도: {(9+60)/100 * 100}%')\n",
    "print(f'B 모델의 정확도: {(1+70)/100 * 100}%')"
   ]
  },
  {
   "cell_type": "code",
   "execution_count": 18,
   "metadata": {},
   "outputs": [
    {
     "name": "stdout",
     "output_type": "stream",
     "text": [
      "A 모델의 정밀도: 0.23076923076923078\n",
      "B 모델의 정밀도: 0.047619047619047616\n"
     ]
    }
   ],
   "source": [
    "### 2가지 모델의 정밀도 : TP/(TP +FP)\n",
    "# fp\n",
    "print(f'A 모델의 정밀도: {(9)/(9+30) }')\n",
    "print(f'B 모델의 정밀도: {(1) / (1+20)}')\n"
   ]
  },
  {
   "cell_type": "markdown",
   "metadata": {},
   "source": [
    "### 재현율(Recall)\n",
    "- 실제값 중에서 모델이 검출한 실제값의 비율을 나타내는 지표\n",
    "- 재현율 = TP / (TP + FN)"
   ]
  },
  {
   "cell_type": "markdown",
   "metadata": {},
   "source": []
  },
  {
   "cell_type": "code",
   "execution_count": 20,
   "metadata": {},
   "outputs": [
    {
     "name": "stdout",
     "output_type": "stream",
     "text": [
      "A 모델의 재현율 : 0.9\n",
      "B 모델의 재현율 : 0.1\n"
     ]
    }
   ],
   "source": [
    "print(f'A 모델의 재현율 : {(9)/(9+1) }')\n",
    "print(f'B 모델의 재현율 : {(1)/(1+9) }')"
   ]
  },
  {
   "cell_type": "markdown",
   "metadata": {},
   "source": [
    "> 암환자 재현율을 기준으로 A model이 더 우수하다."
   ]
  },
  {
   "cell_type": "markdown",
   "metadata": {},
   "source": [
    "### F1점수 (F1 score)\n",
    "- 정밀도도 중요하고 재현율도 중요한데 어떤 것을 선택할지 혼돈 시 이 두 값을 조회평균 내서 수치로 나타낸 자료를 f1 score라고 한다.\n",
    "- 조화평균 = 2  * a * b /(a +b)\n",
    "- f1점수 = 2 * 재현율 * 정밀도 / (재현율 * 정밀도)\n"
   ]
  },
  {
   "cell_type": "code",
   "execution_count": 23,
   "metadata": {},
   "outputs": [
    {
     "name": "stdout",
     "output_type": "stream",
     "text": [
      "f1 score-a: 0.3663716814159292\n",
      "f1 score-b: 0.06394557823129252\n"
     ]
    }
   ],
   "source": [
    "# 지표는 소수점 셋째자리 버림 \n",
    "# f1 score\n",
    "# a \n",
    "print(f'f1 score-a: {2 * 0.9 * 0.230 / ( 0.9+ 0.230 )}')\n",
    "print(f'f1 score-b: {2 * 0.1 * 0.047 / ( 0.1+ 0.047 )}')"
   ]
  },
  {
   "cell_type": "markdown",
   "metadata": {},
   "source": [
    "---\n",
    "### k-폴드 교차 검증(k-fold cross validation)\n",
    "- 모든 학습 데이터를 한번씩 검증 데이터로 활용해 검증 데이터가 한쪽 데이터에 편향되 있지 않아 검증데이터를 분리하지 않고도 전반적인 검증 정확도를 구분할 수 있음"
   ]
  },
  {
   "cell_type": "markdown",
   "metadata": {},
   "source": [
    "![](../Data/ML.k-foldcross.png)"
   ]
  },
  {
   "cell_type": "code",
   "execution_count": null,
   "metadata": {},
   "outputs": [],
   "source": []
  }
 ],
 "metadata": {
  "kernelspec": {
   "display_name": "Python 3.9.7 ('base')",
   "language": "python",
   "name": "python3"
  },
  "language_info": {
   "codemirror_mode": {
    "name": "ipython",
    "version": 3
   },
   "file_extension": ".py",
   "mimetype": "text/x-python",
   "name": "python",
   "nbconvert_exporter": "python",
   "pygments_lexer": "ipython3",
   "version": "3.9.7"
  },
  "orig_nbformat": 4,
  "vscode": {
   "interpreter": {
    "hash": "c34e8390e776d2ee205b71ed5a6130fee3cef8da5e87e926ce18e14f4a070d72"
   }
  }
 },
 "nbformat": 4,
 "nbformat_minor": 2
}
