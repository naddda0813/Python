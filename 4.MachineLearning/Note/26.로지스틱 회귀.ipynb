{
 "cells": [
  {
   "cell_type": "markdown",
   "metadata": {},
   "source": [
    "# 로지스틱 회귀\n",
    ": 선행 방정식을 이용해서 회귀한 단어가 있지만 실제적으로 분류(classification)에 대한 확률을 계산하는 모델\n"
   ]
  },
  {
   "cell_type": "code",
   "execution_count": 1,
   "metadata": {},
   "outputs": [],
   "source": [
    "import warnings\n",
    "warnings.filterwarnings(\"ignore\")"
   ]
  },
  {
   "cell_type": "code",
   "execution_count": 3,
   "metadata": {},
   "outputs": [
    {
     "data": {
      "text/html": [
       "<div>\n",
       "<style scoped>\n",
       "    .dataframe tbody tr th:only-of-type {\n",
       "        vertical-align: middle;\n",
       "    }\n",
       "\n",
       "    .dataframe tbody tr th {\n",
       "        vertical-align: top;\n",
       "    }\n",
       "\n",
       "    .dataframe thead th {\n",
       "        text-align: right;\n",
       "    }\n",
       "</style>\n",
       "<table border=\"1\" class=\"dataframe\">\n",
       "  <thead>\n",
       "    <tr style=\"text-align: right;\">\n",
       "      <th></th>\n",
       "      <th>Species</th>\n",
       "      <th>Weight</th>\n",
       "      <th>Length</th>\n",
       "      <th>Diagonal</th>\n",
       "      <th>Height</th>\n",
       "      <th>Width</th>\n",
       "    </tr>\n",
       "  </thead>\n",
       "  <tbody>\n",
       "    <tr>\n",
       "      <th>0</th>\n",
       "      <td>Bream</td>\n",
       "      <td>242.0</td>\n",
       "      <td>25.4</td>\n",
       "      <td>30.0</td>\n",
       "      <td>11.5200</td>\n",
       "      <td>4.0200</td>\n",
       "    </tr>\n",
       "    <tr>\n",
       "      <th>1</th>\n",
       "      <td>Bream</td>\n",
       "      <td>290.0</td>\n",
       "      <td>26.3</td>\n",
       "      <td>31.2</td>\n",
       "      <td>12.4800</td>\n",
       "      <td>4.3056</td>\n",
       "    </tr>\n",
       "    <tr>\n",
       "      <th>2</th>\n",
       "      <td>Bream</td>\n",
       "      <td>340.0</td>\n",
       "      <td>26.5</td>\n",
       "      <td>31.1</td>\n",
       "      <td>12.3778</td>\n",
       "      <td>4.6961</td>\n",
       "    </tr>\n",
       "    <tr>\n",
       "      <th>3</th>\n",
       "      <td>Bream</td>\n",
       "      <td>363.0</td>\n",
       "      <td>29.0</td>\n",
       "      <td>33.5</td>\n",
       "      <td>12.7300</td>\n",
       "      <td>4.4555</td>\n",
       "    </tr>\n",
       "    <tr>\n",
       "      <th>4</th>\n",
       "      <td>Bream</td>\n",
       "      <td>430.0</td>\n",
       "      <td>29.0</td>\n",
       "      <td>34.0</td>\n",
       "      <td>12.4440</td>\n",
       "      <td>5.1340</td>\n",
       "    </tr>\n",
       "  </tbody>\n",
       "</table>\n",
       "</div>"
      ],
      "text/plain": [
       "  Species  Weight  Length  Diagonal   Height   Width\n",
       "0   Bream   242.0    25.4      30.0  11.5200  4.0200\n",
       "1   Bream   290.0    26.3      31.2  12.4800  4.3056\n",
       "2   Bream   340.0    26.5      31.1  12.3778  4.6961\n",
       "3   Bream   363.0    29.0      33.5  12.7300  4.4555\n",
       "4   Bream   430.0    29.0      34.0  12.4440  5.1340"
      ]
     },
     "execution_count": 3,
     "metadata": {},
     "output_type": "execute_result"
    }
   ],
   "source": [
    "import pandas as pd\n",
    "fish = pd.read_csv(\"../Data/fishes.csv\")\n",
    "fish.head()"
   ]
  },
  {
   "cell_type": "code",
   "execution_count": 4,
   "metadata": {},
   "outputs": [
    {
     "data": {
      "text/plain": [
       "array(['Bream', 'Roach', 'Whitefish', 'Parkki', 'Perch', 'Pike', 'Smelt'],\n",
       "      dtype=object)"
      ]
     },
     "execution_count": 4,
     "metadata": {},
     "output_type": "execute_result"
    }
   ],
   "source": [
    "# target으로 사용될 Species의 종류 알아보기 \n",
    "fish.Species.unique()"
   ]
  },
  {
   "cell_type": "markdown",
   "metadata": {},
   "source": [
    "# feature와 target Data 정리하기"
   ]
  },
  {
   "cell_type": "code",
   "execution_count": 5,
   "metadata": {},
   "outputs": [],
   "source": [
    "import numpy as np"
   ]
  },
  {
   "cell_type": "code",
   "execution_count": 9,
   "metadata": {},
   "outputs": [
    {
     "data": {
      "text/plain": [
       "array([[242.    ,  25.4   ,  30.    ,  11.52  ,   4.02  ],\n",
       "       [290.    ,  26.3   ,  31.2   ,  12.48  ,   4.3056],\n",
       "       [340.    ,  26.5   ,  31.1   ,  12.3778,   4.6961],\n",
       "       [363.    ,  29.    ,  33.5   ,  12.73  ,   4.4555],\n",
       "       [430.    ,  29.    ,  34.    ,  12.444 ,   5.134 ]])"
      ]
     },
     "execution_count": 9,
     "metadata": {},
     "output_type": "execute_result"
    }
   ],
   "source": [
    "# feature data\n",
    "# array로 \n",
    "fish_input = fish[['Weight',\"Length\",\"Diagonal\",\"Height\",\"Width\"]].to_numpy()\n",
    "fish_input[:5]"
   ]
  },
  {
   "cell_type": "code",
   "execution_count": 11,
   "metadata": {},
   "outputs": [
    {
     "data": {
      "text/plain": [
       "array(['Bream', 'Bream', 'Bream', 'Bream', 'Bream'], dtype=object)"
      ]
     },
     "execution_count": 11,
     "metadata": {},
     "output_type": "execute_result"
    }
   ],
   "source": [
    "# target data\n",
    "fish_target = fish['Species'].to_numpy()\n",
    "fish_target[:5]"
   ]
  },
  {
   "cell_type": "markdown",
   "metadata": {},
   "source": [
    "### train과 test 분리하기 "
   ]
  },
  {
   "cell_type": "code",
   "execution_count": 12,
   "metadata": {},
   "outputs": [],
   "source": [
    "from sklearn.model_selection import train_test_split"
   ]
  },
  {
   "cell_type": "code",
   "execution_count": 13,
   "metadata": {},
   "outputs": [],
   "source": [
    "train_input,test_input,train_target,test_target = train_test_split(\n",
    "    fish_input,fish_target,random_state = 42\n",
    ")"
   ]
  },
  {
   "cell_type": "markdown",
   "metadata": {},
   "source": [
    ": 각 컬럼별 데이터 크기가 너무 차이 난다 \n",
    "=> 표준화"
   ]
  },
  {
   "cell_type": "code",
   "execution_count": 17,
   "metadata": {},
   "outputs": [],
   "source": [
    "from sklearn.preprocessing import StandardScaler\n",
    "ss= StandardScaler()"
   ]
  },
  {
   "cell_type": "code",
   "execution_count": 18,
   "metadata": {},
   "outputs": [],
   "source": [
    "train_scaled = ss.fit_transform(train_input)\n",
    "test_scaled = ss.fit_transform(test_input)"
   ]
  },
  {
   "cell_type": "code",
   "execution_count": 19,
   "metadata": {},
   "outputs": [
    {
     "data": {
      "text/plain": [
       "array([[ 0.91965782,  0.60943175,  0.81041221,  1.85194896,  1.00075672],\n",
       "       [ 0.30041219,  1.54653445,  1.45316551, -0.46981663,  0.27291745],\n",
       "       [-1.0858536 , -1.68646987, -1.70848587, -1.70159849, -2.0044758 ],\n",
       "       [-0.79734143, -0.60880176, -0.67486907, -0.82480589, -0.27631471],\n",
       "       [-0.71289885, -0.73062511, -0.70092664, -0.0802298 , -0.7033869 ]])"
      ]
     },
     "execution_count": 19,
     "metadata": {},
     "output_type": "execute_result"
    }
   ],
   "source": [
    "train_scaled[:5]"
   ]
  },
  {
   "cell_type": "markdown",
   "metadata": {},
   "source": [
    "---\n",
    "### knn을 이용한 확률 예측"
   ]
  },
  {
   "cell_type": "code",
   "execution_count": 21,
   "metadata": {},
   "outputs": [
    {
     "name": "stdout",
     "output_type": "stream",
     "text": [
      "train score :  0.8907563025210085\n",
      "test score :  0.875\n"
     ]
    }
   ],
   "source": [
    "from sklearn.neighbors import  KNeighborsClassifier\n",
    "\n",
    "kn = KNeighborsClassifier(n_neighbors=3)\n",
    "kn.fit(train_scaled,train_target)\n",
    "\n",
    "print(\"train score : \",kn.score(train_scaled,train_target))\n",
    "print(\"test score : \",kn.score(test_scaled,test_target))"
   ]
  },
  {
   "cell_type": "code",
   "execution_count": 22,
   "metadata": {},
   "outputs": [
    {
     "data": {
      "text/plain": [
       "array(['Bream', 'Parkki', 'Perch', 'Pike', 'Roach', 'Smelt', 'Whitefish'],\n",
       "      dtype=object)"
      ]
     },
     "execution_count": 22,
     "metadata": {},
     "output_type": "execute_result"
    }
   ],
   "source": [
    "# kn의 분류 정보보기 \n",
    "kn.classes_"
   ]
  },
  {
   "cell_type": "code",
   "execution_count": 23,
   "metadata": {},
   "outputs": [
    {
     "data": {
      "text/plain": [
       "array(['Perch', 'Smelt', 'Pike', 'Perch', 'Perch'], dtype=object)"
      ]
     },
     "execution_count": 23,
     "metadata": {},
     "output_type": "execute_result"
    }
   ],
   "source": [
    "# test data \n",
    "kn.predict(test_scaled[:5])"
   ]
  },
  {
   "cell_type": "code",
   "execution_count": 24,
   "metadata": {},
   "outputs": [
    {
     "data": {
      "text/plain": [
       "array([[0.    , 0.    , 1.    , 0.    , 0.    , 0.    , 0.    ],\n",
       "       [0.    , 0.    , 0.3333, 0.    , 0.    , 0.6667, 0.    ],\n",
       "       [0.    , 0.    , 0.    , 1.    , 0.    , 0.    , 0.    ],\n",
       "       [0.    , 0.    , 0.6667, 0.    , 0.3333, 0.    , 0.    ],\n",
       "       [0.    , 0.    , 0.6667, 0.    , 0.3333, 0.    , 0.    ]])"
      ]
     },
     "execution_count": 24,
     "metadata": {},
     "output_type": "execute_result"
    }
   ],
   "source": [
    "# test data의 확률 예측값 보기 \n",
    "import numpy as np\n",
    "\n",
    "proba = kn.predict_proba(test_scaled[:5])\n",
    "np.round(proba,decimals=4) # 소수점 이하 4자리로 정리 "
   ]
  },
  {
   "cell_type": "markdown",
   "metadata": {},
   "source": [
    "> 첫번째 줄에 1은 Perch라고 100퍼센트 예측 \n",
    "> 두번째 줄에 0.6667은 Smelt라 예측 \n",
    "> 3가지로 나누어 확률 계산 "
   ]
  },
  {
   "cell_type": "code",
   "execution_count": 28,
   "metadata": {},
   "outputs": [
    {
     "data": {
      "text/plain": [
       "array([[115, 104,  23]])"
      ]
     },
     "execution_count": 28,
     "metadata": {},
     "output_type": "execute_result"
    }
   ],
   "source": [
    "# test data의 3번째에 대한 이웃들을 알아보기 \n",
    "distance, indexes = kn.kneighbors(test_scaled[3:4])\n",
    "indexes"
   ]
  },
  {
   "cell_type": "code",
   "execution_count": 29,
   "metadata": {},
   "outputs": [
    {
     "data": {
      "text/plain": [
       "array([['Perch', 'Roach', 'Perch']], dtype=object)"
      ]
     },
     "execution_count": 29,
     "metadata": {},
     "output_type": "execute_result"
    }
   ],
   "source": [
    "train_target[indexes]\n",
    "# Perch라 예측"
   ]
  },
  {
   "cell_type": "markdown",
   "metadata": {},
   "source": [
    "> KNN은 이웃의 갯수를 정하는 모델이다\n",
    "\n",
    "> 현재 이웃의 갯수를 3으로 하였기 때문에 확률로 나올 수 있는 경우의 수는 3가지 (1/3,2/3,3/3)이다.\n"
   ]
  },
  {
   "cell_type": "markdown",
   "metadata": {},
   "source": [
    "---\n",
    "# 로지스틱 회귀를 이용한 확률 예측\n",
    "- 데이터의 각 컬럼을 새로운 변수로 사용하는 다중회귀를 이용한 확률\n",
    "- 회귀식을 사용해서 로지스틱 회귀라고 하나 실질적으로 확률을 예측하느 모델임\n",
    "- 선형 회귀식에서 출발하였고 딥러닝 모델의 기반임."
   ]
  },
  {
   "cell_type": "markdown",
   "metadata": {},
   "source": [
    "기본적으로 위의 데이터를 보면<br>\n",
    "z = a * 무게 + b * 길이 + c * 대각선 + d * 높이 + e* 두께 + f 로 구성됨<br>\n",
    "위의 z식을 이용하면 나오는 결과값은 -무한대 ~ +무한대의 범위로 결과값이 출력된다.<br>\n",
    "이를 해결하는 방법이 sigmoid 함수를 사용한다.<br>\n",
    "sigmoid 함수는 결과값이 0~1.0 사이의 수만 출력하므로 0.5를 기준으로 양성클래스(1), 음성클래스(0)를 분류한다.<br>\n",
    "로지스틱 회귀를 사용할 경우에는 이 sigmoid 함수를 로지스틱 함수라고 표현한다."
   ]
  },
  {
   "cell_type": "code",
   "execution_count": 34,
   "metadata": {},
   "outputs": [
    {
     "data": {
      "image/png": "[encoded data removed]",
      "text/plain": [
       "<Figure size 432x288 with 1 Axes>"
      ]
     },
     "metadata": {
      "needs_background": "light"
     },
     "output_type": "display_data"
    }
   ],
   "source": [
    "# Sigmoid Graph 출력\n",
    "import matplotlib.pyplot as plt\n",
    "\n",
    "z = np.arange(-5,5,0.1)\n",
    "y = np.full((100,1),0.5)\n",
    "# 0.5를 100행 1열을 만든다.\n",
    "phi = 1 / (1 + np.exp(-z))\n",
    "plt.plot(z,phi)\n",
    "plt.plot(z,y,c=\"r\")\n",
    "plt.show()\n"
   ]
  },
  {
   "cell_type": "markdown",
   "metadata": {},
   "source": [
    "\n",
    "> 실직적으로 x의 값이 0 이상(y=0.5이상)이면 양성클래스로, 0이하이면 음성클래스로 분류하여 이를 이용하는 것이 predict함수이며<br>\n",
    "> (y를 기준으로)\n",
    "> 각각의 확률수치를 알아보는 것이 predict_proba 함수이다."
   ]
  },
  {
   "cell_type": "markdown",
   "metadata": {},
   "source": [
    "> sigmoid 함수로 시각화를 적용한 뒤 predict 함수를 적용하여 predict_proba의 확률은 본다 "
   ]
  },
  {
   "cell_type": "markdown",
   "metadata": {},
   "source": [
    "---\n",
    "### 로지스틱 회귀로 이진분류 수행하기 "
   ]
  },
  {
   "cell_type": "code",
   "execution_count": 38,
   "metadata": {},
   "outputs": [
    {
     "name": "stdout",
     "output_type": "stream",
     "text": [
      "[[ 0.91965782  0.60943175  0.81041221  1.85194896  1.00075672]\n",
      " [-1.0858536  -1.68646987 -1.70848587 -1.70159849 -2.0044758 ]\n",
      " [ 0.63818253  0.56257661  0.73223951  1.64473401  0.50705737]\n",
      " [ 0.30041219  0.23459067  0.42823457  1.36042157  0.22329758]\n",
      " [ 0.9027693   0.70314202  0.88858491  1.89027545  0.85537174]]\n",
      "['Bream' 'Smelt' 'Bream' 'Bream' 'Bream']\n"
     ]
    }
   ],
   "source": [
    "# 2종류의 데이터만 발췌하기 \n",
    "bream_smelt_indexed = (train_target == \"Bream\" ) |  (train_target == \"Smelt\" )\n",
    "# 표준화 적용 \n",
    "train_bream_smelt = train_scaled[bream_smelt_indexed]\n",
    "target_bream_smelt = train_target[bream_smelt_indexed]\n",
    "print(train_bream_smelt[:5])\n",
    "print(target_bream_smelt[:5])"
   ]
  },
  {
   "cell_type": "code",
   "execution_count": 39,
   "metadata": {},
   "outputs": [
    {
     "data": {
      "text/plain": [
       "LogisticRegression()"
      ]
     },
     "execution_count": 39,
     "metadata": {},
     "output_type": "execute_result"
    }
   ],
   "source": [
    "# 로지스틱 회귀 실행하기\n",
    "from sklearn.linear_model import LogisticRegression\n",
    "lr  = LogisticRegression()\n",
    "lr.fit(train_bream_smelt,target_bream_smelt)"
   ]
  },
  {
   "cell_type": "code",
   "execution_count": 40,
   "metadata": {},
   "outputs": [
    {
     "data": {
      "text/plain": [
       "array(['Bream', 'Smelt', 'Bream', 'Bream', 'Bream'], dtype=object)"
      ]
     },
     "execution_count": 40,
     "metadata": {},
     "output_type": "execute_result"
    }
   ],
   "source": [
    "lr.predict(train_bream_smelt[:5])"
   ]
  },
  {
   "cell_type": "code",
   "execution_count": 44,
   "metadata": {},
   "outputs": [
    {
     "data": {
      "text/plain": [
       "array(['Bream', 'Smelt'], dtype=object)"
      ]
     },
     "execution_count": 44,
     "metadata": {},
     "output_type": "execute_result"
    }
   ],
   "source": [
    "# 예측 순서 보기 \n",
    "lr.classes_"
   ]
  },
  {
   "cell_type": "code",
   "execution_count": 43,
   "metadata": {},
   "outputs": [
    {
     "data": {
      "text/plain": [
       "array([[0.99759855, 0.00240145],\n",
       "       [0.02735183, 0.97264817],\n",
       "       [0.99486072, 0.00513928],\n",
       "       [0.98584202, 0.01415798],\n",
       "       [0.99767269, 0.00232731]])"
      ]
     },
     "execution_count": 43,
     "metadata": {},
     "output_type": "execute_result"
    }
   ],
   "source": [
    "#  확률값으로 보기 \n",
    "lr.predict_proba(train_bream_smelt[:5])"
   ]
  },
  {
   "cell_type": "code",
   "execution_count": 46,
   "metadata": {},
   "outputs": [
    {
     "name": "stdout",
     "output_type": "stream",
     "text": [
      "[[-0.4037798  -0.57620209 -0.66280298 -1.01290277 -0.73168947]]\n",
      "[-2.16155132]\n"
     ]
    }
   ],
   "source": [
    "# 회귀식의 기울기(가중치: weight) \n",
    "print(lr.coef_)\n",
    "# 회귀식의 절편(bias)\n",
    "# list 형태로 출력되서 여러개의 절편으로 나올 수 있다 \n",
    "print(lr.intercept_)"
   ]
  },
  {
   "cell_type": "code",
   "execution_count": 48,
   "metadata": {},
   "outputs": [
    {
     "name": "stdout",
     "output_type": "stream",
     "text": [
      "[-6.02927744  3.57123907 -5.26568906 -4.24321775 -6.0607117 ]\n"
     ]
    }
   ],
   "source": [
    "# 다중식으로 계산 \n",
    "# 공식에서의 y값\n",
    "decision = lr.decision_function(train_bream_smelt[:5])\n",
    "print(decision)"
   ]
  },
  {
   "cell_type": "code",
   "execution_count": 51,
   "metadata": {},
   "outputs": [
    {
     "name": "stdout",
     "output_type": "stream",
     "text": [
      "[0.00240145 0.97264817 0.00513928 0.01415798 0.00232731]\n",
      "[0.99759855 0.02735183 0.99486072 0.98584202 0.99767269]\n"
     ]
    }
   ],
   "source": [
    "# sigmoid 함수에 대입하여 확률값을 구성한다.\n",
    "from scipy.special import expit\n",
    "print(expit(decision))  \n",
    "# 1의 값 = bream \n",
    "# expit(decision)는 양성클래스를 기준으로 출력한다\n",
    "print(1- expit(decision))\n",
    "# 0의 값 =smelt "
   ]
  },
  {
   "cell_type": "markdown",
   "metadata": {},
   "source": [
    "array[1] = bream 의 값 출력 <br>\n",
    "array[0] = smelt의 값 출력 "
   ]
  },
  {
   "cell_type": "markdown",
   "metadata": {},
   "source": [
    ">array([[0.99759855, 0.00240145], <br>\n",
    "       [0.02735183, 0.97264817],<br>\n",
    "       [0.99486072, 0.00513928],<br>\n",
    "       [0.98584202, 0.01415798],<br>\n",
    "       [0.99767269, 0.00232731]])<br>"
   ]
  },
  {
   "cell_type": "markdown",
   "metadata": {},
   "source": [
    "---\n",
    "### 로지스틱 회귀로 다중 분류 수행하기 \n"
   ]
  },
  {
   "cell_type": "code",
   "execution_count": 65,
   "metadata": {},
   "outputs": [
    {
     "name": "stdout",
     "output_type": "stream",
     "text": [
      "train score: 0.9327731092436975\n",
      "test score: 0.925\n"
     ]
    }
   ],
   "source": [
    "lr = LogisticRegression(C = 20, max_iter=100)\n",
    "# C: 규제(릿지규제)값이며 기본은 1이다. 적은 수가 강한 규제 의미이다.\n",
    "# max_iter : 반복횟수, 모델의 정확성을 유지하기 위해 반복작업을 실시, 기본값은 100 \n",
    "lr.fit(train_scaled,train_target)\n",
    "print(\"train score:\",lr.score(train_scaled,train_target))\n",
    "print(\"test score:\",lr.score(test_scaled,test_target))"
   ]
  },
  {
   "cell_type": "code",
   "execution_count": 66,
   "metadata": {},
   "outputs": [
    {
     "data": {
      "text/plain": [
       "array(['Perch', 'Smelt', 'Pike', 'Roach', 'Perch'], dtype=object)"
      ]
     },
     "execution_count": 66,
     "metadata": {},
     "output_type": "execute_result"
    }
   ],
   "source": [
    "# test data로 예측 \n",
    "lr.predict(test_scaled[:5])"
   ]
  },
  {
   "cell_type": "code",
   "execution_count": 69,
   "metadata": {},
   "outputs": [
    {
     "data": {
      "text/plain": [
       "array(['Bream', 'Parkki', 'Perch', 'Pike', 'Roach', 'Smelt', 'Whitefish'],\n",
       "      dtype=object)"
      ]
     },
     "execution_count": 69,
     "metadata": {},
     "output_type": "execute_result"
    }
   ],
   "source": [
    "# 예측순서\n",
    "lr.classes_"
   ]
  },
  {
   "cell_type": "code",
   "execution_count": 68,
   "metadata": {},
   "outputs": [
    {
     "data": {
      "text/plain": [
       "array([[0.   , 0.013, 0.802, 0.   , 0.178, 0.003, 0.004],\n",
       "       [0.   , 0.021, 0.148, 0.   , 0.054, 0.777, 0.   ],\n",
       "       [0.   , 0.   , 0.049, 0.919, 0.021, 0.01 , 0.   ],\n",
       "       [0.005, 0.012, 0.4  , 0.007, 0.516, 0.   , 0.061],\n",
       "       [0.   , 0.   , 0.879, 0.002, 0.115, 0.001, 0.002]])"
      ]
     },
     "execution_count": 68,
     "metadata": {},
     "output_type": "execute_result"
    }
   ],
   "source": [
    "proba = lr.predict_proba(test_scaled[:5])\n",
    "np.round(proba, decimals=3) # decimals 소수점 3자리에서 반올림"
   ]
  },
  {
   "cell_type": "markdown",
   "metadata": {},
   "source": [
    "> 첫번째줄은 perch일 확률 0.802"
   ]
  },
  {
   "cell_type": "code",
   "execution_count": 73,
   "metadata": {},
   "outputs": [
    {
     "name": "stdout",
     "output_type": "stream",
     "text": [
      "[[-1.4905421  -1.03388688  2.5981309   7.7010905  -1.19898821]\n",
      " [ 0.19743003 -2.00430042 -3.78377532  6.50494946 -1.99725866]\n",
      " [ 3.56169555  6.34534789 -8.49297599 -5.75593302  3.79378676]\n",
      " [-0.10575561  3.60083391  3.93006894 -3.61334796 -1.75124966]\n",
      " [-1.39815543 -6.07665211  5.2587158  -0.87346372  1.86121086]\n",
      " [-1.38756983  1.49434369  1.39400626 -5.67679984 -4.40003784]\n",
      " [ 0.6228974  -2.32568608 -0.90417059  1.71350459  3.69253675]]\n",
      "[-0.09382676 -0.2634882   3.24915811 -0.14626884  2.65333107 -6.78287518\n",
      "  1.38396979]\n"
     ]
    }
   ],
   "source": [
    "# 사용된 다중 공식\n",
    "# 가중치\n",
    "print(lr.coef_ )\n",
    "# 절편 \n",
    "print(lr.intercept_)"
   ]
  },
  {
   "cell_type": "markdown",
   "metadata": {},
   "source": [
    "> 다중회귀인 경우에는 각 샘플별(머신러닝에서 클래스)로 회귀식으로 구성하여 계산한다.<br>\n",
    "> 이진분류와 같이 클래스 하나를 계산하여 나머지 클래스(classification)를 1에서 빼기를 통한 확률로는 구할 수 없어서 <br>\n",
    "> 각 컬럼과 target을 일일이 계산하여야 한다. <br>"
   ]
  },
  {
   "cell_type": "markdown",
   "metadata": {},
   "source": [
    "\n",
    "#### 샘플: 딥러닝에서는 레코드 "
   ]
  },
  {
   "cell_type": "code",
   "execution_count": 75,
   "metadata": {},
   "outputs": [
    {
     "name": "stdout",
     "output_type": "stream",
     "text": [
      "[[-6.06  0.96  5.08 -2.93  3.58 -0.47 -0.16]\n",
      " [-9.64  2.36  4.33 -3.13  3.33  5.99 -3.25]\n",
      " [-4.06 -6.27  3.31  6.24  2.48  1.74 -3.44]\n",
      " [-1.22 -0.3   3.2  -0.88  3.45 -5.56  1.31]\n",
      " [-5.95 -1.99  5.7  -0.3   3.66 -0.8  -0.32]]\n"
     ]
    }
   ],
   "source": [
    "# 확률 분포 검증\n",
    "# 공식에서의 y값\n",
    "decision = lr.decision_function(test_scaled[:5])\n",
    "print(np.round(decision, decimals=2))"
   ]
  },
  {
   "cell_type": "markdown",
   "metadata": {},
   "source": [
    "> 계산할 항목이 여러개이므로  이를 sigmoid를 사용하면 각자의 값이 생성되어 확률의 합의 1이 넘는 경우가 발생한다.\n",
    "> 다중 항목인 경우에는 softmax를 사용한다."
   ]
  },
  {
   "cell_type": "markdown",
   "metadata": {},
   "source": [
    "# SoftMax 함수"
   ]
  },
  {
   "cell_type": "code",
   "execution_count": 76,
   "metadata": {},
   "outputs": [
    {
     "name": "stdout",
     "output_type": "stream",
     "text": [
      "[[0.    0.013 0.802 0.    0.178 0.003 0.004]\n",
      " [0.    0.021 0.148 0.    0.054 0.777 0.   ]\n",
      " [0.    0.    0.049 0.919 0.021 0.01  0.   ]\n",
      " [0.005 0.012 0.4   0.007 0.516 0.    0.061]\n",
      " [0.    0.    0.879 0.002 0.115 0.001 0.002]]\n"
     ]
    }
   ],
   "source": [
    "from scipy.special import softmax\n",
    "\n",
    "proba = softmax(decision,axis=1)  # 열의 방향 \n",
    "print(np.round(proba,decimals=3))"
   ]
  },
  {
   "cell_type": "code",
   "execution_count": 77,
   "metadata": {},
   "outputs": [
    {
     "name": "stdout",
     "output_type": "stream",
     "text": [
      "[[2.32510506e-03 7.22385129e-01 9.93847747e-01 5.08170284e-02\n",
      "  9.72794997e-01 3.84687241e-01 4.60301367e-01]\n",
      " [6.53446963e-05 9.13936933e-01 9.87005990e-01 4.19529781e-02\n",
      "  9.65469739e-01 9.97497886e-01 3.74115974e-02]\n",
      " [1.69938531e-02 1.89273157e-03 9.64820270e-01 9.98049683e-01\n",
      "  9.22527932e-01 8.50088465e-01 3.11838360e-02]\n",
      " [2.28470897e-01 4.26330318e-01 9.60712552e-01 2.92610991e-01\n",
      "  9.69259386e-01 3.82833744e-03 7.87565500e-01]\n",
      " [2.59343014e-03 1.20729776e-01 9.96657752e-01 4.24760163e-01\n",
      "  9.74910118e-01 3.10290278e-01 4.21186416e-01]]\n"
     ]
    }
   ],
   "source": [
    "# sigmoid 함수에 대입하여 확률값을 구성한다.\n",
    "from scipy.special import expit\n",
    "print(expit(decision))  \n",
    "# 이렇게 데이터가 둘이 아니라 둘 이상일 때는 sigmoid 를 못 씀."
   ]
  },
  {
   "cell_type": "code",
   "execution_count": null,
   "metadata": {},
   "outputs": [],
   "source": []
  },
  {
   "cell_type": "code",
   "execution_count": null,
   "metadata": {},
   "outputs": [],
   "source": []
  },
  {
   "cell_type": "code",
   "execution_count": null,
   "metadata": {},
   "outputs": [],
   "source": []
  }
 ],
 "metadata": {
  "kernelspec": {
   "display_name": "Python 3.9.7 ('base')",
   "language": "python",
   "name": "python3"
  },
  "language_info": {
   "codemirror_mode": {
    "name": "ipython",
    "version": 3
   },
   "file_extension": ".py",
   "mimetype": "text/x-python",
   "name": "python",
   "nbconvert_exporter": "python",
   "pygments_lexer": "ipython3",
   "version": "3.9.7"
  },
  "orig_nbformat": 4,
  "vscode": {
   "interpreter": {
    "hash": "c34e8390e776d2ee205b71ed5a6130fee3cef8da5e87e926ce18e14f4a070d72"
   }
  }
 },
 "nbformat": 4,
 "nbformat_minor": 2
}
