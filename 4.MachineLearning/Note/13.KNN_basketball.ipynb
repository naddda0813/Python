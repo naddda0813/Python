{
 "cells": [
  {
   "cell_type": "markdown",
   "metadata": {},
   "source": [
    "# KNN으로 포지션 예측하기 "
   ]
  },
  {
   "cell_type": "code",
   "execution_count": 34,
   "metadata": {},
   "outputs": [],
   "source": [
    "# random값을 정하기\n",
    "#수업중에만\n",
    "import numpy as np\n",
    "np.random.seed(5)"
   ]
  },
  {
   "cell_type": "code",
   "execution_count": 35,
   "metadata": {},
   "outputs": [],
   "source": [
    "import pandas as pd"
   ]
  },
  {
   "cell_type": "code",
   "execution_count": 36,
   "metadata": {},
   "outputs": [],
   "source": [
    "train = pd.read_csv(\"../Data/basketball_train.csv\")\n",
    "test = pd.read_csv(\"../Data/basketball_test.csv\")"
   ]
  },
  {
   "cell_type": "code",
   "execution_count": 37,
   "metadata": {},
   "outputs": [
    {
     "name": "stdout",
     "output_type": "stream",
     "text": [
      "(80, 5)\n",
      "Player    80\n",
      "Pos       80\n",
      "3P        80\n",
      "TRB       80\n",
      "BLK       80\n",
      "dtype: int64\n",
      "Player    0\n",
      "Pos       0\n",
      "3P        0\n",
      "TRB       0\n",
      "BLK       0\n",
      "dtype: int64\n"
     ]
    }
   ],
   "source": [
    "print(train.shape)\n",
    "print(train.count())\n",
    "print(train.isnull().sum())"
   ]
  },
  {
   "cell_type": "code",
   "execution_count": 38,
   "metadata": {},
   "outputs": [
    {
     "name": "stdout",
     "output_type": "stream",
     "text": [
      "(20, 5)\n",
      "Player    20\n",
      "Pos       20\n",
      "3P        20\n",
      "TRB       20\n",
      "BLK       20\n",
      "dtype: int64\n",
      "Player    0\n",
      "Pos       0\n",
      "3P        0\n",
      "TRB       0\n",
      "BLK       0\n",
      "dtype: int64\n"
     ]
    }
   ],
   "source": [
    "print(test.shape)\n",
    "print(test.count())\n",
    "print(test.isnull().sum())"
   ]
  },
  {
   "cell_type": "markdown",
   "metadata": {},
   "source": [
    "### 최적의 k 찾기 (교차검증- cross validation)"
   ]
  },
  {
   "cell_type": "code",
   "execution_count": 39,
   "metadata": {},
   "outputs": [],
   "source": [
    "from sklearn.neighbors  import KNeighborsClassifier\n",
    "# 교차검증 \n",
    "from sklearn.model_selection import cross_val_score"
   ]
  },
  {
   "cell_type": "code",
   "execution_count": 40,
   "metadata": {},
   "outputs": [
    {
     "data": {
      "text/plain": [
       "40"
      ]
     },
     "execution_count": 40,
     "metadata": {},
     "output_type": "execute_result"
    }
   ],
   "source": [
    "# 쵀적의 k를 찾기 위해 교차 검증을 수행할 k의 범위를 3부터 하여 학습데이터의 절반( 3은 1다음의 홀수)\n",
    "# 몫 정수형 \n",
    "max_k_range = train.shape[0] // 2 \n",
    "# 80 // 2 \n",
    "max_k_range"
   ]
  },
  {
   "cell_type": "code",
   "execution_count": 41,
   "metadata": {},
   "outputs": [
    {
     "data": {
      "text/plain": [
       "[3, 5, 7, 9, 11, 13, 15, 17, 19, 21, 23, 25, 27, 29, 31, 33, 35, 37, 39]"
      ]
     },
     "execution_count": 41,
     "metadata": {},
     "output_type": "execute_result"
    }
   ],
   "source": [
    "# 최적의 k를 찾기 위한 범위 확인 (3~ 40)\n",
    "k_list = []\n",
    "\n",
    "for i in range(3,max_k_range,2):  # 2= 증가값\n",
    "    k_list.append(i)\n",
    "\n",
    "k_list"
   ]
  },
  {
   "cell_type": "code",
   "execution_count": 42,
   "metadata": {},
   "outputs": [
    {
     "name": "stdout",
     "output_type": "stream",
     "text": [
      "    3P  BLK  TRB\n",
      "0  1.4  0.7  3.2\n",
      "1  1.8  0.1  3.3\n",
      "2  2.9  0.3  3.1\n",
      "3  1.6  0.4  5.9\n",
      "4  0.0  0.8  6.5\n",
      "0    SG\n",
      "1    SG\n",
      "2    SG\n",
      "3    SG\n",
      "4     C\n",
      "Name: Pos, dtype: object\n"
     ]
    }
   ],
   "source": [
    "# 점수 및 Train Data 정의  \n",
    "cross_validation_scores = []\n",
    "# 문제\n",
    "x_train = train[['3P','BLK','TRB']]\n",
    "# 정답 \n",
    "y_train = train['Pos']\n",
    "\n",
    "print(x_train.head())\n",
    "print(y_train.head())"
   ]
  },
  {
   "cell_type": "markdown",
   "metadata": {},
   "source": [
    "---"
   ]
  },
  {
   "cell_type": "code",
   "execution_count": 43,
   "metadata": {},
   "outputs": [
    {
     "data": {
      "text/plain": [
       "[0.8875,\n",
       " 0.9,\n",
       " 0.9125,\n",
       " 0.925,\n",
       " 0.9,\n",
       " 0.9,\n",
       " 0.9,\n",
       " 0.8875,\n",
       " 0.8875,\n",
       " 0.8875,\n",
       " 0.875,\n",
       " 0.8875,\n",
       " 0.875,\n",
       " 0.85,\n",
       " 0.85,\n",
       " 0.85,\n",
       " 0.85,\n",
       " 0.85,\n",
       " 0.85]"
      ]
     },
     "execution_count": 43,
     "metadata": {},
     "output_type": "execute_result"
    }
   ],
   "source": [
    "# 교차검증(10-fold)을 각 k를 대상으로 수행해 검증 결과를 저장\n",
    " \n",
    "for k in k_list:\n",
    "    knn = KNeighborsClassifier(n_neighbors=k)\n",
    "    scores = cross_val_score(\n",
    "        knn, # model name\n",
    "        x_train,\n",
    "        y_train,\n",
    "        cv = 10, # cv:cross validation 횟수 \n",
    "        # 10개를 학습용과 validate용, test용으로 나눔 \n",
    "        scoring=\"accuracy\"      # 정확도 \n",
    "    )\n",
    "    cross_validation_scores.append(scores.mean())\n",
    "\n",
    "cross_validation_scores"
   ]
  },
  {
   "cell_type": "code",
   "execution_count": 44,
   "metadata": {},
   "outputs": [
    {
     "data": {
      "image/png": "[encoded data removed]",
      "text/plain": [
       "<Figure size 432x288 with 1 Axes>"
      ]
     },
     "metadata": {
      "needs_background": "light"
     },
     "output_type": "display_data"
    }
   ],
   "source": [
    "# k에 따른 정확도를 시각화\n",
    "import matplotlib.pyplot as plt\n",
    "\n",
    "plt.plot(k_list,cross_validation_scores)\n",
    "plt.xlabel(\"the number of k\")\n",
    "plt.ylabel(\"Accuracy\")\n",
    "\n",
    "plt.show()"
   ]
  },
  {
   "cell_type": "code",
   "execution_count": 48,
   "metadata": {},
   "outputs": [
    {
     "name": "stdout",
     "output_type": "stream",
     "text": [
      "The best number of k is 9\n"
     ]
    }
   ],
   "source": [
    "# 가장 예측율이 높은 k를 선정\n",
    "cvs = cross_validation_scores\n",
    "k = k_list[cvs.index(max(cross_validation_scores))]\n",
    "print(\"The best number of k is\",k)"
   ]
  },
  {
   "cell_type": "markdown",
   "metadata": {},
   "source": [
    "---\n",
    "### 2개의 특징으로 예측하기(3점슛, 블로킹)"
   ]
  },
  {
   "cell_type": "code",
   "execution_count": 49,
   "metadata": {},
   "outputs": [],
   "source": [
    "from sklearn.neighbors import KNeighborsClassifier"
   ]
  },
  {
   "cell_type": "code",
   "execution_count": 50,
   "metadata": {},
   "outputs": [],
   "source": [
    "knn = KNeighborsClassifier(n_neighbors=k)"
   ]
  },
  {
   "cell_type": "code",
   "execution_count": 51,
   "metadata": {},
   "outputs": [],
   "source": [
    "# 학습에 사용할 features\n",
    "x_train = train[['3P','BLK']]"
   ]
  },
  {
   "cell_type": "code",
   "execution_count": 52,
   "metadata": {},
   "outputs": [],
   "source": [
    "# 학습에 사용할 target\n",
    "y_train = train['Pos']"
   ]
  },
  {
   "cell_type": "code",
   "execution_count": 55,
   "metadata": {},
   "outputs": [
    {
     "data": {
      "text/plain": [
       "KNeighborsClassifier(n_neighbors=9)"
      ]
     },
     "execution_count": 55,
     "metadata": {},
     "output_type": "execute_result"
    }
   ],
   "source": [
    "# 학습시키기\n",
    "knn.fit(x_train, y_train)"
   ]
  },
  {
   "cell_type": "code",
   "execution_count": 56,
   "metadata": {},
   "outputs": [],
   "source": [
    "# 검증에 사용할 features\n",
    "x_test = test[['3P','BLK']]"
   ]
  },
  {
   "cell_type": "code",
   "execution_count": 57,
   "metadata": {},
   "outputs": [],
   "source": [
    "# 검증에 정답\n",
    "y_test = test['Pos']"
   ]
  },
  {
   "cell_type": "code",
   "execution_count": 58,
   "metadata": {},
   "outputs": [
    {
     "data": {
      "text/plain": [
       "0.95"
      ]
     },
     "execution_count": 58,
     "metadata": {},
     "output_type": "execute_result"
    }
   ],
   "source": [
    "knn.score(x_test,y_test)"
   ]
  },
  {
   "cell_type": "code",
   "execution_count": 60,
   "metadata": {},
   "outputs": [
    {
     "data": {
      "text/plain": [
       "array(['SG', 'SG', 'C', 'SG', 'SG', 'SG', 'SG', 'C', 'SG', 'SG', 'SG',\n",
       "       'C', 'C', 'C', 'SG', 'SG', 'SG', 'C', 'SG', 'SG'], dtype=object)"
      ]
     },
     "execution_count": 60,
     "metadata": {},
     "output_type": "execute_result"
    }
   ],
   "source": [
    "# 예측\n",
    "pred = knn.predict(x_test)\n",
    "pred"
   ]
  },
  {
   "cell_type": "code",
   "execution_count": 61,
   "metadata": {},
   "outputs": [
    {
     "data": {
      "text/html": [
       "<div>\n",
       "<style scoped>\n",
       "    .dataframe tbody tr th:only-of-type {\n",
       "        vertical-align: middle;\n",
       "    }\n",
       "\n",
       "    .dataframe tbody tr th {\n",
       "        vertical-align: top;\n",
       "    }\n",
       "\n",
       "    .dataframe thead th {\n",
       "        text-align: right;\n",
       "    }\n",
       "</style>\n",
       "<table border=\"1\" class=\"dataframe\">\n",
       "  <thead>\n",
       "    <tr style=\"text-align: right;\">\n",
       "      <th></th>\n",
       "      <th>예측값</th>\n",
       "      <th>정답</th>\n",
       "    </tr>\n",
       "  </thead>\n",
       "  <tbody>\n",
       "    <tr>\n",
       "      <th>0</th>\n",
       "      <td>SG</td>\n",
       "      <td>SG</td>\n",
       "    </tr>\n",
       "    <tr>\n",
       "      <th>1</th>\n",
       "      <td>SG</td>\n",
       "      <td>SG</td>\n",
       "    </tr>\n",
       "    <tr>\n",
       "      <th>2</th>\n",
       "      <td>C</td>\n",
       "      <td>C</td>\n",
       "    </tr>\n",
       "    <tr>\n",
       "      <th>3</th>\n",
       "      <td>SG</td>\n",
       "      <td>SG</td>\n",
       "    </tr>\n",
       "    <tr>\n",
       "      <th>4</th>\n",
       "      <td>SG</td>\n",
       "      <td>SG</td>\n",
       "    </tr>\n",
       "  </tbody>\n",
       "</table>\n",
       "</div>"
      ],
      "text/plain": [
       "  예측값  정답\n",
       "0  SG  SG\n",
       "1  SG  SG\n",
       "2   C   C\n",
       "3  SG  SG\n",
       "4  SG  SG"
      ]
     },
     "execution_count": 61,
     "metadata": {},
     "output_type": "execute_result"
    }
   ],
   "source": [
    "# 실제값과 예측값의 비교 \n",
    "comparison = pd.DataFrame(\n",
    "    {\"예측값\":pred,\n",
    "    '정답' : y_test\n",
    "    }\n",
    ")\n",
    "comparison.head()"
   ]
  },
  {
   "cell_type": "markdown",
   "metadata": {},
   "source": [
    "# confusion matrix"
   ]
  },
  {
   "cell_type": "code",
   "execution_count": 65,
   "metadata": {},
   "outputs": [
    {
     "data": {
      "image/png": "[encoded data removed]",
      "text/plain": [
       "<Figure size 432x288 with 2 Axes>"
      ]
     },
     "metadata": {
      "needs_background": "light"
     },
     "output_type": "display_data"
    }
   ],
   "source": [
    "from sklearn.metrics import confusion_matrix\n",
    "from sklearn.metrics import ConfusionMatrixDisplay\n",
    "\n",
    "confusion_matrix1 = confusion_matrix(y_test, pred)\n",
    "target_names = [\"C\",\"SG\"]\n",
    "disp = ConfusionMatrixDisplay(\n",
    "    confusion_matrix= confusion_matrix1,\n",
    "    display_labels=target_names\n",
    ")\n",
    "disp.plot(\n",
    "    cmap = plt.cm.Blues,\n",
    "    xticks_rotation= 45 , # index 회전\n",
    ")\n",
    "plt.show()"
   ]
  },
  {
   "cell_type": "markdown",
   "metadata": {},
   "source": [
    "---\n",
    "### 3개의 특징으로 예측하기 ( 3점슛, 블로킹, 리바운드)"
   ]
  },
  {
   "cell_type": "code",
   "execution_count": 70,
   "metadata": {},
   "outputs": [],
   "source": [
    "# 학습에 사용할 features\n",
    "x_train = train[['3P','BLK','TRB']]\n",
    "# 학습에 사용할 target\n",
    "y_train = train['Pos']\n",
    "# 학습시키기\n",
    "knn.fit(x_train, y_train)\n",
    "# 검증에 사용할 features\n",
    "x_test = test[['3P','BLK','TRB']]\n",
    "# 검증에 정답\n",
    "y_test = test['Pos']"
   ]
  },
  {
   "cell_type": "code",
   "execution_count": 71,
   "metadata": {},
   "outputs": [
    {
     "data": {
      "text/plain": [
       "0.9"
      ]
     },
     "execution_count": 71,
     "metadata": {},
     "output_type": "execute_result"
    }
   ],
   "source": [
    "knn.score(x_test,y_test)"
   ]
  },
  {
   "cell_type": "code",
   "execution_count": 72,
   "metadata": {},
   "outputs": [
    {
     "data": {
      "text/html": [
       "<div>\n",
       "<style scoped>\n",
       "    .dataframe tbody tr th:only-of-type {\n",
       "        vertical-align: middle;\n",
       "    }\n",
       "\n",
       "    .dataframe tbody tr th {\n",
       "        vertical-align: top;\n",
       "    }\n",
       "\n",
       "    .dataframe thead th {\n",
       "        text-align: right;\n",
       "    }\n",
       "</style>\n",
       "<table border=\"1\" class=\"dataframe\">\n",
       "  <thead>\n",
       "    <tr style=\"text-align: right;\">\n",
       "      <th></th>\n",
       "      <th>예측값</th>\n",
       "      <th>정답</th>\n",
       "    </tr>\n",
       "  </thead>\n",
       "  <tbody>\n",
       "    <tr>\n",
       "      <th>0</th>\n",
       "      <td>SG</td>\n",
       "      <td>SG</td>\n",
       "    </tr>\n",
       "    <tr>\n",
       "      <th>1</th>\n",
       "      <td>SG</td>\n",
       "      <td>SG</td>\n",
       "    </tr>\n",
       "    <tr>\n",
       "      <th>2</th>\n",
       "      <td>C</td>\n",
       "      <td>C</td>\n",
       "    </tr>\n",
       "    <tr>\n",
       "      <th>3</th>\n",
       "      <td>SG</td>\n",
       "      <td>SG</td>\n",
       "    </tr>\n",
       "    <tr>\n",
       "      <th>4</th>\n",
       "      <td>SG</td>\n",
       "      <td>SG</td>\n",
       "    </tr>\n",
       "  </tbody>\n",
       "</table>\n",
       "</div>"
      ],
      "text/plain": [
       "  예측값  정답\n",
       "0  SG  SG\n",
       "1  SG  SG\n",
       "2   C   C\n",
       "3  SG  SG\n",
       "4  SG  SG"
      ]
     },
     "execution_count": 72,
     "metadata": {},
     "output_type": "execute_result"
    }
   ],
   "source": [
    "# 실제값과 예측값의 비교 \n",
    "comparison2 = pd.DataFrame(\n",
    "    {\"예측값\":pred,\n",
    "    '정답' : y_test\n",
    "    }\n",
    ")\n",
    "comparison2.head()"
   ]
  },
  {
   "cell_type": "code",
   "execution_count": 73,
   "metadata": {},
   "outputs": [
    {
     "data": {
      "image/png": "[encoded data removed]",
      "text/plain": [
       "<Figure size 432x288 with 2 Axes>"
      ]
     },
     "metadata": {
      "needs_background": "light"
     },
     "output_type": "display_data"
    }
   ],
   "source": [
    "# 시각화\n",
    "confusion_matrix1 = confusion_matrix(y_test, pred)\n",
    "target_names = [\"C\",\"SG\"]\n",
    "disp = ConfusionMatrixDisplay(\n",
    "    confusion_matrix= confusion_matrix1,\n",
    "    display_labels=target_names\n",
    ")\n",
    "disp.plot(\n",
    "    cmap = plt.cm.Blues,\n",
    "    xticks_rotation= 45 , # index 회전\n",
    ")\n",
    "plt.show()"
   ]
  },
  {
   "cell_type": "code",
   "execution_count": 74,
   "metadata": {},
   "outputs": [
    {
     "name": "stderr",
     "output_type": "stream",
     "text": [
      "/Users/tj/opt/anaconda3/lib/python3.9/site-packages/sklearn/utils/validation.py:63: FutureWarning: Arrays of bytes/strings is being converted to decimal numbers if dtype='numeric'. This behavior is deprecated in 0.24 and will be removed in 1.1 (renaming of 0.26). Please convert your data to numeric values explicitly instead.\n",
      "  return f(*args, **kwargs)\n"
     ]
    },
    {
     "data": {
      "text/plain": [
       "array(['C'], dtype=object)"
      ]
     },
     "execution_count": 74,
     "metadata": {},
     "output_type": "execute_result"
    }
   ],
   "source": [
    "knn.predict([['3.4','0.5','37']])"
   ]
  },
  {
   "cell_type": "code",
   "execution_count": null,
   "metadata": {},
   "outputs": [],
   "source": []
  }
 ],
 "metadata": {
  "kernelspec": {
   "display_name": "Python 3.9.7 ('base')",
   "language": "python",
   "name": "python3"
  },
  "language_info": {
   "codemirror_mode": {
    "name": "ipython",
    "version": 3
   },
   "file_extension": ".py",
   "mimetype": "text/x-python",
   "name": "python",
   "nbconvert_exporter": "python",
   "pygments_lexer": "ipython3",
   "version": "3.9.7"
  },
  "orig_nbformat": 4,
  "vscode": {
   "interpreter": {
    "hash": "c34e8390e776d2ee205b71ed5a6130fee3cef8da5e87e926ce18e14f4a070d72"
   }
  }
 },
 "nbformat": 4,
 "nbformat_minor": 2
}
