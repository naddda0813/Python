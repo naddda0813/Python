{
 "cells": [
  {
   "cell_type": "markdown",
   "metadata": {},
   "source": [
    "#선형회귀 \n",
    "y = wx + b<br>\n",
    "w=> weight : 가중치<br>\n",
    "b  => bias : 편향<br>\n",
    "\n",
    "- 가장 적절한 회귀선을 찾는 것이 중요 \n",
    "- 오차율을 줄이는 게 목표\n",
    "-y 유사값 - y = 오차\n",
    "- 최적의 가중치와 bias를 찾는 것이 학습 "
   ]
  },
  {
   "cell_type": "code",
   "execution_count": 186,
   "metadata": {},
   "outputs": [],
   "source": [
    "# 당뇨병 환자의 데이터 \n",
    "from sklearn.datasets import load_diabetes\n",
    "# 데이터를 정한 클래스 = bunch class\n",
    "diabetes = load_diabetes()"
   ]
  },
  {
   "cell_type": "code",
   "execution_count": 187,
   "metadata": {},
   "outputs": [
    {
     "name": "stdout",
     "output_type": "stream",
     "text": [
      "(442, 10)\n",
      "(442,)\n"
     ]
    }
   ],
   "source": [
    "# data\n",
    "print(diabetes.data.shape)\n",
    "# target\n",
    "print(diabetes.target.shape)"
   ]
  },
  {
   "cell_type": "markdown",
   "metadata": {},
   "source": [
    "> data는 442개의 행과 10개의 열로 구성된 2차원 배열이니다.<br>\n",
    "> target은 442개의 요소를 가진 1차원 배열 입니다.<br>\n",
    "> 여기서 442개를 sample 갯수라고 하며 10개를 특성(feature)갯수라고 합니다."
   ]
  },
  {
   "cell_type": "code",
   "execution_count": 188,
   "metadata": {},
   "outputs": [
    {
     "data": {
      "text/plain": [
       "['age', 'sex', 'bmi', 'bp', 's1', 's2', 's3', 's4', 's5', 's6']"
      ]
     },
     "execution_count": 188,
     "metadata": {},
     "output_type": "execute_result"
    }
   ],
   "source": [
    "diabetes.feature_names"
   ]
  },
  {
   "cell_type": "code",
   "execution_count": 189,
   "metadata": {},
   "outputs": [
    {
     "data": {
      "text/plain": [
       "array([[ 0.03807591,  0.05068012,  0.06169621,  0.02187235, -0.0442235 ,\n",
       "        -0.03482076, -0.04340085, -0.00259226,  0.01990842, -0.01764613],\n",
       "       [-0.00188202, -0.04464164, -0.05147406, -0.02632783, -0.00844872,\n",
       "        -0.01916334,  0.07441156, -0.03949338, -0.06832974, -0.09220405],\n",
       "       [ 0.08529891,  0.05068012,  0.04445121, -0.00567061, -0.04559945,\n",
       "        -0.03419447, -0.03235593, -0.00259226,  0.00286377, -0.02593034]])"
      ]
     },
     "execution_count": 189,
     "metadata": {},
     "output_type": "execute_result"
    }
   ],
   "source": [
    "# data 일부 보기 \n",
    "diabetes.data[0:3]\n",
    "# 표준화 "
   ]
  },
  {
   "cell_type": "code",
   "execution_count": 190,
   "metadata": {},
   "outputs": [
    {
     "data": {
      "text/plain": [
       "array([151.,  75., 141.])"
      ]
     },
     "execution_count": 190,
     "metadata": {},
     "output_type": "execute_result"
    }
   ],
   "source": [
    "# target의 일부 보기 \n",
    "diabetes.target[:3]"
   ]
  },
  {
   "cell_type": "code",
   "execution_count": 191,
   "metadata": {},
   "outputs": [
    {
     "data": {
      "image/png": "[encoded data removed]",
      "text/plain": [
       "<Figure size 432x288 with 1 Axes>"
      ]
     },
     "metadata": {
      "needs_background": "light"
     },
     "output_type": "display_data"
    }
   ],
   "source": [
    "# 당뇨병 환자 데이터 시각화 하기 (data의 3번째 feature와 target)\n",
    "import matplotlib.pyplot as plt\n",
    "# x, y \n",
    "plt.scatter(diabetes.data[:,2], diabetes.target)\n",
    "plt.xlabel(\"x\")\n",
    "plt.ylabel(\"y\")\n",
    "plt.show()"
   ]
  },
  {
   "cell_type": "code",
   "execution_count": 192,
   "metadata": {},
   "outputs": [
    {
     "data": {
      "text/plain": [
       "array([[1.        , 0.58645013],\n",
       "       [0.58645013, 1.        ]])"
      ]
     },
     "execution_count": 192,
     "metadata": {},
     "output_type": "execute_result"
    }
   ],
   "source": [
    "# 상관계수\n",
    "import numpy as np\n",
    "\n",
    "np.corrcoef(diabetes.data[:,2],diabetes.target)"
   ]
  },
  {
   "cell_type": "markdown",
   "metadata": {},
   "source": [
    "---\n",
    "# 경사 하강법\n",
    ": 경사하강법은 모델이 데이터를 잘 표현할 수 있도록 기울기(변화율)를 사용하여 모델을 조금씩 조정하는 최적화 알고리즘"
   ]
  },
  {
   "cell_type": "markdown",
   "metadata": {},
   "source": [
    "# 예측값과 변화율 \n",
    "### 예측값(y^)\n",
    "- 예측값은 하나의 모델에서 수식의 결과로 나온 값을 의미합니다\n",
    "\n",
    "### 훈련데이터에서 잘 맞는 w와 b를 찾는 방법\n",
    "1. 무작위로 w와 b를 정한다.\n",
    "2. x에서 샘플 하나를 선택하여 y^를 계산한다\n",
    "3. y^과 선택한 샘플의 실제 y를 비교한다. (예측한 값과 정답 비교하기 : 오차 구하기)\n",
    "4. y^ 이 y와 가까와지도록 w,b를 조정한다. (모델 조정하기 : 학습하기)\n",
    "5. 모든 샘플을 처리할 때까지 2) ~ 4)항목을 반복합니다.\n"
   ]
  },
  {
   "cell_type": "markdown",
   "metadata": {},
   "source": [
    "> 예측값이 정답값에 수렴할수록 좋은 알고리즘이다"
   ]
  },
  {
   "cell_type": "code",
   "execution_count": 193,
   "metadata": {},
   "outputs": [
    {
     "name": "stdout",
     "output_type": "stream",
     "text": [
      "[ 0.06169621 -0.05147406  0.04445121 -0.01159501 -0.03638469]\n",
      "[151.  75. 141. 206. 135.]\n"
     ]
    }
   ],
   "source": [
    "# 훈련 데이터의 feature와 target 정하기 \n",
    "x = diabetes.data[:,2]\n",
    "y = diabetes.target\n",
    "\n",
    "# 5개만 출력 \n",
    "print(x[:5])\n",
    "print(y[:5])"
   ]
  },
  {
   "cell_type": "code",
   "execution_count": 194,
   "metadata": {},
   "outputs": [],
   "source": [
    "# w, b 초기화 : 무작위 선택\n",
    "w = 1.0\n",
    "b = 1.0 "
   ]
  },
  {
   "cell_type": "code",
   "execution_count": 195,
   "metadata": {},
   "outputs": [
    {
     "data": {
      "text/plain": [
       "1.0616962065186886"
      ]
     },
     "execution_count": 195,
     "metadata": {},
     "output_type": "execute_result"
    }
   ],
   "source": [
    "# 훈련데이터의 첫번째 샘플을 가져오기\n",
    "y_hat = x[0] * w + b\n",
    "y_hat"
   ]
  },
  {
   "cell_type": "code",
   "execution_count": 196,
   "metadata": {},
   "outputs": [
    {
     "name": "stdout",
     "output_type": "stream",
     "text": [
      "1.0616962065186886\n",
      "151.0\n"
     ]
    }
   ],
   "source": [
    "# 예측 데이터와 target 비교\n",
    "print(y_hat)\n",
    "print(y[0])"
   ]
  },
  {
   "cell_type": "markdown",
   "metadata": {},
   "source": [
    "> 당연한 결과지만 target과 예측값이 너무 많은 차이가 발생"
   ]
  },
  {
   "cell_type": "markdown",
   "metadata": {},
   "source": [
    "### w값 조절\n",
    "- w와 b를 조금씩 변경해서 y_hat이 증가, 감소 보기"
   ]
  },
  {
   "cell_type": "code",
   "execution_count": 197,
   "metadata": {},
   "outputs": [
    {
     "data": {
      "text/plain": [
       "1.0678658271705574"
      ]
     },
     "execution_count": 197,
     "metadata": {},
     "output_type": "execute_result"
    }
   ],
   "source": [
    "# 기존 w에 0.1만 증가해 보기\n",
    "w_inc = w  + 0.1\n",
    "y_hat_inc = w_inc * x[0] + b\n",
    "y_hat_inc "
   ]
  },
  {
   "cell_type": "markdown",
   "metadata": {},
   "source": [
    "> y_hat보다 y_hat_inc이 조금 더 target에 근접해짐"
   ]
  },
  {
   "cell_type": "code",
   "execution_count": 198,
   "metadata": {},
   "outputs": [
    {
     "data": {
      "text/plain": [
       "0.061696206518688734"
      ]
     },
     "execution_count": 198,
     "metadata": {},
     "output_type": "execute_result"
    }
   ],
   "source": [
    "# w값 조정한 후 예측값 정도 확인하기\n",
    "# w가 0.1 증가 할때 y_hat이 얼마나 증가했는지 계산해보기(변화율 확인해보기)\n",
    "w_rate = (y_hat_inc - y_hat) / (w_inc - w)\n",
    "w_rate\n",
    "# 미분 변화율값"
   ]
  },
  {
   "cell_type": "markdown",
   "metadata": {},
   "source": [
    "> w_rate(변화율)이 x[0]가 동일하다."
   ]
  },
  {
   "cell_type": "code",
   "execution_count": 199,
   "metadata": {},
   "outputs": [
    {
     "data": {
      "text/plain": [
       "0.06169620651868769"
      ]
     },
     "execution_count": 199,
     "metadata": {},
     "output_type": "execute_result"
    }
   ],
   "source": [
    "# 0.1 로 할 때 되니 0.2로 바꾸어서 계산해보자\n",
    "w_inc = w  + 0.2\n",
    "y_hat_inc = w_inc * x[0] + b\n",
    "w_rate = (y_hat_inc - y_hat) / (w_inc - w)\n",
    "w_rate "
   ]
  },
  {
   "cell_type": "code",
   "execution_count": 200,
   "metadata": {},
   "outputs": [
    {
     "data": {
      "text/plain": [
       "-0.05147406123880644"
      ]
     },
     "execution_count": 200,
     "metadata": {},
     "output_type": "execute_result"
    }
   ],
   "source": [
    "# 훈련데이터의 2번째 값을 계산해보자 \n",
    "w_inc = w +0.1\n",
    "y_hat = x[1] * w + b\n",
    "y_hat_inc = x[1] * w_inc   + b\n",
    "# 변화율\n",
    "w_rate = (y_hat_inc - y_hat) / (w_inc - w)\n",
    "w_rate "
   ]
  },
  {
   "cell_type": "markdown",
   "metadata": {},
   "source": [
    "![](../Data/gredient.png)"
   ]
  },
  {
   "cell_type": "code",
   "execution_count": 201,
   "metadata": {},
   "outputs": [
    {
     "data": {
      "text/plain": [
       "0.061696206518688734"
      ]
     },
     "execution_count": 201,
     "metadata": {},
     "output_type": "execute_result"
    }
   ],
   "source": [
    "# 변화율에 대한 증명이 끝났으니 다시 훈련데이터 1번째 값으로 변화율을 구해보지 \n",
    "\n",
    "w = b = 1\n",
    "y_hat = x[0] * w + b\n",
    "y_hat_inc = w + 0.1\n",
    "\n",
    "y_hat_inc = x[0] * w_inc + b\n",
    "# 변화율\n",
    "w_rate = (y_hat_inc - y_hat) / (w_inc - w)\n",
    "w_rate "
   ]
  },
  {
   "cell_type": "markdown",
   "metadata": {},
   "source": [
    "# 변화율로 가중치를 업데이트 하기 \n",
    "### 학습하기"
   ]
  },
  {
   "cell_type": "code",
   "execution_count": 202,
   "metadata": {},
   "outputs": [
    {
     "data": {
      "text/plain": [
       "1.0616962065186888"
      ]
     },
     "execution_count": 202,
     "metadata": {},
     "output_type": "execute_result"
    }
   ],
   "source": [
    "w_new = w + w_rate      # 가중치 + 변화율\n",
    "w_new"
   ]
  },
  {
   "cell_type": "code",
   "execution_count": 203,
   "metadata": {},
   "outputs": [
    {
     "name": "stdout",
     "output_type": "stream",
     "text": [
      "1.0678658271705574\n",
      "0.061696206518688734\n"
     ]
    }
   ],
   "source": [
    "# 변화율로 절편 업데이트 하기 <- 학습하기\n",
    "b_inc = b +0.1\n",
    "y_hat_inc = x[0] * w_inc + b\n",
    "print(y_hat_inc)\n",
    "\n",
    "b_rate = ( y_hat_inc -y_hat) / (b_inc - b)\n",
    "print(b_rate)"
   ]
  },
  {
   "cell_type": "code",
   "execution_count": 204,
   "metadata": {},
   "outputs": [
    {
     "data": {
      "text/plain": [
       "2"
      ]
     },
     "execution_count": 204,
     "metadata": {},
     "output_type": "execute_result"
    }
   ],
   "source": [
    "b_new = b +1\n",
    "b_new"
   ]
  },
  {
   "cell_type": "code",
   "execution_count": 205,
   "metadata": {},
   "outputs": [
    {
     "name": "stdout",
     "output_type": "stream",
     "text": [
      "10.250624555904514 10.250624555904514\n"
     ]
    }
   ],
   "source": [
    "# 오차 역전파로 가중치와 절편을 업데이트 -> 손실함수(비용함수)를 제공 \n",
    "# 오차 역전파(backpropagation)는 y^과 y의 차이를 이용하여 w와 b를 업데이트 합니다. \n",
    "# 오차의 변화율을 곱하여 가중치 업데이트 하기\n",
    " \n",
    "# 오차 \n",
    "err = y[0] - y_hat  # y_hat = y^\n",
    "w_new = w + w_rate * err\n",
    "b_new = b + b_rate * err\n",
    "print(w_new, b_new)\n"
   ]
  },
  {
   "cell_type": "code",
   "execution_count": 206,
   "metadata": {},
   "outputs": [
    {
     "name": "stdout",
     "output_type": "stream",
     "text": [
      "2.9785227456119667 151.52764127612664\n"
     ]
    }
   ],
   "source": [
    "# 2번째 샘플을 x[1]을 사용하여 오차를 구하고 새로운 w, b 구하기\n",
    "y_hat = w_new * x[1] +b_new\n",
    "err = y[0] - y_hat\n",
    "w_rate = x[1]\n",
    "\n",
    "w_new = w_new + w_rate * err\n",
    "b_new = b_new + 1 * err\n",
    "print(w_new, b_new)"
   ]
  },
  {
   "cell_type": "code",
   "execution_count": 207,
   "metadata": {},
   "outputs": [
    {
     "name": "stdout",
     "output_type": "stream",
     "text": [
      "587.8654539985689 99.40935564531424\n"
     ]
    }
   ],
   "source": [
    "# 반복문을 통한 전체 샘플을 반복학\n",
    " \n",
    "w = b= 1\n",
    "for x_i,y_i in zip(x,y):   \n",
    "    y_hat = x_i * w +b\n",
    "    err = y_i - y_hat\n",
    "    w_rate = x_i\n",
    "    w = w + w_rate * err    # w 가중치\n",
    "    b = b + 1* err          # b 절편\n",
    "\n",
    "print(w,b)\n"
   ]
  },
  {
   "cell_type": "code",
   "execution_count": 208,
   "metadata": {},
   "outputs": [
    {
     "data": {
      "image/png": "[encoded data removed]",
      "text/plain": [
       "<Figure size 432x288 with 1 Axes>"
      ]
     },
     "metadata": {
      "needs_background": "light"
     },
     "output_type": "display_data"
    }
   ],
   "source": [
    "# 데이터 샘플 2 \n",
    "plt.scatter(x,y)\n",
    "# 산포도에서 x축 범위를 보면 -0.1 ~ 0.15의 범위 \n",
    "pt1 = (-0.1,  w * -0.1 +b)\n",
    "pt2 = (0.15,  w * 0.15 +b)\n",
    "plt.plot([pt1[0],pt2[0]], [pt1[1],pt2[1]],'r')  # r= red \n",
    "plt.show()"
   ]
  },
  {
   "cell_type": "markdown",
   "metadata": {},
   "source": [
    "> 적절한 기울기의 회귀선은 아님"
   ]
  },
  {
   "cell_type": "code",
   "execution_count": 209,
   "metadata": {},
   "outputs": [
    {
     "name": "stdout",
     "output_type": "stream",
     "text": [
      "913.5973364345905 123.39414383177204\n"
     ]
    }
   ],
   "source": [
    "# epoch로 반복하기 (학습 반복)\n",
    "## w와 b를 반복적으로 계산하기 \n",
    "w = b= 1\n",
    "for _ in range(100):\n",
    "    for x_i,y_i in zip(x,y):   \n",
    "        y_hat = x_i * w +b\n",
    "        err = y_i - y_hat\n",
    "        w_rate = x_i\n",
    "        w = w + w_rate * err    # w 가중치\n",
    "        b = b + 1* err          # b 절편\n",
    "\n",
    "print(w,b)"
   ]
  },
  {
   "cell_type": "code",
   "execution_count": 210,
   "metadata": {},
   "outputs": [
    {
     "data": {
      "image/png": "[encoded data removed]",
      "text/plain": [
       "<Figure size 432x288 with 1 Axes>"
      ]
     },
     "metadata": {
      "needs_background": "light"
     },
     "output_type": "display_data"
    }
   ],
   "source": [
    "# 데이터 샘플 2 \n",
    "plt.scatter(x,y)\n",
    "# 산포도에서 x축 범위를 보면 -0.1 ~ 0.15의 범위 \n",
    "pt1 = (-0.1,  w * -0.1 +b)\n",
    "pt2 = (0.15,  w * 0.15 +b)\n",
    "plt.plot([pt1[0],pt2[0]], [pt1[1],pt2[1]],'r')  # r= red \n",
    "plt.show()"
   ]
  },
  {
   "cell_type": "markdown",
   "metadata": {},
   "source": [
    "> y_ = 913.6X +123.4\n",
    "##### w = 913.6\n",
    "##### b= 123.4"
   ]
  },
  {
   "cell_type": "code",
   "execution_count": 211,
   "metadata": {},
   "outputs": [
    {
     "data": {
      "text/plain": [
       "287.8416643899983"
      ]
     },
     "execution_count": 211,
     "metadata": {},
     "output_type": "execute_result"
    }
   ],
   "source": [
    "# 모델로 예측해보기\n",
    "# x의 범위 0.15를 벗어나는 곳에서 잘 학습하는지 예측 \n",
    "x_new = 0.18\n",
    "y_pred = x_new * w +b\n",
    "y_pred"
   ]
  },
  {
   "cell_type": "code",
   "execution_count": 212,
   "metadata": {},
   "outputs": [
    {
     "data": {
      "image/png": "[encoded data removed]",
      "text/plain": [
       "<Figure size 432x288 with 1 Axes>"
      ]
     },
     "metadata": {
      "needs_background": "light"
     },
     "output_type": "display_data"
    }
   ],
   "source": [
    "plt.scatter(x,y)\n",
    "plt.scatter(x_new,y_pred)\n",
    "plt.show()"
   ]
  },
  {
   "cell_type": "markdown",
   "metadata": {},
   "source": [
    "---\n",
    "# 모델 만들기 정리\n",
    "1. w와 b를 임의의 값(1,1)로 초기화 하고 훈련데이터의 샘플을 하나씩 대입하여 y와 y^의 오차를 구한다\n",
    "2. 1.에서 구한 오차를 w와 b의 변화율에 곱하고 이 값을 이용하여 w와 b를 업데이트(학습)한다.\n",
    "3. 만약 y^이 y보다 커지는 오차는 음수가 되어 자동으로 w와 b가 줄어드는 방향으로 업데이트가 된다.\n",
    "4. 반대로 y^이 y보다 작으면 오차는 양수가 되어 w와 b눈 더 커지도록 업데이트(학습)된다."
   ]
  },
  {
   "cell_type": "markdown",
   "metadata": {},
   "source": [
    "### 선형 회귀를 위한 class 만들기"
   ]
  },
  {
   "cell_type": "code",
   "execution_count": 219,
   "metadata": {},
   "outputs": [],
   "source": [
    "class LRModel: \n",
    "    # 초기화 작업\n",
    "    def __init__(self):\n",
    "        self.w = 1.0 # 가중치를 초기화\n",
    "        self.b = 1.0 # 절편을 초기화\n",
    "    # 정방형 계산\n",
    "    def forpass(self,x):\n",
    "        y_hat = x *self.w + self.b # 직선 방정식을 계산\n",
    "        return y_hat\n",
    "    # 역방향 계산 (오차율이 들어감)\n",
    "    def backprop(self,x,err):\n",
    "        w_grad = x * err # 가중치에 대한 그래디언트를 계산\n",
    "        b_grad = 1 * err # 절편에 대한 그래디언트를 계산\n",
    "        return w_grad, b_grad\n",
    "    # 훈련\n",
    "    def fit(self,x,y,epoch):   # w,b는 epoch의 크기에 따라 \n",
    "        for _ in range(epoch):\n",
    "            for x_i,y_i in zip(x,y):\n",
    "                y_hat = self.forpass(x_i)\n",
    "                err = (y_i - y_hat)\n",
    "                w_grad, b_grad = self.backprop(x_i,err)\n",
    "                self.w += w_grad\n",
    "                self.b += b_grad\n",
    "        return self.w, self.b"
   ]
  },
  {
   "cell_type": "code",
   "execution_count": 220,
   "metadata": {},
   "outputs": [
    {
     "name": "stdout",
     "output_type": "stream",
     "text": [
      "913.5973364345905 123.39414383177204\n"
     ]
    }
   ],
   "source": [
    "# instance\n",
    "lrmodel = LRModel()\n",
    "# 학습\n",
    "w, b = lrmodel.fit(x,y,100)\n",
    "print(w,b)"
   ]
  },
  {
   "cell_type": "code",
   "execution_count": 221,
   "metadata": {},
   "outputs": [
    {
     "data": {
      "image/png": "[encoded data removed]",
      "text/plain": [
       "<Figure size 432x288 with 1 Axes>"
      ]
     },
     "metadata": {
      "needs_background": "light"
     },
     "output_type": "display_data"
    }
   ],
   "source": [
    "plt.scatter(x,y)\n",
    "# 산포도에서 x축 범위를 보면 -0.1 ~ 0.15의 범위 \n",
    "pt1 = (-0.1,  w * -0.1 +b)\n",
    "pt2 = (0.15,  w * 0.15 +b)\n",
    "plt.plot([pt1[0],pt2[0]], [pt1[1],pt2[1]],'r')  # r= red \n",
    "plt.show()"
   ]
  },
  {
   "cell_type": "markdown",
   "metadata": {},
   "source": [
    "---\n",
    "# 용어 정리 \n",
    "#### 선형회귀\n",
    "선형방적식을 사용하여 연속적인 값을 예측하는 알고리즘으로 데이터를 가장 잘 표현하는 방정식의 계수를 구할 수 있습니다. \n",
    "머신러닝 알고리즘이지만 딥러닝에서 사용하는 인공신뎡망 알고리즘의 기초가 됩니다.\n",
    "\n",
    "#### 경사하강법\n",
    "최적화 알고리즘 중의 하나로 핵심 훈련 알고리즘입니다\n",
    "이 바업은 최적의 모델을 만드는 가중치를 한번에 찾지 않습니다\n",
    "먼저 임의로 정한 가중치에서 출력을 만든후 타깃과 비교하여 오차를 줄이는 방향으로 가중치를 조정합니다\n",
    "이런 과정의 모든 훈련샘플에 대해서 반복하면서 최적의 가중치를 찾습니다\n",
    "\n",
    "\n",
    "#### 손실함수\n",
    "모델이 얼마만큼 오류가 있는지 측정하는 기준입니다\n",
    "손실함수의 값을 최소로 만드는 것이 이 모델 훈련의 목적입니다\n",
    "다른 말로 비용함수 또는 목적함수라고도 부릅니다 "
   ]
  },
  {
   "cell_type": "code",
   "execution_count": null,
   "metadata": {},
   "outputs": [],
   "source": []
  }
 ],
 "metadata": {
  "kernelspec": {
   "display_name": "Python 3.9.7 ('base')",
   "language": "python",
   "name": "python3"
  },
  "language_info": {
   "codemirror_mode": {
    "name": "ipython",
    "version": 3
   },
   "file_extension": ".py",
   "mimetype": "text/x-python",
   "name": "python",
   "nbconvert_exporter": "python",
   "pygments_lexer": "ipython3",
   "version": "3.9.7"
  },
  "orig_nbformat": 4,
  "vscode": {
   "interpreter": {
    "hash": "c34e8390e776d2ee205b71ed5a6130fee3cef8da5e87e926ce18e14f4a070d72"
   }
  }
 },
 "nbformat": 4,
 "nbformat_minor": 2
}
