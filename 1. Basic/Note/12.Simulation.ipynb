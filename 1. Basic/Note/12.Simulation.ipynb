{
 "cells": [
  {
   "cell_type": "markdown",
   "metadata": {},
   "source": [
    "# 몬테카를로 시뮬레이션 \n",
    ": 자료가 없을 경우 난수를 통해서 가설증명"
   ]
  },
  {
   "cell_type": "markdown",
   "metadata": {},
   "source": [
    "### 동전의 앞면과 뒷면이 나올 확률이 같다는 것을 증명 "
   ]
  },
  {
   "cell_type": "code",
   "execution_count": 5,
   "metadata": {},
   "outputs": [],
   "source": [
    "import random"
   ]
  },
  {
   "cell_type": "code",
   "execution_count": 3,
   "metadata": {},
   "outputs": [
    {
     "data": {
      "text/plain": [
       "9"
      ]
     },
     "execution_count": 3,
     "metadata": {},
     "output_type": "execute_result"
    }
   ],
   "source": [
    "random.randint(1,10)"
   ]
  },
  {
   "cell_type": "code",
   "execution_count": 6,
   "metadata": {},
   "outputs": [],
   "source": [
    "def coinF(n):\n",
    "    coinFront = coinRear = 0\n",
    "    for i in range(1,n+1):\n",
    "        x = random.randint(1,2)     # 앞 또는 뒤\n",
    "        if x == 1:\n",
    "            coinFront +=1\n",
    "        else:\n",
    "            coinRear +=1\n",
    "    print(\"%7d 시도시 동전의 앞면은 %6d번이고 동전의 뒷면은 %6d\"%(n,coinFront,coinRear))"
   ]
  },
  {
   "cell_type": "code",
   "execution_count": 7,
   "metadata": {},
   "outputs": [
    {
     "name": "stdout",
     "output_type": "stream",
     "text": [
      "     10 시도시 동전의 앞면은      4번이고 동전의 뒷면은      6\n",
      "    100 시도시 동전의 앞면은     52번이고 동전의 뒷면은     48\n",
      "   1000 시도시 동전의 앞면은    487번이고 동전의 뒷면은    513\n",
      "  10000 시도시 동전의 앞면은   5001번이고 동전의 뒷면은   4999\n",
      " 100000 시도시 동전의 앞면은  49979번이고 동전의 뒷면은  50021\n",
      "1000000 시도시 동전의 앞면은 499960번이고 동전의 뒷면은 500040\n"
     ]
    }
   ],
   "source": [
    "coinF(10)\n",
    "coinF(100)\n",
    "coinF(1000)\n",
    "coinF(10000)\n",
    "coinF(100000)\n",
    "coinF(1000000)"
   ]
  },
  {
   "cell_type": "code",
   "execution_count": 10,
   "metadata": {},
   "outputs": [],
   "source": [
    "# 가위바위보 \n",
    "def rcp(n):\n",
    "    rock = scissor = paper = 0\n",
    "    for i in range(1,n+1):\n",
    "        x = random.randint(1,3) # 가위,바위,보\n",
    "        if x == 1:\n",
    "            rock +=1\n",
    "        elif x == 2:\n",
    "            scissor +=1\n",
    "        else:\n",
    "            paper +=1\n",
    "    print(\"n%7d7번 시도시 바위는 %6d 가위는 %6d 보는 %6d\"%(n,rock,scissor,paper))"
   ]
  },
  {
   "cell_type": "code",
   "execution_count": 11,
   "metadata": {},
   "outputs": [
    {
     "name": "stdout",
     "output_type": "stream",
     "text": [
      "n     107번 시도시 바위는      2 가위는      4 보는      4\n",
      "n    1007번 시도시 바위는     40 가위는     32 보는     28\n",
      "n   10007번 시도시 바위는    333 가위는    363 보는    304\n",
      "n  100007번 시도시 바위는   3242 가위는   3321 보는   3437\n",
      "n 1000007번 시도시 바위는  33145 가위는  33389 보는  33466\n"
     ]
    }
   ],
   "source": [
    "rcp(10)\n",
    "rcp(100)\n",
    "rcp(1000)\n",
    "rcp(10000)\n",
    "rcp(100000)"
   ]
  },
  {
   "cell_type": "code",
   "execution_count": null,
   "metadata": {},
   "outputs": [],
   "source": []
  }
 ],
 "metadata": {
  "kernelspec": {
   "display_name": "Python 3.8.9 64-bit",
   "language": "python",
   "name": "python3"
  },
  "language_info": {
   "codemirror_mode": {
    "name": "ipython",
    "version": 3
   },
   "file_extension": ".py",
   "mimetype": "text/x-python",
   "name": "python",
   "nbconvert_exporter": "python",
   "pygments_lexer": "ipython3",
   "version": "3.8.9"
  },
  "orig_nbformat": 4,
  "vscode": {
   "interpreter": {
    "hash": "31f2aee4e71d21fbe5cf8b01ff0e069b9275f58929596ceb00d14d90e3e16cd6"
   }
  }
 },
 "nbformat": 4,
 "nbformat_minor": 2
}
