{
 "cells": [
  {
   "cell_type": "markdown",
   "metadata": {},
   "source": [
    "# Class"
   ]
  },
  {
   "cell_type": "code",
   "execution_count": 1,
   "metadata": {},
   "outputs": [],
   "source": [
    "# class선언 \n",
    "\n",
    "class Services:\n",
    "    secret = \"임금님 귀는 당나귀 귀다!\""
   ]
  },
  {
   "cell_type": "code",
   "execution_count": 2,
   "metadata": {},
   "outputs": [
    {
     "name": "stdout",
     "output_type": "stream",
     "text": [
      "임금님 귀는 당나귀 귀다!\n"
     ]
    }
   ],
   "source": [
    "# instance를 만들어서 class 사용 # 1 \n",
    "instance01 = Services()\n",
    "print(instance01.secret)"
   ]
  },
  {
   "cell_type": "code",
   "execution_count": 5,
   "metadata": {},
   "outputs": [],
   "source": [
    "# class선언 # 2 \n",
    "\n",
    "class Services:\n",
    "    name =\"\"\n",
    "    secret = \"임금님 귀는 당나귀 귀다!\"\n",
    "    def setname(self, name):\n",
    "        self.name = name\n",
    "    # 하나의 함수를 추가로 만듬 \n",
    "    def sum(self, num01,num02):\n",
    "        result = num01 + num02\n",
    "        print(\"%s님! %d + %d = %d 입니다.\"%(self.name, num01, num02, result))"
   ]
  },
  {
   "cell_type": "code",
   "execution_count": 4,
   "metadata": {},
   "outputs": [
    {
     "name": "stdout",
     "output_type": "stream",
     "text": [
      "임금님 귀는 당나귀 귀다!\n",
      "2 + 3 = 5 입니다.\n",
      "None\n"
     ]
    }
   ],
   "source": [
    "instance01 = Services() # 생성자(constructor) \n",
    "print(instance01.secret)\n",
    "print(instance01.sum(2,3))"
   ]
  },
  {
   "cell_type": "code",
   "execution_count": 6,
   "metadata": {},
   "outputs": [
    {
     "name": "stdout",
     "output_type": "stream",
     "text": [
      "유비님! 2 + 3 = 5 입니다.\n"
     ]
    }
   ],
   "source": [
    "instance01 = Services()\n",
    "instance01.setname(\"유비\")\n",
    "instance01.sum(2,3)"
   ]
  },
  {
   "cell_type": "code",
   "execution_count": 7,
   "metadata": {},
   "outputs": [],
   "source": [
    "# 3\n",
    "\n",
    "class Services:\n",
    "    name =\"\"\n",
    "    secret = \"임금님 귀는 당나귀 귀다!\"\n",
    "    def __init__(self, name):\n",
    "        self.name = name\n",
    "    # 하나의 함수를 추가로 만듬 \n",
    "    def sum(self, num01,num02):\n",
    "        result = num01 + num02\n",
    "        print(\"%s님! %d + %d = %d 입니다.\"%(self.name, num01, num02, result))"
   ]
  },
  {
   "cell_type": "code",
   "execution_count": 8,
   "metadata": {},
   "outputs": [
    {
     "name": "stdout",
     "output_type": "stream",
     "text": [
      "관우님! 2 + 3 = 5 입니다.\n"
     ]
    }
   ],
   "source": [
    "instance01 =Services(\"관우\")\n",
    "instance01.sum(2,3)"
   ]
  },
  {
   "cell_type": "code",
   "execution_count": 50,
   "metadata": {},
   "outputs": [],
   "source": [
    "# class \n",
    "class Calc:\n",
    "    \n",
    "    def setData(self, num01, num02):\n",
    "       self.num01 = num01\n",
    "       self.num02 = num02\n",
    "    def sum(self):\n",
    "        result = self.num01 + self.num02\n",
    "        return(\"%d + %d = %d\"%(self.num01, self.num02 ,result))\n",
    "\n",
    "    def mul(self):\n",
    "        result = self.num01  * self.num02\n",
    "        return(\"%d * %d = %d\"%(self.num01, self.num02 ,result))\n",
    "\n",
    "    def sub(self):\n",
    "        result = self.num01 - self.num02\n",
    "        return(\"%d - %d = %d\"%(self.num01, self.num02 ,result))\n",
    "\n",
    "    def div(self):\n",
    "        result = self.num01 / self.num02\n",
    "        return(\"%d / %d = %d\"%(self.num01, self.num02 ,result))\n"
   ]
  },
  {
   "cell_type": "code",
   "execution_count": 51,
   "metadata": {},
   "outputs": [
    {
     "name": "stdout",
     "output_type": "stream",
     "text": [
      "덧셈 4 + 2 = 6\n",
      "뺄셈 4 / 2 = 2\n",
      "곱셈 4 * 2 = 8\n",
      "나눗셈 4 / 2 = 2\n"
     ]
    }
   ],
   "source": [
    "calc01 =Calc()\n",
    "calc01.setData(4,2)\n",
    "print(\"덧셈\",calc01.sum())\n",
    "print(\"뺄셈\",calc01.div())\n",
    "print(\"곱셈\",calc01.mul())\n",
    "print(\"나눗셈\",calc01.div())"
   ]
  },
  {
   "cell_type": "code",
   "execution_count": null,
   "metadata": {},
   "outputs": [],
   "source": []
  }
 ],
 "metadata": {
  "kernelspec": {
   "display_name": "Python 3.9.7 ('base')",
   "language": "python",
   "name": "python3"
  },
  "language_info": {
   "codemirror_mode": {
    "name": "ipython",
    "version": 3
   },
   "file_extension": ".py",
   "mimetype": "text/x-python",
   "name": "python",
   "nbconvert_exporter": "python",
   "pygments_lexer": "ipython3",
   "version": "3.9.7"
  },
  "orig_nbformat": 4,
  "vscode": {
   "interpreter": {
    "hash": "c34e8390e776d2ee205b71ed5a6130fee3cef8da5e87e926ce18e14f4a070d72"
   }
  }
 },
 "nbformat": 4,
 "nbformat_minor": 2
}
