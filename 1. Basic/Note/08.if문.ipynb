{
 "cells": [
  {
   "cell_type": "code",
   "execution_count": 1,
   "metadata": {},
   "outputs": [],
   "source": [
    "from random import randintƒ"
   ]
  },
  {
   "cell_type": "code",
   "execution_count": 2,
   "metadata": {},
   "outputs": [
    {
     "data": {
      "text/plain": [
       "86"
      ]
     },
     "execution_count": 2,
     "metadata": {},
     "output_type": "execute_result"
    }
   ],
   "source": [
    "# 1부터 100까지의 범위 중 정수 값 하나만 가져옴 \n",
    "randint(1,100)"
   ]
  },
  {
   "cell_type": "code",
   "execution_count": 5,
   "metadata": {},
   "outputs": [
    {
     "name": "stdout",
     "output_type": "stream",
     "text": [
      "over 50\n"
     ]
    }
   ],
   "source": [
    "# if문 \n",
    "# if안에 해당하는 조건 ()과 그에 대한 결과 {}가 없음 \n",
    "x = randint(1,100)\n",
    "if x > 70:\n",
    "    print(\"over 70\")\n",
    "# else if \n",
    "elif x > 50:\n",
    "    print(\"over 50\")\n",
    "elif x > 30:\n",
    "    print(\"over 30\")\n",
    "# else \n",
    "else:\n",
    "    print(\"over 0\")"
   ]
  },
  {
   "cell_type": "code",
   "execution_count": 6,
   "metadata": {},
   "outputs": [
    {
     "name": "stdout",
     "output_type": "stream",
     "text": [
      "홀수\n"
     ]
    }
   ],
   "source": [
    "# 홀짝수 구분\n",
    "x = 9 \n",
    "if x % 2 == 1:\n",
    "    print(\"홀수\")\n",
    "else:\n",
    "    print(\"짝수\")"
   ]
  },
  {
   "cell_type": "code",
   "execution_count": 3,
   "metadata": {},
   "outputs": [
    {
     "data": {
      "text/plain": [
       "int"
      ]
     },
     "execution_count": 3,
     "metadata": {},
     "output_type": "execute_result"
    }
   ],
   "source": [
    "# 사용자로부터 숫자를 입력받자 \n",
    "# 앞에 type을 적어 숫자로 반환\n",
    "number = int(input(\"숫자를 입력하세요 : \"))\n",
    "type(number)"
   ]
  },
  {
   "cell_type": "code",
   "execution_count": 5,
   "metadata": {},
   "outputs": [
    {
     "name": "stdout",
     "output_type": "stream",
     "text": [
      "10 는 짝수 입니다.\n"
     ]
    }
   ],
   "source": [
    "number = int(input(\"숫자를 입력하세요 : \"))\n",
    "if number % 2 == 1:\n",
    "    print(number,\"는 홀수 입니다.\")\n",
    "else:\n",
    "    print(number,\"는 짝수 입니다.\")"
   ]
  },
  {
   "cell_type": "code",
   "execution_count": 10,
   "metadata": {},
   "outputs": [
    {
     "name": "stdout",
     "output_type": "stream",
     "text": [
      "점수는  70 이고 D 학점 입니다.\n"
     ]
    }
   ],
   "source": [
    "# 학점 계산 \n",
    "score = int(input(\"숫자를 입력하세요 : \") )\n",
    "grade = [\"A\",\"B\",\"C\",\"D\",\"F\"]\n",
    "if score > 90:\n",
    "    print(\"점수는 \", score , \"이고\" ,grade[0],\"학점 입니다.\" ) \n",
    "elif score > 80:\n",
    "    print(\"점수는 \", score , \"이고\" ,grade[1],\"학점 입니다.\" ) \n",
    "elif score > 70:\n",
    "    print(\"점수는 \", score , \"이고\" ,grade[2],\"학점 입니다.\" ) \n",
    "elif score > 60:\n",
    "    print(\"점수는 \", score , \"이고\" ,grade[3],\"학점 입니다.\" ) \n",
    "elif score > 0:\n",
    "    print(\"점수는 \", score , \"이고\" ,grade[4],\"학점 입니다.\" ) \n",
    "else:\n",
    "    print(\"올바르지 않은 점수입니다.\")\n"
   ]
  },
  {
   "cell_type": "code",
   "execution_count": 11,
   "metadata": {},
   "outputs": [],
   "source": [
    "import math"
   ]
  },
  {
   "cell_type": "code",
   "execution_count": 15,
   "metadata": {},
   "outputs": [
    {
     "name": "stdout",
     "output_type": "stream",
     "text": [
      "입력하신 수는 5의 배수가 아니므로  4 입니다\n"
     ]
    }
   ],
   "source": [
    "# 사용자로부터 숫자를 입력받아 5의 배수이면 제곱근을 구하고 그렇지 않으면 원래 수를 출력하기 \n",
    "number = int(input(\"숫자를 입력하세요\"))\n",
    "if number % 5 == 0:\n",
    "    print(\"입력하신 수는 5의 배수이므로 제곱근은 \",math.sqrt(number),\"입니다\")\n",
    "else:\n",
    "    print(\"입력하신 수는 5의 배수가 아니므로 \",number,\"입니다\")"
   ]
  },
  {
   "cell_type": "code",
   "execution_count": 20,
   "metadata": {},
   "outputs": [
    {
     "name": "stdout",
     "output_type": "stream",
     "text": [
      "튼튼한 다리를 사용\n",
      "End\n"
     ]
    }
   ],
   "source": [
    "# list의 내용을 if문으로 확인하기 \n",
    "pocket = ['paper','smartphone'] \n",
    "card = 0\n",
    "\n",
    "if 'money' in pocket:\n",
    "    print(\"현금으로 택시타기\")\n",
    "elif card:      #card = 1(0이 아난 다른수 가능, 0입력하면 튼튼한 다리 사용 나옴 )\n",
    "    print(\"신용카드를 사용한 택시타기\")\n",
    "else:\n",
    "    print(\"튼튼한 다리를 사용\")\n",
    "\n",
    "print(\"End\")"
   ]
  },
  {
   "cell_type": "code",
   "execution_count": 21,
   "metadata": {},
   "outputs": [
    {
     "name": "stdout",
     "output_type": "stream",
     "text": [
      "18\n"
     ]
    }
   ],
   "source": [
    "# 삼항 연산자\n",
    "# 변수 = 참인 경우 if(조건문) else(거짓인 경우)\n",
    "num = 9 \n",
    "result = 0\n",
    "\n",
    "result = num * 2 if num >= 5 else num + 2  # if =true, else =false \n",
    "print(result)\n"
   ]
  },
  {
   "cell_type": "code",
   "execution_count": null,
   "metadata": {},
   "outputs": [],
   "source": []
  }
 ],
 "metadata": {
  "kernelspec": {
   "display_name": "Python 3.9.7 ('base')",
   "language": "python",
   "name": "python3"
  },
  "language_info": {
   "codemirror_mode": {
    "name": "ipython",
    "version": 3
   },
   "file_extension": ".py",
   "mimetype": "text/x-python",
   "name": "python",
   "nbconvert_exporter": "python",
   "pygments_lexer": "ipython3",
   "version": "3.9.7"
  },
  "orig_nbformat": 4,
  "vscode": {
   "interpreter": {
    "hash": "c34e8390e776d2ee205b71ed5a6130fee3cef8da5e87e926ce18e14f4a070d72"
   }
  }
 },
 "nbformat": 4,
 "nbformat_minor": 2
}
