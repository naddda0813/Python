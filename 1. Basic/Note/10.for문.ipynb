{
 "cells": [
  {
   "cell_type": "code",
   "execution_count": 1,
   "metadata": {},
   "outputs": [
    {
     "data": {
      "text/plain": [
       "range(1, 11)"
      ]
     },
     "execution_count": 1,
     "metadata": {},
     "output_type": "execute_result"
    }
   ],
   "source": [
    "#1 ~ 10 \n",
    "range(1,11)"
   ]
  },
  {
   "cell_type": "code",
   "execution_count": 1,
   "metadata": {},
   "outputs": [
    {
     "data": {
      "text/plain": [
       "[1, 2, 3, 4, 5, 6, 7, 8, 9, 10]"
      ]
     },
     "execution_count": 1,
     "metadata": {},
     "output_type": "execute_result"
    }
   ],
   "source": [
    "list(range(1,11))"
   ]
  },
  {
   "cell_type": "code",
   "execution_count": 2,
   "metadata": {},
   "outputs": [
    {
     "data": {
      "text/plain": [
       "[0, 2, 4, 6, 8, 10]"
      ]
     },
     "execution_count": 2,
     "metadata": {},
     "output_type": "execute_result"
    }
   ],
   "source": [
    "list(range(0,11,2))"
   ]
  },
  {
   "cell_type": "code",
   "execution_count": 3,
   "metadata": {},
   "outputs": [
    {
     "data": {
      "text/plain": [
       "[10, 8, 6, 4, 2]"
      ]
     },
     "execution_count": 3,
     "metadata": {},
     "output_type": "execute_result"
    }
   ],
   "source": [
    "list(range(10,0,-2))"
   ]
  },
  {
   "cell_type": "code",
   "execution_count": 4,
   "metadata": {},
   "outputs": [
    {
     "data": {
      "text/plain": [
       "[]"
      ]
     },
     "execution_count": 4,
     "metadata": {},
     "output_type": "execute_result"
    }
   ],
   "source": [
    "# error는 안 나오므로 직접 확인해야함 \n",
    "list(range(0,10,-2))"
   ]
  },
  {
   "cell_type": "code",
   "execution_count": 5,
   "metadata": {},
   "outputs": [
    {
     "name": "stdout",
     "output_type": "stream",
     "text": [
      "1\n",
      "2\n",
      "3\n",
      "4\n",
      "5\n",
      "6\n",
      "7\n",
      "8\n",
      "9\n",
      "10\n"
     ]
    }
   ],
   "source": [
    "for i in range(1,11):\n",
    "    print(i)"
   ]
  },
  {
   "cell_type": "code",
   "execution_count": 21,
   "metadata": {},
   "outputs": [
    {
     "name": "stdout",
     "output_type": "stream",
     "text": [
      " 1 :1.00000000\n",
      " 2 :1.41421356\n",
      " 3 :1.73205081\n",
      " 4 :2.00000000\n",
      " 5 :2.23606798\n",
      " 6 :2.44948974\n",
      " 7 :2.64575131\n",
      " 8 :2.82842712\n",
      " 9 :3.00000000\n",
      "10 :3.16227766\n"
     ]
    }
   ],
   "source": [
    "# 1에서 10까지의 제곱근을 출력하기 \n",
    "import math\n",
    "num =  0\n",
    "for i in range(1,11):\n",
    "    print(\"%2d :%0.8f\"%(i,math.sqrt(i)))\n",
    "    "
   ]
  },
  {
   "cell_type": "code",
   "execution_count": 4,
   "metadata": {},
   "outputs": [
    {
     "name": "stdout",
     "output_type": "stream",
     "text": [
      " 2  4  6  8 10 12 14 16 18 \n",
      " 3  6  9 12 15 18 21 24 27 \n",
      " 4  8 12 16 20 24 28 32 36 \n",
      " 5 10 15 20 25 30 35 40 45 \n",
      " 6 12 18 24 30 36 42 48 54 \n",
      " 7 14 21 28 35 42 49 56 63 \n",
      " 8 16 24 32 40 48 56 64 72 \n",
      " 9 18 27 36 45 54 63 72 81 \n"
     ]
    }
   ],
   "source": [
    "for i in range(2, 10):\n",
    "    for j in range(1, 10):\n",
    "        print(\"%2d\"%(i*j), end=' ')     # %2d두자리 넣기 \n",
    "    print()"
   ]
  },
  {
   "cell_type": "code",
   "execution_count": 3,
   "metadata": {},
   "outputs": [
    {
     "name": "stdout",
     "output_type": "stream",
     "text": [
      "1 : 2\n",
      "3 : 4\n",
      "5 : 6\n",
      "7 : 8\n"
     ]
    }
   ],
   "source": [
    "# for문에 tuple 사용하기\n",
    "var = [(1,2),(3,4),(5,6),(7,8),]\n",
    "\n",
    "for first, last in var:\n",
    "    print(first,':', last)"
   ]
  },
  {
   "cell_type": "markdown",
   "metadata": {},
   "source": [
    "총 5명의 학생이 시험을 보았는데, 시험점수가 60점을 넘으면 합격,\n",
    "그렇지 않으면 불합격\n",
    "합격,불합격 보여주기"
   ]
  },
  {
   "cell_type": "code",
   "execution_count": 13,
   "metadata": {},
   "outputs": [
    {
     "name": "stdout",
     "output_type": "stream",
     "text": [
      "합격\n",
      "불합격\n",
      "합격\n",
      "불합격\n",
      "합격\n"
     ]
    }
   ],
   "source": [
    "scores = [90,25,67,45,80]\n",
    "\n",
    "result = 0 \n",
    "for number in range(len(scores)):\n",
    "    result =  \"합격\" if scores[number] > 60  else \"불합격\"\n",
    "    print(result)"
   ]
  },
  {
   "cell_type": "code",
   "execution_count": 38,
   "metadata": {},
   "outputs": [
    {
     "name": "stdout",
     "output_type": "stream",
     "text": [
      "1 의 학생은 90 이여서 합격\n",
      "2 의 학생은 25 이여서 불합격\n",
      "3 의 학생은 67 이여서 합격\n",
      "4 의 학생은 45 이여서 불합격\n",
      "5 의 학생은 80 이여서 합격\n"
     ]
    }
   ],
   "source": [
    "scores = [90,25,67,45,80]\n",
    "number = 0\n",
    "for score in scores: \n",
    "    result = \"합격\" if score > 60  else \"불합격\"\n",
    "    number +=1\n",
    "    print(number,\"의 학생은\",score,\"이여서\",result)"
   ]
  },
  {
   "cell_type": "markdown",
   "metadata": {},
   "source": [
    " 학생들의 점수의 평균을 구하여 평균점수보다 낮으면 불합격\n",
    "평균점수보다 같거나 높으면 합격을 위의 출력과 같이 보여주기"
   ]
  },
  {
   "cell_type": "code",
   "execution_count": 41,
   "metadata": {},
   "outputs": [],
   "source": [
    "import numpy as np"
   ]
  },
  {
   "cell_type": "code",
   "execution_count": 65,
   "metadata": {},
   "outputs": [
    {
     "name": "stdout",
     "output_type": "stream",
     "text": [
      "학급의 평균 점수는  61.4 입니다\n",
      "1 의 학생은  90 점이여서 합격 입니다\n",
      "2 의 학생은  25 점이여서 불합격 입니다\n",
      "3 의 학생은  67 점이여서 합격 입니다\n",
      "4 의 학생은  45 점이여서 불합격 입니다\n",
      "5 의 학생은  80 점이여서 합격 입니다\n"
     ]
    }
   ],
   "source": [
    "scores = [90,25,67,45,80]\n",
    "number = 0\n",
    "\n",
    "print(\"학급의 평균 점수는 \",np.mean(scores),\"입니다\")\n",
    "for score in scores:\n",
    "    number +=1\n",
    "    result = \"합격\" if score > 60 else \"불합격\"\n",
    "    print(number,\"의 학생은 \",score,\"점이여서\",result,\"입니다\")"
   ]
  },
  {
   "cell_type": "code",
   "execution_count": 64,
   "metadata": {},
   "outputs": [
    {
     "name": "stdout",
     "output_type": "stream",
     "text": [
      "1 의 학생은 합격\n",
      "3 의 학생은 합격\n",
      "5 의 학생은 합격\n"
     ]
    }
   ],
   "source": [
    "scores = [90,25,67,45,80]\n",
    "number = 0\n",
    "\n",
    "for score in scores:\n",
    "        # 참 if 조건 else 거짓 \n",
    "    result = \"합격\" if score > 60 else \"불합격\"\n",
    "    number +=1\n",
    "    # if문을 만족하지 않으면 반복 \n",
    "    if score < 60:\n",
    "            continue\n",
    "    print(number,\"의 학생은\",result)"
   ]
  },
  {
   "cell_type": "markdown",
   "metadata": {},
   "source": [
    "총 5명의 학생이 시험을 보아쓴데 60점을 넘으면 합격, 그렇지 않으면 불합격\n",
    "합격한 학생들의 번호만 새로운 list를 생성하여 출력 "
   ]
  },
  {
   "cell_type": "code",
   "execution_count": 123,
   "metadata": {},
   "outputs": [
    {
     "name": "stdout",
     "output_type": "stream",
     "text": [
      "  합격자 번호  \n",
      "----------\n",
      "[1]\n",
      "    1     \n",
      "[1, 3]\n",
      "    3     \n",
      "[1, 3, 5]\n",
      "    5     \n"
     ]
    }
   ],
   "source": [
    "scores = [90,25,67,45,80]\n",
    "number = 0\n",
    "newlist = []\n",
    "print(\"{0:^10}\".format('합격자 번호'))\n",
    "print('-'*10)\n",
    "for score in scores:\n",
    "    number += 1\n",
    "    if score < 60 :\n",
    "        continue\n",
    "    newlist.append(number)\n",
    "    print(newlist)\n",
    "    print(\"{0:^10}\".format(newlist[len(newlist)-1]))"
   ]
  },
  {
   "cell_type": "markdown",
   "metadata": {},
   "source": [
    "--------"
   ]
  },
  {
   "cell_type": "markdown",
   "metadata": {},
   "source": [
    "# 문장과 단어 추출"
   ]
  },
  {
   "cell_type": "code",
   "execution_count": 83,
   "metadata": {},
   "outputs": [],
   "source": [
    "string = \"\"\"나는 이지예 입니다.\n",
    "주소는 서울시 입니다 \n",
    "나이는 25세 입니다.\"\"\""
   ]
  },
  {
   "cell_type": "code",
   "execution_count": 82,
   "metadata": {},
   "outputs": [
    {
     "data": {
      "text/plain": [
       "'나는 이지예입니다.\\n주소는 서울시 입니다 \\n나이는 25세 입니다.'"
      ]
     },
     "execution_count": 82,
     "metadata": {},
     "output_type": "execute_result"
    }
   ],
   "source": [
    "string"
   ]
  },
  {
   "cell_type": "code",
   "execution_count": 86,
   "metadata": {},
   "outputs": [
    {
     "name": "stdout",
     "output_type": "stream",
     "text": [
      "['나는 이지예 입니다.', '주소는 서울시 입니다 ', '나이는 25세 입니다.']\n",
      "['나는', '이지예', '입니다.', '주소는', '서울시', '입니다', '나이는', '25세', '입니다.']\n"
     ]
    }
   ],
   "source": [
    "# 문단 -> 문장\n",
    "sents = [] # 문장저장\n",
    "words = [] # 단어저장\n",
    "for sen in string.split('\\n'):\n",
    "    sents.append(sen)\n",
    "    # 문장 -> 단어\n",
    "    for word in sen.split():\n",
    "        words.append(word)\n",
    "print(sents)\n",
    "print(words)"
   ]
  },
  {
   "cell_type": "code",
   "execution_count": 88,
   "metadata": {},
   "outputs": [
    {
     "data": {
      "text/plain": [
       "[5, 10, 15, 20]"
      ]
     },
     "execution_count": 88,
     "metadata": {},
     "output_type": "execute_result"
    }
   ],
   "source": [
    "var01 = [1,2,3,4]\n",
    "var02 =[]\n",
    "# var02에 var01의 인덱스 번호에 각각 5를 곱하여 출력하기 \n",
    "\n",
    "for i in var01:\n",
    "    var02.append(i*5)\n",
    "\n",
    "var02"
   ]
  },
  {
   "cell_type": "markdown",
   "metadata": {},
   "source": [
    "# 파이썬의 list for문"
   ]
  },
  {
   "cell_type": "code",
   "execution_count": 89,
   "metadata": {},
   "outputs": [
    {
     "data": {
      "text/plain": [
       "[5, 10, 15, 20]"
      ]
     },
     "execution_count": 89,
     "metadata": {},
     "output_type": "execute_result"
    }
   ],
   "source": [
    "var01 = [1,2,3,4]\n",
    "var02 = [i * 5 for i in var01]\n",
    "var02"
   ]
  },
  {
   "cell_type": "code",
   "execution_count": 95,
   "metadata": {},
   "outputs": [
    {
     "data": {
      "text/plain": [
       "[10, 20]"
      ]
     },
     "execution_count": 95,
     "metadata": {},
     "output_type": "execute_result"
    }
   ],
   "source": [
    "# var01의 데이터가 짝수인 경우에만 5를 곱하여 var02 list 만들기 \n",
    "var01 = [1,2,3,4]\n",
    "var02 = [i * 5 for i in var01 if i % 2 == 0 ]\n",
    "var02 "
   ]
  },
  {
   "cell_type": "code",
   "execution_count": 106,
   "metadata": {},
   "outputs": [
    {
     "name": "stdout",
     "output_type": "stream",
     "text": [
      "[2, 4, 6, 8, 10, 12, 14, 16, 18, 3, 6, 9, 12, 15, 18, 21, 24, 27, 4, 8, 12, 16, 20, 24, 28, 32, 36, 5, 10, 15, 20, 25, 30, 35, 40, 45, 6, 12, 18, 24, 30, 36, 42, 48, 54, 7, 14, 21, 28, 35, 42, 49, 56, 63, 8, 16, 24, 32, 40, 48, 56, 64, 72, 9, 18, 27, 36, 45, 54, 63, 72, 81]\n"
     ]
    }
   ],
   "source": [
    "# 구구단 결과만 리스트로 만들기\n",
    "var01 = [2,3,4,5,6,7,8,9]\n",
    "\n",
    "var02 = [i * j for i in var01 for  j in range(1,10)]\n",
    "print(var02)"
   ]
  },
  {
   "cell_type": "code",
   "execution_count": 119,
   "metadata": {},
   "outputs": [
    {
     "name": "stdout",
     "output_type": "stream",
     "text": [
      "합격한 학생들의 평균 점수는 79.00 입니다\n"
     ]
    }
   ],
   "source": [
    "# 60점 이상의 학생 점수만 list로 만들어서 평균 출력하기 (listed for문 사용)\n",
    "import numpy as np\n",
    "score = [90,25,67,45,80]\n",
    "passNum = [ i for i in scores if i > 60]\n",
    "print(\"합격한 학생들의 평균 점수는 %0.2f\"%np.mean(passNum),\"입니다\")"
   ]
  },
  {
   "cell_type": "markdown",
   "metadata": {},
   "source": []
  },
  {
   "cell_type": "code",
   "execution_count": null,
   "metadata": {},
   "outputs": [],
   "source": []
  },
  {
   "cell_type": "markdown",
   "metadata": {},
   "source": []
  }
 ],
 "metadata": {
  "kernelspec": {
   "display_name": "Python 3.9.7 ('base')",
   "language": "python",
   "name": "python3"
  },
  "language_info": {
   "codemirror_mode": {
    "name": "ipython",
    "version": 3
   },
   "file_extension": ".py",
   "mimetype": "text/x-python",
   "name": "python",
   "nbconvert_exporter": "python",
   "pygments_lexer": "ipython3",
   "version": "3.9.7"
  },
  "orig_nbformat": 4,
  "vscode": {
   "interpreter": {
    "hash": "c34e8390e776d2ee205b71ed5a6130fee3cef8da5e87e926ce18e14f4a070d72"
   }
  }
 },
 "nbformat": 4,
 "nbformat_minor": 2
}
