{
 "cells": [
  {
   "cell_type": "code",
   "execution_count": 42,
   "metadata": {},
   "outputs": [],
   "source": [
    "import warnings \n",
    "warnings.filterwarnings(\"ignore\")"
   ]
  },
  {
   "cell_type": "markdown",
   "metadata": {},
   "source": [
    "![](../Data/deep.png)"
   ]
  },
  {
   "cell_type": "markdown",
   "metadata": {},
   "source": [
    "# 패션 mnist"
   ]
  },
  {
   "cell_type": "code",
   "execution_count": 43,
   "metadata": {},
   "outputs": [],
   "source": [
    "from tensorflow import keras\n",
    "(train_input, train_target), (test_input, test_target) = keras.datasets.fashion_mnist.load_data()"
   ]
  },
  {
   "cell_type": "code",
   "execution_count": 44,
   "metadata": {},
   "outputs": [
    {
     "data": {
      "text/plain": [
       "(60000, 28, 28)"
      ]
     },
     "execution_count": 44,
     "metadata": {},
     "output_type": "execute_result"
    }
   ],
   "source": [
    "# train과 검증(valid) 분리\n",
    "from sklearn.model_selection import train_test_split\n",
    "train_scaled = train_input / 255 # 시각화 하므로 /255\n",
    "train_scaled.shape"
   ]
  },
  {
   "cell_type": "code",
   "execution_count": 45,
   "metadata": {},
   "outputs": [
    {
     "data": {
      "text/plain": [
       "(60000, 784)"
      ]
     },
     "execution_count": 45,
     "metadata": {},
     "output_type": "execute_result"
    }
   ],
   "source": [
    "# 2차원으로 변환 \n",
    "train_scaled = train_scaled.reshape(-1,28*28)\n",
    "train_scaled.shape"
   ]
  },
  {
   "cell_type": "code",
   "execution_count": 46,
   "metadata": {},
   "outputs": [],
   "source": [
    "train_scaled, val_scaled, train_target, val_target = train_test_split(\n",
    "    train_scaled,train_target, test_size = 0.2, random_state=42\n",
    ")"
   ]
  },
  {
   "cell_type": "markdown",
   "metadata": {},
   "source": [
    "### layer를 추가하는 방법-1 "
   ]
  },
  {
   "cell_type": "code",
   "execution_count": 47,
   "metadata": {},
   "outputs": [],
   "source": [
    "# layer 만들기\n",
    "# 은닉층 \n",
    "# input_shape 입력층\n",
    "dense1 = keras.layers.Dense(100,activation=\"sigmoid\",input_shape=(784,))\n",
    "# 출력층\n",
    "# 다중분류 softmax\n",
    "dense2= keras.layers.Dense(10,activation=\"softmax\")"
   ]
  },
  {
   "cell_type": "code",
   "execution_count": 48,
   "metadata": {},
   "outputs": [],
   "source": [
    "# 전체 모델에 층을 추가\n",
    "model = keras.Sequential([dense1, dense2])"
   ]
  },
  {
   "cell_type": "code",
   "execution_count": 49,
   "metadata": {},
   "outputs": [
    {
     "name": "stdout",
     "output_type": "stream",
     "text": [
      "Model: \"sequential_7\"\n",
      "_________________________________________________________________\n",
      " Layer (type)                Output Shape              Param #   \n",
      "=================================================================\n",
      " dense_11 (Dense)            (None, 100)               78500     \n",
      "                                                                 \n",
      " dense_12 (Dense)            (None, 10)                1010      \n",
      "                                                                 \n",
      "=================================================================\n",
      "Total params: 79,510\n",
      "Trainable params: 79,510\n",
      "Non-trainable params: 0\n",
      "_________________________________________________________________\n"
     ]
    }
   ],
   "source": [
    "model.summary()\n",
    "# param # 은 가중치에 절편을 더해진 값\n",
    "# y = 784 *  100 +10 \n",
    "# 여기서 784는 가중치 * 100 에 더하기 100한값 => 가중치 갯수에 절편이 더해진 값\n",
    "# 재실행하면 dense 수 더해짐 "
   ]
  },
  {
   "cell_type": "markdown",
   "metadata": {},
   "source": [
    "---\n",
    "# layer를 추가하는 방법 -2"
   ]
  },
  {
   "cell_type": "code",
   "execution_count": 50,
   "metadata": {},
   "outputs": [],
   "source": [
    "model = keras.Sequential(\n",
    "    [\n",
    "    keras.layers.Dense(100,activation=\"sigmoid\",input_shape=(784,),name='hidden'),\n",
    "    keras.layers.Dense(10,activation=\"softmax\",name=\"output\")\n",
    "    ], name = \"패션 mnist 모델\"\n",
    ")"
   ]
  },
  {
   "cell_type": "code",
   "execution_count": 51,
   "metadata": {},
   "outputs": [
    {
     "name": "stdout",
     "output_type": "stream",
     "text": [
      "Model: \"패션 mnist 모델\"\n",
      "_________________________________________________________________\n",
      " Layer (type)                Output Shape              Param #   \n",
      "=================================================================\n",
      " hidden (Dense)              (None, 100)               78500     \n",
      "                                                                 \n",
      " output (Dense)              (None, 10)                1010      \n",
      "                                                                 \n",
      "=================================================================\n",
      "Total params: 79,510\n",
      "Trainable params: 79,510\n",
      "Non-trainable params: 0\n",
      "_________________________________________________________________\n"
     ]
    }
   ],
   "source": [
    "model.summary()"
   ]
  },
  {
   "cell_type": "markdown",
   "metadata": {},
   "source": [
    "---\n",
    "### layer를 추가하는 방법 - 3 "
   ]
  },
  {
   "cell_type": "code",
   "execution_count": 52,
   "metadata": {},
   "outputs": [],
   "source": [
    "model = keras.Sequential()\n",
    "model.add(keras.layers.Dense(100,activation=\"sigmoid\",input_shape=(784,)))\n",
    "model.add(keras.layers.Dense(10,activation=\"softmax\"))"
   ]
  },
  {
   "cell_type": "code",
   "execution_count": 53,
   "metadata": {},
   "outputs": [
    {
     "name": "stdout",
     "output_type": "stream",
     "text": [
      "Model: \"sequential_8\"\n",
      "_________________________________________________________________\n",
      " Layer (type)                Output Shape              Param #   \n",
      "=================================================================\n",
      " dense_13 (Dense)            (None, 100)               78500     \n",
      "                                                                 \n",
      " dense_14 (Dense)            (None, 10)                1010      \n",
      "                                                                 \n",
      "=================================================================\n",
      "Total params: 79,510\n",
      "Trainable params: 79,510\n",
      "Non-trainable params: 0\n",
      "_________________________________________________________________\n"
     ]
    }
   ],
   "source": [
    "model.summary()"
   ]
  },
  {
   "cell_type": "markdown",
   "metadata": {},
   "source": [
    "---\n",
    "### 모델 훈련 \n"
   ]
  },
  {
   "cell_type": "code",
   "execution_count": 54,
   "metadata": {},
   "outputs": [
    {
     "name": "stdout",
     "output_type": "stream",
     "text": [
      "Epoch 1/6\n",
      "1500/1500 [==============================] - 4s 2ms/step - loss: 0.5611 - accuracy: 0.8080\n",
      "Epoch 2/6\n",
      "1500/1500 [==============================] - 3s 2ms/step - loss: 0.4092 - accuracy: 0.8526\n",
      "Epoch 3/6\n",
      "1500/1500 [==============================] - 3s 2ms/step - loss: 0.3747 - accuracy: 0.8659\n",
      "Epoch 4/6\n",
      "1500/1500 [==============================] - 3s 2ms/step - loss: 0.3516 - accuracy: 0.8723\n",
      "Epoch 5/6\n",
      "1500/1500 [==============================] - 3s 2ms/step - loss: 0.3345 - accuracy: 0.8791\n",
      "Epoch 6/6\n",
      "1500/1500 [==============================] - 3s 2ms/step - loss: 0.3204 - accuracy: 0.8829\n"
     ]
    },
    {
     "data": {
      "text/plain": [
       "<keras.callbacks.History at 0x7fd89ea9a160>"
      ]
     },
     "execution_count": 54,
     "metadata": {},
     "output_type": "execute_result"
    }
   ],
   "source": [
    "model.compile(loss=\"sparse_categorical_crossentropy\",metrics = 'accuracy')\n",
    "model.fit(train_scaled,train_target,epochs=6)"
   ]
  },
  {
   "cell_type": "markdown",
   "metadata": {},
   "source": [
    "> epochs: 6 => 정확도accuracy: 0.8829 "
   ]
  },
  {
   "cell_type": "markdown",
   "metadata": {},
   "source": [
    "# sigmoid와 relu 함수의 비교 "
   ]
  },
  {
   "cell_type": "markdown",
   "metadata": {},
   "source": [
    "### sigmoid function\n",
    "![](../Data/sigmoid.png)\n",
    "- sigmoid 함수는 예측값이 0과 1 사이에서 이루어진다\n",
    "-> 즉 0에도 닿지 않고 1에도 도달하지 않는 값이라 모든 예측값 0에서 1사이이므로 예측값끼리의 차이가 적다. Ex ) 0.3 - 0.1 => 0.2"
   ]
  },
  {
   "cell_type": "markdown",
   "metadata": {},
   "source": [
    "### relu function\n",
    "![](../Data/relu.png)\n",
    "- relu 함수는 예측값을 양수로 만들어 예측값의 차를 크게 만들어준다.\n",
    "- 여기서 input은 입력층, output은 출력층(예측값)"
   ]
  },
  {
   "cell_type": "markdown",
   "metadata": {},
   "source": [
    "- sigmoid 함수는 숫자가 무한대로 커지게 되면 데이터의 차이가 거의 없다는 단점이 있다.\n",
    "- 이를 해결한 것이 relu 함수로 인공신경망에 기여한 바가 크며 음수는 모든 0으로 양수는 항상 최대값을 출력하는 함수"
   ]
  },
  {
   "cell_type": "code",
   "execution_count": 57,
   "metadata": {},
   "outputs": [],
   "source": [
    "# 입력층을 단순화 하기 \n",
    "model = keras.Sequential()\n",
    "# 입력층 \n",
    "# flatten 입력층을 2차원 그대로 사용한다.\n",
    "model.add(keras.layers.Flatten(input_shape=(28,28)))\n",
    "# hidden layer\n",
    "model.add(keras.layers.Dense(100, activation = \"relu\"))\n",
    "model.add(keras.layers.Dense(10, activation = \"softmax\"))\n"
   ]
  },
  {
   "cell_type": "code",
   "execution_count": 58,
   "metadata": {},
   "outputs": [
    {
     "name": "stdout",
     "output_type": "stream",
     "text": [
      "Model: \"sequential_10\"\n",
      "_________________________________________________________________\n",
      " Layer (type)                Output Shape              Param #   \n",
      "=================================================================\n",
      " flatten (Flatten)           (None, 784)               0         \n",
      "                                                                 \n",
      " dense_15 (Dense)            (None, 100)               78500     \n",
      "                                                                 \n",
      " dense_16 (Dense)            (None, 10)                1010      \n",
      "                                                                 \n",
      "=================================================================\n",
      "Total params: 79,510\n",
      "Trainable params: 79,510\n",
      "Non-trainable params: 0\n",
      "_________________________________________________________________\n"
     ]
    }
   ],
   "source": [
    "model.summary()\n",
    "# output shape의 (행, 열)"
   ]
  },
  {
   "cell_type": "markdown",
   "metadata": {},
   "source": [
    "---\n",
    "### Optimizer (최적화 알고리즘)\n",
    "- 훈련시 Optimizer를 사용하여 최적화 알고리즘을 구성한다.\n",
    "- 보통 사용하는 것이 확률적 경사하강법 optimizer이다."
   ]
  },
  {
   "cell_type": "code",
   "execution_count": null,
   "metadata": {},
   "outputs": [],
   "source": [
    "# adam이 정확도가 높은 편 \n",
    "# learning rate = 0.01 => sgd\n",
    "# learning rate = 1 >  => 모멘텀\n",
    "# learning rate = 0.001(1% 정도) => adam, adagrad\n",
    "# 전체가 100일 때 "
   ]
  },
  {
   "cell_type": "code",
   "execution_count": 60,
   "metadata": {},
   "outputs": [],
   "source": [
    "# 적용방법 (확률적 경사 하강법) -1\n",
    "model.compile(optimizer=\"sgd\",loss='sparse_categorical_crossentropy',metrics='accuracy')"
   ]
  },
  {
   "cell_type": "code",
   "execution_count": 61,
   "metadata": {},
   "outputs": [],
   "source": [
    "# 적용방법 (확률적 경사 하강법) -2\n",
    "# instance \n",
    "sgd = keras.optimizers.SGD()\n",
    "model.compile(optimizer=sgd,loss='sparse_categorical_crossentropy',metrics='accuracy')"
   ]
  },
  {
   "cell_type": "code",
   "execution_count": 62,
   "metadata": {},
   "outputs": [],
   "source": [
    "# 적용방법 (확률적 경사 하강법) , learning rate 변경 -3 : sgd의 learning rate의 기본값:0.01\n",
    "sgd = keras.optimizers.SGD(learning_rate=0.1)\n",
    "model.compile(optimizer=sgd,loss='sparse_categorical_crossentropy',metrics='accuracy')"
   ]
  },
  {
   "cell_type": "code",
   "execution_count": 67,
   "metadata": {},
   "outputs": [],
   "source": [
    "# 적용방법 (mometam)\n",
    "sgd = keras.optimizers.SGD(momentum=0.9,nesterov =True)\n",
    "model.compile(optimizer=sgd,loss='sparse_categorical_crossentropy',metrics='accuracy')\n",
    "# mometam = default 값은 0.9 , 점핑하면서 정답이 아닌 값에서 학습이 끝나지 않게 해 epoch가 줄인다.\n",
    "# 한번의 jumping 이 epoch 하나"
   ]
  },
  {
   "cell_type": "code",
   "execution_count": 68,
   "metadata": {},
   "outputs": [],
   "source": [
    "# 적용방법 (adagrad)\n",
    "adagrad = keras.optimizers.Adagrad()\n",
    "model.compile(optimizer=adagrad,loss='sparse_categorical_crossentropy',metrics='accuracy')\n",
    "# mometam = default 값은 0.9"
   ]
  },
  {
   "cell_type": "code",
   "execution_count": 69,
   "metadata": {},
   "outputs": [],
   "source": [
    "# 적용방법 (RMSprop)\n",
    "rmsprop = keras.optimizers.RMSprop()\n",
    "model.compile(optimizer=rmsprop,loss='sparse_categorical_crossentropy',metrics='accuracy')\n",
    "# mometam = default 값은 0.9"
   ]
  },
  {
   "cell_type": "code",
   "execution_count": null,
   "metadata": {},
   "outputs": [],
   "source": []
  }
 ],
 "metadata": {
  "kernelspec": {
   "display_name": "Python 3.9.7 ('base')",
   "language": "python",
   "name": "python3"
  },
  "language_info": {
   "codemirror_mode": {
    "name": "ipython",
    "version": 3
   },
   "file_extension": ".py",
   "mimetype": "text/x-python",
   "name": "python",
   "nbconvert_exporter": "python",
   "pygments_lexer": "ipython3",
   "version": "3.9.7"
  },
  "orig_nbformat": 4,
  "vscode": {
   "interpreter": {
    "hash": "c34e8390e776d2ee205b71ed5a6130fee3cef8da5e87e926ce18e14f4a070d72"
   }
  }
 },
 "nbformat": 4,
 "nbformat_minor": 2
}
