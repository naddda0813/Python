{
 "cells": [
  {
   "cell_type": "markdown",
   "metadata": {},
   "source": [
    "### CNN(Convolutional Neural Network, 합성곱 신경망)에서 본 심층신경망(다층 퍼셉트론)의 단점\n",
    "- 입력값으로 고유 이미지 생김새 정보를 알 수 없다. 2차원 배열 자료를 1차원으로 변경하여 작업이 시작된다.\n",
    "- 심층신경망은 픽셀 하나, 하나의 변화에 상당히 민감하다. 이미지 생김새를 사용할 수 없으므로 한 두개의 픽셀이 모델 예측에 영향을 끼친다.\n",
    "- 픽셀 한 두개의 정보에도 민감하게 반응하기 위해 상당히 많은 변수를 모델 안에 가지고 있다. 이로 인해 학습시간이 오래 걸리고 잘못하면 과대적합이 발생한다. "
   ]
  },
  {
   "cell_type": "markdown",
   "metadata": {},
   "source": [
    "![](../Data/cnn.png)"
   ]
  },
  {
   "cell_type": "markdown",
   "metadata": {},
   "source": [
    "### 합성곱 신경망 (CNN:Convolutional Neural Network)의 구성요소 \n",
    "- 밀집층\n",
    "#### 1차원 합성곱 (노드의)\n",
    "- 합성곱 신경망은 노드의 전체갯수가 아니고 정하여 사용함 (3,5 => hyper parameter: 가중치가 3개 혹은 5개)\n",
    "- 1차원이니 입력층을 아래로 한칸을 이동하여(1,2,3 => 2,3,4 =>3,4,5) 위에서 계산한 동일한 가중치와 절편을 사용한다. (같은 가중치)\n",
    "- 밀집층 보다 가중치의 갯수가 훨씬 작다 \n",
    "- 10개의 입력이 있으면 출력은 8개만 만들어짐.(화살표가 지나간 노드)\n",
    "- 3개씩 있는 것을 필터라고 하여 필터의 커널은 3이다.(3개씩 묶음 )\n",
    "\n",
    "- 겹치게 학습을 해야 이미지가 쌓인다. \n",
    "#### 2차원 합성곱\n",
    "- 4 * 4의 그림일 경우 필터의 커널을 3 * 3이고 각 입력층에 곱해지는 weight와 bias는 동일하다.\n",
    "- 발생하는 출력의 갯수는 2 * 2개 이다. \n",
    "- 겹칠수록 이미지가 쌓여 학습을 많이 하여 정확해진다.\n",
    "- 단점 : 가장자리는 가운데에 비해 학습을 더하여 덜 정확함. \n",
    "-> 해결방법이 있다. \n",
    "-> feature가 뚜렷한 것을 골라서 그래서 윤곽선을 뚜렷하게 그릴수 있음\n",
    "\n",
    "#### 특성맵 \n",
    "- 특성맵을 활성화 출력이라고도 한다. 이는 커널과 특성맵 사이에 활성화 함수(w : activation -> Relu)가 들어가기 떄문이다.\n",
    "- 그래서 CNN에서는 특성맵이라도 불린다.\n",
    "- 2차원으로 구성된 입력층을 그대로 특성맵도 2차원으로 출력한다.\n",
    "\n",
    "#### 여러개의 필터 \n",
    "- 필터가 여러개 이므로 모든 가중치와 절편이 달라야 한다. \n",
    "- 특성맵의 구성은 가로 * 세로 * 필터의 갯수로 3차원이 생성된다. \n",
    "\n",
    "    *keras.layers.Conv20(10,kernel_size =(3,3),activation = \"relu\") : <- 10 : 필터의 갯수 \n",
    "\n",
    "#### Padding \n",
    "- 입력값과 동일한 특성맵의 크기를 구하는 방법으로 same padding이 있다.\n",
    "- valid는 padding이 없이 구하는 방법(기존의)이다.\n",
    "    *keras.layers.Conv2D(10,kernel_size =(3,3),activation = \"relu\",padding = \"same\") : <- paddinng : same으로 한다.\n",
    "\n",
    "#### Stride \n",
    "- 필터의 이동이 한칸씩이 아닌 여러칸으로 이동할 경우, 이 이동하는 크기를 stride 라고 함.\n",
    "- ex > 인물사진 중 배경이 많이 차지할 때, 움직임이 적을때 \n",
    "- 아주 특수한 경우를 빼고는 stride는 1을 초과하여 사용하지 않는다.(default =1 => 1칸식 이동 : 대부분 )\n",
    "\n",
    "    *keras.layers.Conv20(10,kernel_size =(3,3),activation = \"relu\",padding = \"same\", stride =1) : <- paddinng : same으로 한다.\n",
    "-> 원래 1칸이라서 안써도 똑같은 값이 나온다.\n",
    "\n",
    "### Pooling 층\n",
    "- 특성맵의 다음단계를 차원축소하는 필터\n",
    "- 데이터 중 최대값을 뽑는 최대풀링과 평균값을 내는 평균폴링이 있다.\n",
    "- 폴링은 가중치가 없으며 풀링의 결과값도 특성맵이라고 한다.\n"
   ]
  },
  {
   "cell_type": "markdown",
   "metadata": {},
   "source": [
    "<img src=\"../Data/2dConvolution.png\" width=\"80%\"><br>\n",
    "- 여기서 최대풀링이라 하면 2*2에서 최대값을 뽑는다<br>\n",
    "6  4 <br>\n",
    "7  4 <br>"
   ]
  },
  {
   "cell_type": "markdown",
   "metadata": {},
   "source": [
    "<img src=\"../Data/filter.png\" width=\"80%\"><br>"
   ]
  },
  {
   "cell_type": "markdown",
   "metadata": {},
   "source": [
    "<img src=\"../Data/padding.png\" width=\"80%\"><br>\n",
    "- 왼쪽 사진은 다른 사진과 일괄적으로 크기(해상도)를 맞추기 위해 0(검정)으로 채운다 :same padding"
   ]
  },
  {
   "cell_type": "markdown",
   "metadata": {},
   "source": [
    "<img src=\"../Data/CNN2.png\" width=\"80%\">"
   ]
  },
  {
   "cell_type": "markdown",
   "metadata": {},
   "source": [
    "- 주의: 같은 그림이여도 위치가 다르면 다른 이미지라 인식할 수 있기 때문에 이미지 processing이 필요하다. \n",
    "- 이것은 합성곱신경망의 전단계에서 이루어지는 것임"
   ]
  },
  {
   "cell_type": "markdown",
   "metadata": {},
   "source": [
    "- 윤곽선의 위주라서 컬러 구분은 어떻게 할까?\n",
    "- r,g,b 는 하나의 면이 3차원으로 쌓인 큐브 모양이다.\n",
    "- 그래서 커널 또한 3차원으로 구성되어 학습을 한다.<br>\n",
    "-> 차원에 따라서 커널의 차원 또한 바뀌어 학습한다. "
   ]
  },
  {
   "cell_type": "markdown",
   "metadata": {},
   "source": [
    "- 여기서 특징점을 뽑아내어 인식한다. => 모양으로 하는 것이 아니다.(그래서 위치가 바껴도 인식할 수 있는 것임)"
   ]
  },
  {
   "cell_type": "markdown",
   "metadata": {},
   "source": [
    "> cnn은 이미지 딥러닝을 위한 전처리<br>\n",
    "> 반고흐 그림과 피카소의 그림도 구분 가능하다. 색깔로 하는 것이 아님<br>\n",
    "> 이를 이용해서 위조 인식도 가능하다."
   ]
  },
  {
   "cell_type": "code",
   "execution_count": null,
   "metadata": {},
   "outputs": [],
   "source": []
  },
  {
   "cell_type": "code",
   "execution_count": null,
   "metadata": {},
   "outputs": [],
   "source": []
  }
 ],
 "metadata": {
  "kernelspec": {
   "display_name": "Python 3.9.7 ('base')",
   "language": "python",
   "name": "python3"
  },
  "language_info": {
   "name": "python",
   "version": "3.9.7"
  },
  "orig_nbformat": 4,
  "vscode": {
   "interpreter": {
    "hash": "c34e8390e776d2ee205b71ed5a6130fee3cef8da5e87e926ce18e14f4a070d72"
   }
  }
 },
 "nbformat": 4,
 "nbformat_minor": 2
}
