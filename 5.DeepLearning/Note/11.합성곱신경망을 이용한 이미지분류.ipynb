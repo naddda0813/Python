{
 "cells": [
  {
   "cell_type": "code",
   "execution_count": 20,
   "metadata": {},
   "outputs": [],
   "source": [
    "import warnings\n",
    "warnings.filterwarnings(\"ignore\")"
   ]
  },
  {
   "cell_type": "markdown",
   "metadata": {},
   "source": [
    "### 패션 mnist 불러오기 "
   ]
  },
  {
   "cell_type": "code",
   "execution_count": 21,
   "metadata": {},
   "outputs": [],
   "source": [
    "from tensorflow import keras\n",
    "from sklearn.model_selection import train_test_split\n",
    "\n",
    "(train_input, train_target), (test_input, test_target) = keras.datasets.fashion_mnist.load_data()\n",
    "# 2차원을 3차원으로 추가, 표준화\n",
    "train_scaled = train_input.reshape(-1, 28, 28,1) / 255.0 \n",
    "# 훈련과 검증용으로 나눈기\n",
    "train_scaled, val_scaled, train_target,val_target = train_test_split(\n",
    "    train_scaled, train_target, test_size = 0.2, random_state=42\n",
    ") # val_scaled = test size\n"
   ]
  },
  {
   "cell_type": "code",
   "execution_count": 22,
   "metadata": {},
   "outputs": [
    {
     "data": {
      "text/plain": [
       "48000"
      ]
     },
     "execution_count": 22,
     "metadata": {},
     "output_type": "execute_result"
    }
   ],
   "source": [
    "len(train_scaled)"
   ]
  },
  {
   "cell_type": "code",
   "execution_count": 23,
   "metadata": {},
   "outputs": [
    {
     "data": {
      "text/plain": [
       "12000"
      ]
     },
     "execution_count": 23,
     "metadata": {},
     "output_type": "execute_result"
    }
   ],
   "source": [
    "len(val_scaled)"
   ]
  },
  {
   "cell_type": "markdown",
   "metadata": {},
   "source": [
    "- keras에서 입력데이터가 3차원으로 구성된 데이터라 가정하므로 차원을 추가해서 channel 차원으로 1을 추가하였음\n",
    "- train set을 train과 valid로 구분"
   ]
  },
  {
   "cell_type": "markdown",
   "metadata": {},
   "source": [
    "### 합성곱 신경망 만들기"
   ]
  },
  {
   "cell_type": "code",
   "execution_count": 24,
   "metadata": {},
   "outputs": [],
   "source": [
    "model = keras.Sequential()"
   ]
  },
  {
   "cell_type": "code",
   "execution_count": 25,
   "metadata": {},
   "outputs": [],
   "source": [
    "# 1 \n",
    "# same padding, 같은 사이즈의 특성맵 생성 \n",
    "model.add(\n",
    "    keras.layers.Conv2D(\n",
    "        32, # 필터의 갯수\n",
    "        kernel_size = 3, # 커널의 갯수 (3*3 => 홀수이여야함)\n",
    "        activation = \"relu\",    # 활성함수(가중치를 더하는 방법)\n",
    "        padding = 'same',\n",
    "        input_shape = (28, 28,1),   # 입력층\n",
    "    )\n",
    ")\n",
    "# 특성맵 사이즈 (28,28,32) # "
   ]
  },
  {
   "cell_type": "code",
   "execution_count": 26,
   "metadata": {},
   "outputs": [],
   "source": [
    "# 2 \n",
    "# 최대풀링 (데이터 중 최대값을 택한다.(255에 가장 가까운 값))\n",
    "model.add(keras.layers.MaxPooling2D(2)) # 2*2"
   ]
  },
  {
   "cell_type": "code",
   "execution_count": 27,
   "metadata": {},
   "outputs": [],
   "source": [
    "# 3 \n",
    "# 합성곱층 \n",
    "model.add(\n",
    "    keras.layers.Conv2D(\n",
    "        64, # 필터의 갯수\n",
    "        kernel_size = 3, # 커널의 갯수 (3*3 => 홀수이여야함)\n",
    "        activation = \"relu\",    # 활성함수(가중치를 더하는 방법)\n",
    "        padding = 'same',\n",
    "    )\n",
    ")"
   ]
  },
  {
   "cell_type": "code",
   "execution_count": 28,
   "metadata": {},
   "outputs": [],
   "source": [
    "# 4 \n",
    "model.add(keras.layers.MaxPooling2D(2))# 2*2\n",
    "# maxpooling을 두번 거침 => 풀링층이 두번 "
   ]
  },
  {
   "cell_type": "markdown",
   "metadata": {},
   "source": [
    "<img src=\"../Data/maxpooling.png\">"
   ]
  },
  {
   "cell_type": "code",
   "execution_count": 29,
   "metadata": {},
   "outputs": [],
   "source": [
    "# 쓰는 순서에 따라 모델이 추가되므로 순서에 유의한다.\n",
    "\n",
    "# 풀링층을 1차원으로 변형 \n",
    "model.add(keras.layers.Flatten())\n",
    "# 밀집층 => 은닉층 \n",
    "model.add(keras.layers.Dense(100,activation=\"relu\"))\n",
    "\n",
    "# 일부 탈락(과대적합 방지)\n",
    "model.add(keras.layers.Dropout(0.4))\n",
    "\n",
    "model.add(keras.layers.Dense(10,activation=\"softmax\"))"
   ]
  },
  {
   "cell_type": "code",
   "execution_count": 30,
   "metadata": {},
   "outputs": [
    {
     "name": "stdout",
     "output_type": "stream",
     "text": [
      "Model: \"sequential_2\"\n",
      "_________________________________________________________________\n",
      " Layer (type)                Output Shape              Param #   \n",
      "=================================================================\n",
      " conv2d_4 (Conv2D)           (None, 28, 28, 32)        320       \n",
      "                                                                 \n",
      " max_pooling2d_2 (MaxPooling  (None, 14, 14, 32)       0         \n",
      " 2D)                                                             \n",
      "                                                                 \n",
      " conv2d_5 (Conv2D)           (None, 14, 14, 64)        18496     \n",
      "                                                                 \n",
      " max_pooling2d_3 (MaxPooling  (None, 7, 7, 64)         0         \n",
      " 2D)                                                             \n",
      "                                                                 \n",
      " flatten_1 (Flatten)         (None, 3136)              0         \n",
      "                                                                 \n",
      " dense_2 (Dense)             (None, 100)               313700    \n",
      "                                                                 \n",
      " dropout_1 (Dropout)         (None, 100)               0         \n",
      "                                                                 \n",
      " dense_3 (Dense)             (None, 10)                1010      \n",
      "                                                                 \n",
      "=================================================================\n",
      "Total params: 333,526\n",
      "Trainable params: 333,526\n",
      "Non-trainable params: 0\n",
      "_________________________________________________________________\n"
     ]
    }
   ],
   "source": [
    "model.summary()"
   ]
  },
  {
   "cell_type": "markdown",
   "metadata": {},
   "source": [
    "# model compile과 훈련"
   ]
  },
  {
   "cell_type": "code",
   "execution_count": 31,
   "metadata": {},
   "outputs": [
    {
     "name": "stdout",
     "output_type": "stream",
     "text": [
      "Epoch 1/20\n",
      "1500/1500 [==============================] - 28s 18ms/step - loss: 0.5092 - accuracy: 0.8195 - val_loss: 0.3174 - val_accuracy: 0.8805\n",
      "Epoch 2/20\n",
      "1500/1500 [==============================] - 30s 20ms/step - loss: 0.3370 - accuracy: 0.8802 - val_loss: 0.2658 - val_accuracy: 0.9007\n",
      "Epoch 3/20\n",
      "1500/1500 [==============================] - 28s 19ms/step - loss: 0.2865 - accuracy: 0.8972 - val_loss: 0.2481 - val_accuracy: 0.9078\n",
      "Epoch 4/20\n",
      "1500/1500 [==============================] - 28s 19ms/step - loss: 0.2537 - accuracy: 0.9081 - val_loss: 0.2361 - val_accuracy: 0.9128\n",
      "Epoch 5/20\n",
      "1500/1500 [==============================] - 30s 20ms/step - loss: 0.2303 - accuracy: 0.9168 - val_loss: 0.2289 - val_accuracy: 0.9144\n",
      "Epoch 6/20\n",
      "1500/1500 [==============================] - 28s 19ms/step - loss: 0.2091 - accuracy: 0.9234 - val_loss: 0.2288 - val_accuracy: 0.9154\n",
      "Epoch 7/20\n",
      "1500/1500 [==============================] - 29s 19ms/step - loss: 0.1957 - accuracy: 0.9291 - val_loss: 0.2173 - val_accuracy: 0.9184\n",
      "Epoch 8/20\n",
      "1500/1500 [==============================] - 30s 20ms/step - loss: 0.1778 - accuracy: 0.9333 - val_loss: 0.2127 - val_accuracy: 0.9217\n",
      "Epoch 9/20\n",
      "1500/1500 [==============================] - 32s 21ms/step - loss: 0.1622 - accuracy: 0.9392 - val_loss: 0.2216 - val_accuracy: 0.9224\n",
      "Epoch 10/20\n",
      "1500/1500 [==============================] - 29s 19ms/step - loss: 0.1517 - accuracy: 0.9433 - val_loss: 0.2137 - val_accuracy: 0.9244\n"
     ]
    }
   ],
   "source": [
    "model.compile(\n",
    "    optimizer = \"adam\",\n",
    "    # 손실함수\n",
    "    loss = \"sparse_categorical_crossentropy\", # 출력층은 숫자분류 => 0~9\n",
    "    metrics = \"accuracy\"\n",
    ")\n",
    "# 손실값이 적은 함수 저장 \n",
    "checkpoint_db= keras.callbacks.ModelCheckpoint(\"../Data/best_cnn_model.h5\")\n",
    "# 최적의 값을 찾으면 조기 종료\n",
    "early_stopping_cb = keras.callbacks.EarlyStopping(patience=2,restore_best_weights=True)\n",
    "\n",
    "history = model.fit(\n",
    "    train_scaled,\n",
    "    train_target,\n",
    "    epochs=20,\n",
    "    validation_data=(val_scaled,val_target),\n",
    "    callbacks = [checkpoint_db,early_stopping_cb]\n",
    ")"
   ]
  },
  {
   "cell_type": "code",
   "execution_count": 32,
   "metadata": {},
   "outputs": [
    {
     "name": "stdout",
     "output_type": "stream",
     "text": [
      "375/375 [==============================] - 2s 6ms/step - loss: 0.2137 - accuracy: 0.9244\n"
     ]
    },
    {
     "data": {
      "text/plain": [
       "[0.21369734406471252, 0.9244166612625122]"
      ]
     },
     "execution_count": 32,
     "metadata": {},
     "output_type": "execute_result"
    }
   ],
   "source": [
    "#검증용의 손실과 정확도 \n",
    "model = keras.models.load_model(\"../Data/best_cnn_model.h5\")\n",
    "model.evaluate(val_scaled, val_target)"
   ]
  },
  {
   "cell_type": "code",
   "execution_count": 33,
   "metadata": {},
   "outputs": [
    {
     "data": {
      "image/png": "[encoded data removed]",
      "text/plain": [
       "<Figure size 432x288 with 1 Axes>"
      ]
     },
     "metadata": {
      "needs_background": "light"
     },
     "output_type": "display_data"
    }
   ],
   "source": [
    "# 시각화 해보기\n",
    "import matplotlib.pyplot as plt\n",
    "\n",
    "plt.plot(history.history['loss'])\n",
    "plt.plot(history.history['val_loss'])\n",
    "plt.legend(['loss','val_loss'])\n",
    "plt.xlabel('epoch')\n",
    "plt.ylabel('loss')\n",
    "plt.show()"
   ]
  },
  {
   "cell_type": "code",
   "execution_count": 37,
   "metadata": {},
   "outputs": [
    {
     "data": {
      "image/png": "[encoded data removed]",
      "text/plain": [
       "<Figure size 432x288 with 1 Axes>"
      ]
     },
     "metadata": {
      "needs_background": "light"
     },
     "output_type": "display_data"
    }
   ],
   "source": [
    "# 이미지 확인\n",
    "plt.imshow(val_scaled[0].reshape(28,28),cmap=\"YlGn\")\n",
    "plt.show()"
   ]
  },
  {
   "cell_type": "code",
   "execution_count": 38,
   "metadata": {},
   "outputs": [
    {
     "name": "stdout",
     "output_type": "stream",
     "text": [
      "1/1 [==============================] - 0s 23ms/step\n",
      "[[1.5008849e-16 2.1030070e-26 7.6039355e-18 5.8286632e-21 7.8650007e-17\n",
      "  7.6795812e-18 2.6240445e-17 1.4113318e-19 1.0000000e+00 2.5280572e-17]]\n"
     ]
    }
   ],
   "source": [
    "pred = model.predict(val_scaled[0:1])\n",
    "print(pred)"
   ]
  },
  {
   "cell_type": "code",
   "execution_count": 41,
   "metadata": {},
   "outputs": [],
   "source": [
    "# 계단함수\n",
    "import numpy as np\n",
    "classes = ['티셔츠','팬츠','스웨터','드레스','코트','샌들','셔츠','스니커즈','가방','앵글부츠']"
   ]
  },
  {
   "cell_type": "code",
   "execution_count": 42,
   "metadata": {},
   "outputs": [
    {
     "name": "stdout",
     "output_type": "stream",
     "text": [
      "가방\n"
     ]
    }
   ],
   "source": [
    "# np.argmax 최대값의 인덱스를 반환\n",
    "print(classes[np.argmax(pred)])"
   ]
  },
  {
   "cell_type": "markdown",
   "metadata": {},
   "source": [
    "### 시험 데이터 확인해보기"
   ]
  },
  {
   "cell_type": "code",
   "execution_count": 43,
   "metadata": {},
   "outputs": [],
   "source": [
    "test_scaled = test_input.reshape(-1,28,28,1) /255.0"
   ]
  },
  {
   "cell_type": "code",
   "execution_count": 44,
   "metadata": {},
   "outputs": [
    {
     "name": "stdout",
     "output_type": "stream",
     "text": [
      "313/313 [==============================] - 2s 6ms/step - loss: 0.2363 - accuracy: 0.9179\n"
     ]
    },
    {
     "data": {
      "text/plain": [
       "[0.23633037507534027, 0.917900025844574]"
      ]
     },
     "execution_count": 44,
     "metadata": {},
     "output_type": "execute_result"
    }
   ],
   "source": [
    "model.evaluate(test_scaled,test_target)"
   ]
  },
  {
   "cell_type": "code",
   "execution_count": null,
   "metadata": {},
   "outputs": [],
   "source": [
    "> 6 :2 : 2의 비율 "
   ]
  }
 ],
 "metadata": {
  "kernelspec": {
   "display_name": "Python 3.9.7 ('base')",
   "language": "python",
   "name": "python3"
  },
  "language_info": {
   "codemirror_mode": {
    "name": "ipython",
    "version": 3
   },
   "file_extension": ".py",
   "mimetype": "text/x-python",
   "name": "python",
   "nbconvert_exporter": "python",
   "pygments_lexer": "ipython3",
   "version": "3.9.7"
  },
  "orig_nbformat": 4,
  "vscode": {
   "interpreter": {
    "hash": "c34e8390e776d2ee205b71ed5a6130fee3cef8da5e87e926ce18e14f4a070d72"
   }
  }
 },
 "nbformat": 4,
 "nbformat_minor": 2
}
