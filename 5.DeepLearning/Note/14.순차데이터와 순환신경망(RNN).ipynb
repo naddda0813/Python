{
 "cells": [
  {
   "cell_type": "markdown",
   "metadata": {},
   "source": [
    "# RNN (Recurrent Neural Network, 순환신경망 )\n",
    "- 순환데이터, 순환신경망 \n",
    "- 텍스트 데이터(ex: I am a boy) : 순서가 의미가 있다. \n",
    "- 시계열 데이터(ex: 1일 10도, 2일 8도)"
   ]
  },
  {
   "cell_type": "markdown",
   "metadata": {},
   "source": [
    "---\n",
    "### 순환신경망(RNN: Recurrent Neural Network)"
   ]
  },
  {
   "cell_type": "markdown",
   "metadata": {},
   "source": [
    "- IMDB(Interner Movie Data Base)\n",
    "- IMDB 구성 : train data (25000 개중 긍정 12500개, 부정 12500개)\n",
    "- NLP : Natural Language Processing(자연어 처리)\n",
    "- 말뭉치 : 하나의 데이터셋을 말뭉치라고 표현\n",
    "- 토큰 : 하나의 단어를 토큰이라고 표현\n",
    "- 어휘사전 : 번호로 구분된 유일한 단어들의 집단\n",
    "- 머신러닝이나 딥러닝 에서는 데이터가 숫자로 구성되어 있어야 하므로 이런 단어들의 고유한 번호로 할당하여 사용"
   ]
  },
  {
   "cell_type": "code",
   "execution_count": 2,
   "metadata": {},
   "outputs": [],
   "source": [
    "from tensorflow.keras.datasets import imdb\n",
    "# 이 중 500 단어를 사용하겠다.\n",
    "(train_input, train_target),(test_input, test_target) = imdb.load_data(num_words=500)"
   ]
  },
  {
   "cell_type": "code",
   "execution_count": 3,
   "metadata": {},
   "outputs": [
    {
     "name": "stdout",
     "output_type": "stream",
     "text": [
      "(25000,) (25000,)\n"
     ]
    }
   ],
   "source": [
    "print(train_input.shape, test_input.shape)"
   ]
  },
  {
   "cell_type": "code",
   "execution_count": 4,
   "metadata": {},
   "outputs": [
    {
     "data": {
      "text/plain": [
       "218"
      ]
     },
     "execution_count": 4,
     "metadata": {},
     "output_type": "execute_result"
    }
   ],
   "source": [
    "# train의 첫번쨰 문장의 token 갯수\n",
    "len(train_input[0])"
   ]
  },
  {
   "cell_type": "code",
   "execution_count": 5,
   "metadata": {},
   "outputs": [
    {
     "name": "stdout",
     "output_type": "stream",
     "text": [
      "[1, 14, 22, 16, 43, 2, 2, 2, 2, 65, 458, 2, 66, 2, 4, 173, 36, 256, 5, 25, 100, 43, 2, 112, 50, 2, 2, 9, 35, 480, 284, 5, 150, 4, 172, 112, 167, 2, 336, 385, 39, 4, 172, 2, 2, 17, 2, 38, 13, 447, 4, 192, 50, 16, 6, 147, 2, 19, 14, 22, 4, 2, 2, 469, 4, 22, 71, 87, 12, 16, 43, 2, 38, 76, 15, 13, 2, 4, 22, 17, 2, 17, 12, 16, 2, 18, 2, 5, 62, 386, 12, 8, 316, 8, 106, 5, 4, 2, 2, 16, 480, 66, 2, 33, 4, 130, 12, 16, 38, 2, 5, 25, 124, 51, 36, 135, 48, 25, 2, 33, 6, 22, 12, 215, 28, 77, 52, 5, 14, 407, 16, 82, 2, 8, 4, 107, 117, 2, 15, 256, 4, 2, 7, 2, 5, 2, 36, 71, 43, 2, 476, 26, 400, 317, 46, 7, 4, 2, 2, 13, 104, 88, 4, 381, 15, 297, 98, 32, 2, 56, 26, 141, 6, 194, 2, 18, 4, 226, 22, 21, 134, 476, 26, 480, 5, 144, 30, 2, 18, 51, 36, 28, 224, 92, 25, 104, 4, 226, 65, 16, 38, 2, 88, 12, 16, 283, 5, 16, 2, 113, 103, 32, 15, 16, 2, 19, 178, 32]\n"
     ]
    }
   ],
   "source": [
    "# 첫번쨰 댓글의 출력\n",
    "print(train_input[0])"
   ]
  },
  {
   "cell_type": "markdown",
   "metadata": {},
   "source": [
    "- 샘플의 시작부분 토큰은 1을 사용한다.(실제 단어가 아님, 간단한 표시 )\n",
    "- 2는 선정한 단어갯수에 포함되지 않는 단어를 표현한다.(500 범위 내에 있는 단어가 아님)\n",
    "- train_input의 자체는 numpy 배열이나 댓글에 사용된 토큰수가 다르기 때문에 numpy 배열을 사용 못하고 python list를 사용한다."
   ]
  },
  {
   "cell_type": "code",
   "execution_count": 6,
   "metadata": {},
   "outputs": [
    {
     "name": "stdout",
     "output_type": "stream",
     "text": [
      "[1 0 0 1 0 0 1 0 1 0]\n"
     ]
    }
   ],
   "source": [
    "# train의 target 출력 \n",
    "print(train_target[:10])\n",
    "# 1: 긍정 ,0 : 부정 "
   ]
  },
  {
   "cell_type": "code",
   "execution_count": 7,
   "metadata": {},
   "outputs": [],
   "source": [
    "# 훈련세트 준비\n",
    "from sklearn.model_selection import train_test_split\n",
    "train_input, val_input, train_target,val_target= train_test_split(\n",
    "    train_input,train_target, test_size=0.2,random_state = 42\n",
    ")"
   ]
  },
  {
   "cell_type": "code",
   "execution_count": 8,
   "metadata": {},
   "outputs": [
    {
     "name": "stdout",
     "output_type": "stream",
     "text": [
      "239.00925 178.0\n"
     ]
    }
   ],
   "source": [
    "# 각 리뷰마다 문장 길이를 시각화 \n",
    "import numpy as np\n",
    "lengths = np.array([len(x) for x in train_input])\n",
    "print(np.mean(lengths),np.median(lengths))\n",
    "# 중앙값이 평균보다 오른쪽으로 치우쳐짐 "
   ]
  },
  {
   "cell_type": "code",
   "execution_count": 9,
   "metadata": {},
   "outputs": [
    {
     "data": {
      "image/png": "[encoded data removed]",
      "text/plain": [
       "<Figure size 432x288 with 1 Axes>"
      ]
     },
     "metadata": {
      "needs_background": "light"
     },
     "output_type": "display_data"
    }
   ],
   "source": [
    "import matplotlib.pyplot as plt\n",
    "\n",
    "plt.hist(lengths)\n",
    "plt.xlabel(\"length\")\n",
    "plt.xlabel(\"frequency\")\n",
    "plt.show()"
   ]
  },
  {
   "cell_type": "markdown",
   "metadata": {},
   "source": [
    "----\n",
    "# Sequence Padding\n",
    "- 전체 자릿수를 100으로 가정햇을 경우 한문장에 3개 토큰만 있을 경우 나머지 97갠은 비워지고 이를 0으로 채우는 과정 "
   ]
  },
  {
   "cell_type": "code",
   "execution_count": 10,
   "metadata": {},
   "outputs": [],
   "source": [
    "from tensorflow.keras.preprocessing.sequence import pad_sequences\n",
    "# 그래프에서 100개부분이 제일 많은 거 같아 100개의 토큰만 사용 \n",
    "# 훈련데이터\n",
    "train_seq = pad_sequences(train_input,maxlen=100)\n",
    "# 검증데이터 \n",
    "val_seq = pad_sequences(val_input,maxlen=100)"
   ]
  },
  {
   "cell_type": "code",
   "execution_count": 11,
   "metadata": {},
   "outputs": [
    {
     "name": "stdout",
     "output_type": "stream",
     "text": [
      "(20000, 100)\n"
     ]
    }
   ],
   "source": [
    "# 크기확인 \n",
    "print(train_seq.shape)"
   ]
  },
  {
   "cell_type": "markdown",
   "metadata": {},
   "source": [
    "> 25000개의 훈련세트 중 500개는 검증세트로 빠짐 "
   ]
  },
  {
   "cell_type": "code",
   "execution_count": 12,
   "metadata": {},
   "outputs": [
    {
     "name": "stdout",
     "output_type": "stream",
     "text": [
      "[ 10   4  20   9   2 364 352   5  45   6   2   2  33 269   8   2 142   2\n",
      "   5   2  17  73  17 204   5   2  19  55   2   2  92  66 104  14  20  93\n",
      "  76   2 151  33   4  58  12 188   2 151  12 215  69 224 142  73 237   6\n",
      "   2   7   2   2 188   2 103  14  31  10  10 451   7   2   5   2  80  91\n",
      "   2  30   2  34  14  20 151  50  26 131  49   2  84  46  50  37  80  79\n",
      "   6   2  46   7  14  20  10  10 470 158]\n"
     ]
    }
   ],
   "source": [
    "# 첫번쨰 댓글 확인\n",
    "print(train_seq[0])"
   ]
  },
  {
   "cell_type": "code",
   "execution_count": 13,
   "metadata": {},
   "outputs": [
    {
     "name": "stdout",
     "output_type": "stream",
     "text": [
      "[6, 2, 46, 7, 14, 20, 10, 10, 470, 158]\n"
     ]
    }
   ],
   "source": [
    "# 원본의 첫번째 댓글의 마지막 10개 \n",
    "print(train_input[0][-10:])"
   ]
  },
  {
   "cell_type": "code",
   "execution_count": 14,
   "metadata": {},
   "outputs": [
    {
     "name": "stdout",
     "output_type": "stream",
     "text": [
      "[  0   0   0   0   1   2 195  19  49   2   2 190   4   2 352   2 183  10\n",
      "  10  13  82  79   4   2  36  71 269   8   2  25  19  49   7   4   2   2\n",
      "   2   2   2  10  10  48  25  40   2  11   2   2  40   2   2   5   4   2\n",
      "   2  95  14 238  56 129   2  10  10  21   2  94 364 352   2   2  11 190\n",
      "  24 484   2   7  94 205 405  10  10  87   2  34  49   2   7   2   2   2\n",
      "   2   2 290   2  46  48  64  18   4   2]\n"
     ]
    }
   ],
   "source": [
    "print(train_seq[5])\n",
    "# 단어가 없는 곳은 0(들여쓰기)이라 하고 단어가 중간에 없어졌으면 2 "
   ]
  },
  {
   "cell_type": "markdown",
   "metadata": {},
   "source": [
    "---\n",
    "# 순환신경망 모델 만들기"
   ]
  },
  {
   "cell_type": "code",
   "execution_count": 15,
   "metadata": {},
   "outputs": [],
   "source": [
    "from tensorflow import keras"
   ]
  },
  {
   "cell_type": "code",
   "execution_count": 16,
   "metadata": {},
   "outputs": [
    {
     "name": "stderr",
     "output_type": "stream",
     "text": [
      "2022-07-22 11:45:32.948991: I tensorflow/core/platform/cpu_feature_guard.cc:193] This TensorFlow binary is optimized with oneAPI Deep Neural Network Library (oneDNN) to use the following CPU instructions in performance-critical operations:  AVX2 FMA\n",
      "To enable them in other operations, rebuild TensorFlow with the appropriate compiler flags.\n"
     ]
    }
   ],
   "source": [
    "model = keras.Sequential()\n",
    "# 8 => sell(노드 )\n",
    "# 토큰이 8개는 쓰겟다~ (최소 예상 )\n",
    "# 이 8도 hyper parameter\n",
    "model.add(keras.layers.SimpleRNN(8,input_shape=(100,500)))\n",
    "# 토큰의 숫자의 크기가 의미없다\n",
    "# 500 개를 500으로 분류 => one hot encoding\n",
    "\n",
    "model.add(keras.layers.Dense(1,activation=\"sigmoid\"))\n",
    "# 0,1 로 출력, 이진분류 "
   ]
  },
  {
   "cell_type": "code",
   "execution_count": 17,
   "metadata": {},
   "outputs": [
    {
     "name": "stdout",
     "output_type": "stream",
     "text": [
      "(20000, 100, 500)\n"
     ]
    }
   ],
   "source": [
    "# one hot ecoding\n",
    "train_on = keras.utils.to_categorical(train_seq)\n",
    "print(train_on.shape)"
   ]
  },
  {
   "cell_type": "code",
   "execution_count": 18,
   "metadata": {},
   "outputs": [
    {
     "name": "stdout",
     "output_type": "stream",
     "text": [
      "1.0\n"
     ]
    }
   ],
   "source": [
    "# One hot encoding 확인\n",
    "print(np.sum(train_on[0][0]))"
   ]
  },
  {
   "cell_type": "code",
   "execution_count": 19,
   "metadata": {},
   "outputs": [],
   "source": [
    "# 검증 데이터 one hot encoding\n",
    "val_on = keras.utils.to_categorical(val_seq)"
   ]
  },
  {
   "cell_type": "code",
   "execution_count": 20,
   "metadata": {},
   "outputs": [
    {
     "name": "stdout",
     "output_type": "stream",
     "text": [
      "Model: \"sequential\"\n",
      "_________________________________________________________________\n",
      " Layer (type)                Output Shape              Param #   \n",
      "=================================================================\n",
      " simple_rnn (SimpleRNN)      (None, 8)                 4072      \n",
      "                                                                 \n",
      " dense (Dense)               (None, 1)                 9         \n",
      "                                                                 \n",
      "=================================================================\n",
      "Total params: 4,081\n",
      "Trainable params: 4,081\n",
      "Non-trainable params: 0\n",
      "_________________________________________________________________\n"
     ]
    }
   ],
   "source": [
    "# 확인 \n",
    "model.summary()"
   ]
  },
  {
   "cell_type": "code",
   "execution_count": 21,
   "metadata": {},
   "outputs": [
    {
     "data": {
      "text/plain": [
       "4072"
      ]
     },
     "execution_count": 21,
     "metadata": {},
     "output_type": "execute_result"
    }
   ],
   "source": [
    "500 * 8 + (8 * 8) + 8\n",
    "# 가중치 * 입력층 + 셀의 갯수 + 절편"
   ]
  },
  {
   "cell_type": "code",
   "execution_count": 22,
   "metadata": {},
   "outputs": [
    {
     "name": "stdout",
     "output_type": "stream",
     "text": [
      "Epoch 1/100\n",
      "313/313 [==============================] - 18s 53ms/step - loss: 0.6997 - accuracy: 0.5023 - val_loss: 0.6930 - val_accuracy: 0.5228\n",
      "Epoch 2/100\n",
      "313/313 [==============================] - 17s 54ms/step - loss: 0.6939 - accuracy: 0.5183 - val_loss: 0.6889 - val_accuracy: 0.5432\n",
      "Epoch 3/100\n",
      "313/313 [==============================] - 15s 49ms/step - loss: 0.6890 - accuracy: 0.5364 - val_loss: 0.6845 - val_accuracy: 0.5636\n",
      "Epoch 4/100\n",
      "313/313 [==============================] - 15s 49ms/step - loss: 0.6801 - accuracy: 0.5671 - val_loss: 0.6631 - val_accuracy: 0.6032\n",
      "Epoch 5/100\n",
      "313/313 [==============================] - 16s 50ms/step - loss: 0.6483 - accuracy: 0.6355 - val_loss: 0.6369 - val_accuracy: 0.6480\n",
      "Epoch 6/100\n",
      "313/313 [==============================] - 15s 48ms/step - loss: 0.6279 - accuracy: 0.6615 - val_loss: 0.6185 - val_accuracy: 0.6716\n",
      "Epoch 7/100\n",
      "313/313 [==============================] - 15s 48ms/step - loss: 0.6089 - accuracy: 0.6816 - val_loss: 0.6019 - val_accuracy: 0.6894\n",
      "Epoch 8/100\n",
      "313/313 [==============================] - 15s 49ms/step - loss: 0.5901 - accuracy: 0.7019 - val_loss: 0.5843 - val_accuracy: 0.7042\n",
      "Epoch 9/100\n",
      "313/313 [==============================] - 16s 50ms/step - loss: 0.5737 - accuracy: 0.7176 - val_loss: 0.5737 - val_accuracy: 0.7150\n",
      "Epoch 10/100\n",
      "313/313 [==============================] - 16s 50ms/step - loss: 0.5588 - accuracy: 0.7293 - val_loss: 0.5573 - val_accuracy: 0.7282\n",
      "Epoch 11/100\n",
      "313/313 [==============================] - 16s 50ms/step - loss: 0.5447 - accuracy: 0.7401 - val_loss: 0.5439 - val_accuracy: 0.7346\n",
      "Epoch 12/100\n",
      "313/313 [==============================] - 15s 49ms/step - loss: 0.5299 - accuracy: 0.7520 - val_loss: 0.5303 - val_accuracy: 0.7468\n",
      "Epoch 13/100\n",
      "313/313 [==============================] - 16s 50ms/step - loss: 0.5146 - accuracy: 0.7632 - val_loss: 0.5198 - val_accuracy: 0.7508\n",
      "Epoch 14/100\n",
      "313/313 [==============================] - 16s 51ms/step - loss: 0.5052 - accuracy: 0.7685 - val_loss: 0.5355 - val_accuracy: 0.7356\n",
      "Epoch 15/100\n",
      "313/313 [==============================] - 15s 48ms/step - loss: 0.4960 - accuracy: 0.7742 - val_loss: 0.5027 - val_accuracy: 0.7622\n",
      "Epoch 16/100\n",
      "313/313 [==============================] - 14s 46ms/step - loss: 0.4878 - accuracy: 0.7772 - val_loss: 0.5071 - val_accuracy: 0.7566\n",
      "Epoch 17/100\n",
      "313/313 [==============================] - 15s 49ms/step - loss: 0.4802 - accuracy: 0.7807 - val_loss: 0.4922 - val_accuracy: 0.7694\n",
      "Epoch 18/100\n",
      "313/313 [==============================] - 15s 48ms/step - loss: 0.4742 - accuracy: 0.7850 - val_loss: 0.4860 - val_accuracy: 0.7708\n",
      "Epoch 19/100\n",
      "313/313 [==============================] - 15s 48ms/step - loss: 0.4682 - accuracy: 0.7901 - val_loss: 0.4818 - val_accuracy: 0.7754\n",
      "Epoch 20/100\n",
      "313/313 [==============================] - 15s 49ms/step - loss: 0.4627 - accuracy: 0.7932 - val_loss: 0.4798 - val_accuracy: 0.7748\n",
      "Epoch 21/100\n",
      "313/313 [==============================] - 15s 48ms/step - loss: 0.4582 - accuracy: 0.7957 - val_loss: 0.4742 - val_accuracy: 0.7798\n",
      "Epoch 22/100\n",
      "313/313 [==============================] - 15s 49ms/step - loss: 0.4540 - accuracy: 0.7980 - val_loss: 0.4725 - val_accuracy: 0.7826\n",
      "Epoch 23/100\n",
      "313/313 [==============================] - 14s 46ms/step - loss: 0.4506 - accuracy: 0.8020 - val_loss: 0.4700 - val_accuracy: 0.7850\n",
      "Epoch 24/100\n",
      "313/313 [==============================] - 15s 49ms/step - loss: 0.4471 - accuracy: 0.8020 - val_loss: 0.4726 - val_accuracy: 0.7794\n",
      "Epoch 25/100\n",
      "313/313 [==============================] - 14s 45ms/step - loss: 0.4444 - accuracy: 0.8061 - val_loss: 0.4662 - val_accuracy: 0.7854\n",
      "Epoch 26/100\n",
      "313/313 [==============================] - 14s 44ms/step - loss: 0.4420 - accuracy: 0.8069 - val_loss: 0.4700 - val_accuracy: 0.7818\n",
      "Epoch 27/100\n",
      "313/313 [==============================] - 14s 46ms/step - loss: 0.4395 - accuracy: 0.8098 - val_loss: 0.4704 - val_accuracy: 0.7794\n",
      "Epoch 28/100\n",
      "313/313 [==============================] - 14s 44ms/step - loss: 0.4370 - accuracy: 0.8090 - val_loss: 0.4628 - val_accuracy: 0.7866\n",
      "Epoch 29/100\n",
      "313/313 [==============================] - 15s 47ms/step - loss: 0.4348 - accuracy: 0.8105 - val_loss: 0.4628 - val_accuracy: 0.7860\n",
      "Epoch 30/100\n",
      "313/313 [==============================] - 15s 49ms/step - loss: 0.4336 - accuracy: 0.8107 - val_loss: 0.4658 - val_accuracy: 0.7824\n",
      "Epoch 31/100\n",
      "313/313 [==============================] - 15s 48ms/step - loss: 0.4320 - accuracy: 0.8105 - val_loss: 0.4626 - val_accuracy: 0.7850\n",
      "Epoch 32/100\n",
      "313/313 [==============================] - 14s 46ms/step - loss: 0.4302 - accuracy: 0.8137 - val_loss: 0.4580 - val_accuracy: 0.7900\n",
      "Epoch 33/100\n",
      "313/313 [==============================] - 14s 44ms/step - loss: 0.4291 - accuracy: 0.8137 - val_loss: 0.4613 - val_accuracy: 0.7866\n",
      "Epoch 34/100\n",
      "313/313 [==============================] - 14s 46ms/step - loss: 0.4274 - accuracy: 0.8127 - val_loss: 0.4577 - val_accuracy: 0.7908\n",
      "Epoch 35/100\n",
      "313/313 [==============================] - 15s 48ms/step - loss: 0.4262 - accuracy: 0.8163 - val_loss: 0.4563 - val_accuracy: 0.7910\n",
      "Epoch 36/100\n",
      "313/313 [==============================] - 15s 47ms/step - loss: 0.4249 - accuracy: 0.8145 - val_loss: 0.4561 - val_accuracy: 0.7920\n",
      "Epoch 37/100\n",
      "313/313 [==============================] - 15s 47ms/step - loss: 0.4239 - accuracy: 0.8164 - val_loss: 0.4561 - val_accuracy: 0.7918\n",
      "Epoch 38/100\n",
      "313/313 [==============================] - 14s 43ms/step - loss: 0.4220 - accuracy: 0.8167 - val_loss: 0.4590 - val_accuracy: 0.7880\n",
      "Epoch 39/100\n",
      "313/313 [==============================] - 14s 44ms/step - loss: 0.4213 - accuracy: 0.8162 - val_loss: 0.4611 - val_accuracy: 0.7870\n",
      "Epoch 40/100\n",
      "313/313 [==============================] - 14s 45ms/step - loss: 0.4210 - accuracy: 0.8171 - val_loss: 0.4563 - val_accuracy: 0.7890\n"
     ]
    }
   ],
   "source": [
    "# optimizer\n",
    "rmsprop = keras.optimizers.RMSprop(learning_rate=1e-4)\n",
    "model.compile(\n",
    "    optimizer=rmsprop,\n",
    "    # 손실함수는 출력층에 따라 0,1\n",
    "    loss = \"binary_crossentropy\",\n",
    "    metrics = \"accuracy\",\n",
    "    )\n",
    "# 최적의 값 찾기\n",
    "checkpoint_cb = keras.callbacks.ModelCheckpoint(\"../Data/best-simplernn-model.h5\")\n",
    "# 조기종료 \n",
    "early_stopping_cb = keras.callbacks.EarlyStopping(\n",
    "    patience = 3,\n",
    "    restore_best_weights = True\n",
    ")\n",
    "\n",
    "history = model.fit(\n",
    "    train_on,\n",
    "    train_target,\n",
    "    # 최소 \n",
    "    epochs = 100,\n",
    "    batch_size = 64, # mini batch 경사 하강법( 순환갯수 )\n",
    "    # 검증 data\n",
    "    validation_data = (val_on,val_target),\n",
    "    callbacks = [checkpoint_cb,early_stopping_cb]\n",
    ")"
   ]
  },
  {
   "cell_type": "code",
   "execution_count": 23,
   "metadata": {},
   "outputs": [
    {
     "name": "stdout",
     "output_type": "stream",
     "text": [
      "157/157 [==============================] - 2s 14ms/step - loss: 0.4561 - accuracy: 0.7918\n"
     ]
    },
    {
     "data": {
      "text/plain": [
       "[0.45609742403030396, 0.7918000221252441]"
      ]
     },
     "execution_count": 23,
     "metadata": {},
     "output_type": "execute_result"
    }
   ],
   "source": [
    "# 검증데이터의 loss, 정확도 \n",
    "model.evaluate(val_on,val_target)"
   ]
  },
  {
   "cell_type": "code",
   "execution_count": 24,
   "metadata": {},
   "outputs": [
    {
     "data": {
      "image/png": "[encoded data removed]",
      "text/plain": [
       "<Figure size 432x288 with 1 Axes>"
      ]
     },
     "metadata": {
      "needs_background": "light"
     },
     "output_type": "display_data"
    }
   ],
   "source": [
    "# 시각화 \n",
    "plt.plot(history.history['loss'])\n",
    "plt.plot(history.history['val_loss'])\n",
    "plt.xlabel('epoch')\n",
    "plt.ylabel('loss')\n",
    "plt.legend(['train','val'])\n",
    "plt.show()"
   ]
  },
  {
   "cell_type": "markdown",
   "metadata": {},
   "source": [
    "---\n",
    "### LSTM (Long Short Term Memory) 신경망 모델 구성하기"
   ]
  },
  {
   "cell_type": "markdown",
   "metadata": {},
   "source": [
    "- 순환신경망의 셀로 이전 타임스텝의 샘플을 기억하고 있음 \n",
    "- 타임스탬프란 밀집노드의 예측한 값을 기억의 순서와 문장 정보를 기억\n",
    "- 밀집층 하기 전 단계"
   ]
  },
  {
   "cell_type": "markdown",
   "metadata": {},
   "source": [
    "![](../Data/lstm.png)"
   ]
  },
  {
   "cell_type": "code",
   "execution_count": 25,
   "metadata": {},
   "outputs": [
    {
     "name": "stdout",
     "output_type": "stream",
     "text": [
      "Model: \"sequential_1\"\n",
      "_________________________________________________________________\n",
      " Layer (type)                Output Shape              Param #   \n",
      "=================================================================\n",
      " embedding (Embedding)       (None, 100, 16)           8000      \n",
      "                                                                 \n",
      " lstm (LSTM)                 (None, 8)                 800       \n",
      "                                                                 \n",
      " dense_1 (Dense)             (None, 1)                 9         \n",
      "                                                                 \n",
      "=================================================================\n",
      "Total params: 8,809\n",
      "Trainable params: 8,809\n",
      "Non-trainable params: 0\n",
      "_________________________________________________________________\n"
     ]
    }
   ],
   "source": [
    "model = keras.Sequential()\n",
    "# 16, hyperparameter\n",
    "model.add(keras.layers.Embedding(500, 16, input_length = 100)) # one hot encoding\n",
    "# 8 = > cell\n",
    "model.add(keras.layers.LSTM(8))\n",
    "model.add(keras.layers.Dense(1,activation = \"sigmoid\"))\n",
    "\n",
    "model.summary()"
   ]
  },
  {
   "cell_type": "code",
   "execution_count": 26,
   "metadata": {},
   "outputs": [
    {
     "name": "stdout",
     "output_type": "stream",
     "text": [
      "Epoch 1/100\n",
      "313/313 [==============================] - 15s 37ms/step - loss: 0.6913 - accuracy: 0.5581 - val_loss: 0.6895 - val_accuracy: 0.6010\n",
      "Epoch 2/100\n",
      "313/313 [==============================] - 13s 42ms/step - loss: 0.6853 - accuracy: 0.6316 - val_loss: 0.6803 - val_accuracy: 0.6078\n",
      "Epoch 3/100\n",
      "313/313 [==============================] - 11s 36ms/step - loss: 0.6538 - accuracy: 0.6363 - val_loss: 0.6299 - val_accuracy: 0.6796\n",
      "Epoch 4/100\n",
      "313/313 [==============================] - 11s 35ms/step - loss: 0.6003 - accuracy: 0.7401 - val_loss: 0.5916 - val_accuracy: 0.7418\n",
      "Epoch 5/100\n",
      "313/313 [==============================] - 11s 35ms/step - loss: 0.5715 - accuracy: 0.7613 - val_loss: 0.5713 - val_accuracy: 0.7582\n",
      "Epoch 6/100\n",
      "313/313 [==============================] - 11s 35ms/step - loss: 0.5529 - accuracy: 0.7697 - val_loss: 0.5543 - val_accuracy: 0.7662\n",
      "Epoch 7/100\n",
      "313/313 [==============================] - 11s 35ms/step - loss: 0.5376 - accuracy: 0.7765 - val_loss: 0.5400 - val_accuracy: 0.7710\n",
      "Epoch 8/100\n",
      "313/313 [==============================] - 10s 33ms/step - loss: 0.5229 - accuracy: 0.7800 - val_loss: 0.5262 - val_accuracy: 0.7748\n",
      "Epoch 9/100\n",
      "313/313 [==============================] - 10s 33ms/step - loss: 0.5094 - accuracy: 0.7840 - val_loss: 0.5140 - val_accuracy: 0.7798\n",
      "Epoch 10/100\n",
      "313/313 [==============================] - 9s 30ms/step - loss: 0.4962 - accuracy: 0.7865 - val_loss: 0.5072 - val_accuracy: 0.7796\n",
      "Epoch 11/100\n",
      "313/313 [==============================] - 9s 30ms/step - loss: 0.4839 - accuracy: 0.7907 - val_loss: 0.4906 - val_accuracy: 0.7862\n",
      "Epoch 12/100\n",
      "313/313 [==============================] - 9s 29ms/step - loss: 0.4726 - accuracy: 0.7908 - val_loss: 0.4877 - val_accuracy: 0.7828\n",
      "Epoch 13/100\n",
      "313/313 [==============================] - 9s 29ms/step - loss: 0.4635 - accuracy: 0.7946 - val_loss: 0.4743 - val_accuracy: 0.7882\n",
      "Epoch 14/100\n",
      "313/313 [==============================] - 9s 29ms/step - loss: 0.4566 - accuracy: 0.7974 - val_loss: 0.4697 - val_accuracy: 0.7856\n",
      "Epoch 15/100\n",
      "313/313 [==============================] - 10s 32ms/step - loss: 0.4511 - accuracy: 0.7994 - val_loss: 0.4689 - val_accuracy: 0.7894\n",
      "Epoch 16/100\n",
      "313/313 [==============================] - 10s 33ms/step - loss: 0.4460 - accuracy: 0.8013 - val_loss: 0.4629 - val_accuracy: 0.7910\n",
      "Epoch 17/100\n",
      "313/313 [==============================] - 11s 35ms/step - loss: 0.4424 - accuracy: 0.8036 - val_loss: 0.4596 - val_accuracy: 0.7884\n",
      "Epoch 18/100\n",
      "313/313 [==============================] - 12s 38ms/step - loss: 0.4391 - accuracy: 0.8023 - val_loss: 0.4692 - val_accuracy: 0.7758\n",
      "Epoch 19/100\n",
      "313/313 [==============================] - 13s 41ms/step - loss: 0.4360 - accuracy: 0.8064 - val_loss: 0.4565 - val_accuracy: 0.7906\n",
      "Epoch 20/100\n",
      "313/313 [==============================] - 12s 39ms/step - loss: 0.4332 - accuracy: 0.8066 - val_loss: 0.4561 - val_accuracy: 0.7846\n",
      "Epoch 21/100\n",
      "313/313 [==============================] - 11s 36ms/step - loss: 0.4310 - accuracy: 0.8073 - val_loss: 0.4528 - val_accuracy: 0.7890\n",
      "Epoch 22/100\n",
      "313/313 [==============================] - 11s 36ms/step - loss: 0.4286 - accuracy: 0.8088 - val_loss: 0.4503 - val_accuracy: 0.7942\n",
      "Epoch 23/100\n",
      "313/313 [==============================] - 11s 34ms/step - loss: 0.4272 - accuracy: 0.8104 - val_loss: 0.4501 - val_accuracy: 0.7896\n",
      "Epoch 24/100\n",
      "313/313 [==============================] - 13s 40ms/step - loss: 0.4247 - accuracy: 0.8109 - val_loss: 0.4489 - val_accuracy: 0.7930\n",
      "Epoch 25/100\n",
      "313/313 [==============================] - 11s 35ms/step - loss: 0.4230 - accuracy: 0.8115 - val_loss: 0.4474 - val_accuracy: 0.7944\n",
      "Epoch 26/100\n",
      "313/313 [==============================] - 11s 34ms/step - loss: 0.4204 - accuracy: 0.8147 - val_loss: 0.4456 - val_accuracy: 0.7980\n",
      "Epoch 27/100\n",
      "313/313 [==============================] - 11s 34ms/step - loss: 0.4190 - accuracy: 0.8159 - val_loss: 0.4441 - val_accuracy: 0.7934\n",
      "Epoch 28/100\n",
      "313/313 [==============================] - 11s 34ms/step - loss: 0.4181 - accuracy: 0.8153 - val_loss: 0.4432 - val_accuracy: 0.7938\n",
      "Epoch 29/100\n",
      "313/313 [==============================] - 11s 35ms/step - loss: 0.4159 - accuracy: 0.8152 - val_loss: 0.4417 - val_accuracy: 0.7982\n",
      "Epoch 30/100\n",
      "313/313 [==============================] - 11s 36ms/step - loss: 0.4149 - accuracy: 0.8171 - val_loss: 0.4412 - val_accuracy: 0.7934\n",
      "Epoch 31/100\n",
      "313/313 [==============================] - 12s 38ms/step - loss: 0.4138 - accuracy: 0.8173 - val_loss: 0.4393 - val_accuracy: 0.7968\n",
      "Epoch 32/100\n",
      "313/313 [==============================] - 11s 35ms/step - loss: 0.4126 - accuracy: 0.8170 - val_loss: 0.4384 - val_accuracy: 0.7984\n",
      "Epoch 33/100\n",
      "313/313 [==============================] - 11s 34ms/step - loss: 0.4112 - accuracy: 0.8178 - val_loss: 0.4401 - val_accuracy: 0.7932\n",
      "Epoch 34/100\n",
      "313/313 [==============================] - 11s 35ms/step - loss: 0.4099 - accuracy: 0.8182 - val_loss: 0.4386 - val_accuracy: 0.7978\n",
      "Epoch 35/100\n",
      "313/313 [==============================] - 9s 30ms/step - loss: 0.4084 - accuracy: 0.8190 - val_loss: 0.4352 - val_accuracy: 0.8002\n",
      "Epoch 36/100\n",
      "313/313 [==============================] - 9s 30ms/step - loss: 0.4084 - accuracy: 0.8183 - val_loss: 0.4381 - val_accuracy: 0.7944\n",
      "Epoch 37/100\n",
      "313/313 [==============================] - 9s 30ms/step - loss: 0.4061 - accuracy: 0.8219 - val_loss: 0.4365 - val_accuracy: 0.8000\n",
      "Epoch 38/100\n",
      "313/313 [==============================] - 9s 29ms/step - loss: 0.4059 - accuracy: 0.8194 - val_loss: 0.4343 - val_accuracy: 0.8026\n",
      "Epoch 39/100\n",
      "313/313 [==============================] - 9s 29ms/step - loss: 0.4047 - accuracy: 0.8209 - val_loss: 0.4366 - val_accuracy: 0.8020\n",
      "Epoch 40/100\n",
      "313/313 [==============================] - 10s 31ms/step - loss: 0.4042 - accuracy: 0.8217 - val_loss: 0.4342 - val_accuracy: 0.8008\n",
      "Epoch 41/100\n",
      "313/313 [==============================] - 10s 31ms/step - loss: 0.4031 - accuracy: 0.8209 - val_loss: 0.4332 - val_accuracy: 0.7976\n",
      "Epoch 42/100\n",
      "313/313 [==============================] - 10s 31ms/step - loss: 0.4025 - accuracy: 0.8219 - val_loss: 0.4315 - val_accuracy: 0.8002\n",
      "Epoch 43/100\n",
      "313/313 [==============================] - 9s 30ms/step - loss: 0.4014 - accuracy: 0.8220 - val_loss: 0.4313 - val_accuracy: 0.8000\n",
      "Epoch 44/100\n",
      "313/313 [==============================] - 9s 29ms/step - loss: 0.4009 - accuracy: 0.8227 - val_loss: 0.4320 - val_accuracy: 0.7992\n",
      "Epoch 45/100\n",
      "313/313 [==============================] - 9s 30ms/step - loss: 0.3997 - accuracy: 0.8228 - val_loss: 0.4306 - val_accuracy: 0.8040\n",
      "Epoch 46/100\n",
      "313/313 [==============================] - 9s 29ms/step - loss: 0.3992 - accuracy: 0.8234 - val_loss: 0.4303 - val_accuracy: 0.8000\n",
      "Epoch 47/100\n",
      "313/313 [==============================] - 9s 30ms/step - loss: 0.3982 - accuracy: 0.8240 - val_loss: 0.4301 - val_accuracy: 0.8022\n",
      "Epoch 48/100\n",
      "313/313 [==============================] - 9s 29ms/step - loss: 0.3979 - accuracy: 0.8223 - val_loss: 0.4302 - val_accuracy: 0.8008\n",
      "Epoch 49/100\n",
      "313/313 [==============================] - 9s 30ms/step - loss: 0.3972 - accuracy: 0.8241 - val_loss: 0.4295 - val_accuracy: 0.8008\n",
      "Epoch 50/100\n",
      "313/313 [==============================] - 9s 29ms/step - loss: 0.3968 - accuracy: 0.8228 - val_loss: 0.4301 - val_accuracy: 0.8020\n",
      "Epoch 51/100\n",
      "313/313 [==============================] - 9s 29ms/step - loss: 0.3950 - accuracy: 0.8258 - val_loss: 0.4297 - val_accuracy: 0.8044\n",
      "Epoch 52/100\n",
      "313/313 [==============================] - 9s 30ms/step - loss: 0.3954 - accuracy: 0.8252 - val_loss: 0.4279 - val_accuracy: 0.8034\n",
      "Epoch 53/100\n",
      "313/313 [==============================] - 11s 34ms/step - loss: 0.3946 - accuracy: 0.8264 - val_loss: 0.4297 - val_accuracy: 0.8040\n",
      "Epoch 54/100\n",
      "313/313 [==============================] - 10s 33ms/step - loss: 0.3940 - accuracy: 0.8255 - val_loss: 0.4300 - val_accuracy: 0.8000\n",
      "Epoch 55/100\n",
      "313/313 [==============================] - 11s 35ms/step - loss: 0.3928 - accuracy: 0.8264 - val_loss: 0.4309 - val_accuracy: 0.7992\n"
     ]
    }
   ],
   "source": [
    "# optimizer\n",
    "rmsprop = keras.optimizers.RMSprop(learning_rate=1e-4)\n",
    "model.compile(\n",
    "    optimizer=rmsprop,\n",
    "    # 손실함수는 출력층에 따라 0,1\n",
    "    loss = \"binary_crossentropy\",\n",
    "    metrics = \"accuracy\",\n",
    "    )\n",
    "# 최적의 값 찾기\n",
    "checkpoint_cb = keras.callbacks.ModelCheckpoint(\"../Data/best-lstm-model.h5\")\n",
    "# 조기종료 \n",
    "early_stopping_cb = keras.callbacks.EarlyStopping(\n",
    "    patience = 3,\n",
    "    restore_best_weights = True\n",
    ")\n",
    "\n",
    "history = model.fit(\n",
    "    train_seq,\n",
    "    train_target,\n",
    "    # 최소 \n",
    "    epochs = 100,\n",
    "    batch_size = 64, # mini batch 경사 하강법( 순환갯수 )\n",
    "    # 검증 data\n",
    "    validation_data = (val_seq,val_target),\n",
    "    callbacks = [checkpoint_cb,early_stopping_cb]\n",
    ")"
   ]
  },
  {
   "cell_type": "code",
   "execution_count": 27,
   "metadata": {},
   "outputs": [
    {
     "data": {
      "image/png": "[encoded data removed]",
      "text/plain": [
       "<Figure size 432x288 with 1 Axes>"
      ]
     },
     "metadata": {
      "needs_background": "light"
     },
     "output_type": "display_data"
    }
   ],
   "source": [
    "# 시각화 \n",
    "plt.plot(history.history['loss'])\n",
    "plt.plot(history.history['val_loss'])\n",
    "plt.xlabel('epoch')\n",
    "plt.ylabel('loss')\n",
    "plt.legend(['train','val'])\n",
    "plt.show()\n",
    "# 과대적합 발생 \n",
    "# train의 loss가 더 많음 "
   ]
  },
  {
   "cell_type": "code",
   "execution_count": 28,
   "metadata": {},
   "outputs": [
    {
     "name": "stdout",
     "output_type": "stream",
     "text": [
      "157/157 [==============================] - 1s 7ms/step - loss: 0.4279 - accuracy: 0.8034\n"
     ]
    },
    {
     "data": {
      "text/plain": [
       "[0.4279139041900635, 0.8033999800682068]"
      ]
     },
     "execution_count": 28,
     "metadata": {},
     "output_type": "execute_result"
    }
   ],
   "source": [
    "# 검증데이터의 loss, 정확도 \n",
    "model.evaluate(val_seq,val_target)"
   ]
  },
  {
   "cell_type": "markdown",
   "metadata": {},
   "source": [
    "---\n",
    "# 순환층에 드롭아웃 적용하기"
   ]
  },
  {
   "cell_type": "code",
   "execution_count": 29,
   "metadata": {},
   "outputs": [
    {
     "name": "stdout",
     "output_type": "stream",
     "text": [
      "Model: \"sequential_2\"\n",
      "_________________________________________________________________\n",
      " Layer (type)                Output Shape              Param #   \n",
      "=================================================================\n",
      " embedding_1 (Embedding)     (None, 100, 16)           8000      \n",
      "                                                                 \n",
      " lstm_1 (LSTM)               (None, 8)                 800       \n",
      "                                                                 \n",
      " dense_2 (Dense)             (None, 1)                 9         \n",
      "                                                                 \n",
      "=================================================================\n",
      "Total params: 8,809\n",
      "Trainable params: 8,809\n",
      "Non-trainable params: 0\n",
      "_________________________________________________________________\n"
     ]
    }
   ],
   "source": [
    "model = keras.Sequential()\n",
    "# 16, hyperparameter\n",
    "model.add(keras.layers.Embedding(500, 16, input_length = 100)) # one hot encoding\n",
    "# 8 = > cell\n",
    "model.add(keras.layers.LSTM(8,dropout=0.3))\n",
    "model.add(keras.layers.Dense(1,activation = \"sigmoid\"))\n",
    "\n",
    "model.summary()"
   ]
  },
  {
   "cell_type": "code",
   "execution_count": 30,
   "metadata": {},
   "outputs": [
    {
     "name": "stdout",
     "output_type": "stream",
     "text": [
      "Epoch 1/100\n",
      "313/313 [==============================] - 14s 33ms/step - loss: 0.6925 - accuracy: 0.5304 - val_loss: 0.6918 - val_accuracy: 0.5608\n",
      "Epoch 2/100\n",
      "313/313 [==============================] - 12s 37ms/step - loss: 0.6908 - accuracy: 0.5838 - val_loss: 0.6894 - val_accuracy: 0.6196\n",
      "Epoch 3/100\n",
      "313/313 [==============================] - 12s 37ms/step - loss: 0.6856 - accuracy: 0.6449 - val_loss: 0.6791 - val_accuracy: 0.6914\n",
      "Epoch 4/100\n",
      "313/313 [==============================] - 11s 35ms/step - loss: 0.6466 - accuracy: 0.6937 - val_loss: 0.6152 - val_accuracy: 0.6954\n",
      "Epoch 5/100\n",
      "313/313 [==============================] - 11s 34ms/step - loss: 0.6052 - accuracy: 0.7027 - val_loss: 0.5917 - val_accuracy: 0.7142\n",
      "Epoch 6/100\n",
      "313/313 [==============================] - 11s 35ms/step - loss: 0.5847 - accuracy: 0.7211 - val_loss: 0.5726 - val_accuracy: 0.7360\n",
      "Epoch 7/100\n",
      "313/313 [==============================] - 10s 32ms/step - loss: 0.5667 - accuracy: 0.7352 - val_loss: 0.5553 - val_accuracy: 0.7450\n",
      "Epoch 8/100\n",
      "313/313 [==============================] - 10s 31ms/step - loss: 0.5490 - accuracy: 0.7474 - val_loss: 0.5392 - val_accuracy: 0.7566\n",
      "Epoch 9/100\n",
      "313/313 [==============================] - 9s 30ms/step - loss: 0.5332 - accuracy: 0.7561 - val_loss: 0.5250 - val_accuracy: 0.7662\n",
      "Epoch 10/100\n",
      "313/313 [==============================] - 10s 31ms/step - loss: 0.5178 - accuracy: 0.7675 - val_loss: 0.5112 - val_accuracy: 0.7734\n",
      "Epoch 11/100\n",
      "313/313 [==============================] - 11s 34ms/step - loss: 0.5045 - accuracy: 0.7764 - val_loss: 0.5018 - val_accuracy: 0.7762\n",
      "Epoch 12/100\n",
      "313/313 [==============================] - 11s 36ms/step - loss: 0.4927 - accuracy: 0.7811 - val_loss: 0.4911 - val_accuracy: 0.7784\n",
      "Epoch 13/100\n",
      "313/313 [==============================] - 11s 36ms/step - loss: 0.4822 - accuracy: 0.7851 - val_loss: 0.4843 - val_accuracy: 0.7814\n",
      "Epoch 14/100\n",
      "313/313 [==============================] - 12s 37ms/step - loss: 0.4738 - accuracy: 0.7887 - val_loss: 0.4725 - val_accuracy: 0.7914\n",
      "Epoch 15/100\n",
      "313/313 [==============================] - 12s 37ms/step - loss: 0.4652 - accuracy: 0.7940 - val_loss: 0.4710 - val_accuracy: 0.7876\n",
      "Epoch 16/100\n",
      "313/313 [==============================] - 12s 37ms/step - loss: 0.4567 - accuracy: 0.7970 - val_loss: 0.4604 - val_accuracy: 0.7986\n",
      "Epoch 17/100\n",
      "313/313 [==============================] - 11s 36ms/step - loss: 0.4512 - accuracy: 0.7993 - val_loss: 0.4558 - val_accuracy: 0.7988\n",
      "Epoch 18/100\n",
      "313/313 [==============================] - 11s 35ms/step - loss: 0.4475 - accuracy: 0.7991 - val_loss: 0.4552 - val_accuracy: 0.7964\n",
      "Epoch 19/100\n",
      "313/313 [==============================] - 10s 32ms/step - loss: 0.4433 - accuracy: 0.8029 - val_loss: 0.4477 - val_accuracy: 0.8004\n",
      "Epoch 20/100\n",
      "313/313 [==============================] - 10s 32ms/step - loss: 0.4388 - accuracy: 0.8025 - val_loss: 0.4444 - val_accuracy: 0.8004\n",
      "Epoch 21/100\n",
      "313/313 [==============================] - 10s 32ms/step - loss: 0.4353 - accuracy: 0.8040 - val_loss: 0.4419 - val_accuracy: 0.8002\n",
      "Epoch 22/100\n",
      "313/313 [==============================] - 10s 32ms/step - loss: 0.4321 - accuracy: 0.8036 - val_loss: 0.4396 - val_accuracy: 0.7992\n",
      "Epoch 23/100\n",
      "313/313 [==============================] - 10s 32ms/step - loss: 0.4292 - accuracy: 0.8043 - val_loss: 0.4430 - val_accuracy: 0.7990\n",
      "Epoch 24/100\n",
      "313/313 [==============================] - 10s 32ms/step - loss: 0.4271 - accuracy: 0.8066 - val_loss: 0.4362 - val_accuracy: 0.8026\n",
      "Epoch 25/100\n",
      "313/313 [==============================] - 10s 32ms/step - loss: 0.4258 - accuracy: 0.8064 - val_loss: 0.4364 - val_accuracy: 0.7998\n",
      "Epoch 26/100\n",
      "313/313 [==============================] - 10s 32ms/step - loss: 0.4238 - accuracy: 0.8086 - val_loss: 0.4340 - val_accuracy: 0.8026\n",
      "Epoch 27/100\n",
      "313/313 [==============================] - 10s 32ms/step - loss: 0.4225 - accuracy: 0.8074 - val_loss: 0.4343 - val_accuracy: 0.8030\n",
      "Epoch 28/100\n",
      "313/313 [==============================] - 10s 32ms/step - loss: 0.4217 - accuracy: 0.8090 - val_loss: 0.4316 - val_accuracy: 0.8022\n",
      "Epoch 29/100\n",
      "313/313 [==============================] - 10s 33ms/step - loss: 0.4208 - accuracy: 0.8076 - val_loss: 0.4310 - val_accuracy: 0.8032\n",
      "Epoch 30/100\n",
      "313/313 [==============================] - 10s 32ms/step - loss: 0.4174 - accuracy: 0.8067 - val_loss: 0.4310 - val_accuracy: 0.7974\n",
      "Epoch 31/100\n",
      "313/313 [==============================] - 10s 33ms/step - loss: 0.4183 - accuracy: 0.8081 - val_loss: 0.4306 - val_accuracy: 0.8040\n",
      "Epoch 32/100\n",
      "313/313 [==============================] - 10s 31ms/step - loss: 0.4177 - accuracy: 0.8095 - val_loss: 0.4292 - val_accuracy: 0.7998\n",
      "Epoch 33/100\n",
      "313/313 [==============================] - 11s 34ms/step - loss: 0.4147 - accuracy: 0.8094 - val_loss: 0.4289 - val_accuracy: 0.8012\n",
      "Epoch 34/100\n",
      "313/313 [==============================] - 10s 32ms/step - loss: 0.4153 - accuracy: 0.8120 - val_loss: 0.4289 - val_accuracy: 0.8038\n",
      "Epoch 35/100\n",
      "313/313 [==============================] - 10s 32ms/step - loss: 0.4148 - accuracy: 0.8109 - val_loss: 0.4281 - val_accuracy: 0.8034\n",
      "Epoch 36/100\n",
      "313/313 [==============================] - 10s 32ms/step - loss: 0.4141 - accuracy: 0.8089 - val_loss: 0.4279 - val_accuracy: 0.8034\n",
      "Epoch 37/100\n",
      "313/313 [==============================] - 10s 32ms/step - loss: 0.4128 - accuracy: 0.8102 - val_loss: 0.4279 - val_accuracy: 0.7978\n",
      "Epoch 38/100\n",
      "313/313 [==============================] - 10s 33ms/step - loss: 0.4125 - accuracy: 0.8126 - val_loss: 0.4279 - val_accuracy: 0.7990\n",
      "Epoch 39/100\n",
      "313/313 [==============================] - 11s 34ms/step - loss: 0.4117 - accuracy: 0.8112 - val_loss: 0.4288 - val_accuracy: 0.8026\n",
      "Epoch 40/100\n",
      "313/313 [==============================] - 10s 32ms/step - loss: 0.4124 - accuracy: 0.8100 - val_loss: 0.4273 - val_accuracy: 0.8042\n",
      "Epoch 41/100\n",
      "313/313 [==============================] - 10s 33ms/step - loss: 0.4107 - accuracy: 0.8115 - val_loss: 0.4272 - val_accuracy: 0.8002\n",
      "Epoch 42/100\n",
      "313/313 [==============================] - 11s 34ms/step - loss: 0.4106 - accuracy: 0.8092 - val_loss: 0.4269 - val_accuracy: 0.8062\n",
      "Epoch 43/100\n",
      "313/313 [==============================] - 10s 33ms/step - loss: 0.4106 - accuracy: 0.8119 - val_loss: 0.4267 - val_accuracy: 0.8058\n",
      "Epoch 44/100\n",
      "313/313 [==============================] - 11s 34ms/step - loss: 0.4097 - accuracy: 0.8132 - val_loss: 0.4276 - val_accuracy: 0.7984\n",
      "Epoch 45/100\n",
      "313/313 [==============================] - 11s 35ms/step - loss: 0.4108 - accuracy: 0.8120 - val_loss: 0.4263 - val_accuracy: 0.8026\n",
      "Epoch 46/100\n",
      "313/313 [==============================] - 11s 35ms/step - loss: 0.4085 - accuracy: 0.8128 - val_loss: 0.4272 - val_accuracy: 0.8046\n",
      "Epoch 47/100\n",
      "313/313 [==============================] - 10s 33ms/step - loss: 0.4071 - accuracy: 0.8128 - val_loss: 0.4274 - val_accuracy: 0.8062\n",
      "Epoch 48/100\n",
      "313/313 [==============================] - 11s 34ms/step - loss: 0.4087 - accuracy: 0.8123 - val_loss: 0.4265 - val_accuracy: 0.8072\n"
     ]
    }
   ],
   "source": [
    "# optimizer\n",
    "rmsprop = keras.optimizers.RMSprop(learning_rate=1e-4)\n",
    "model.compile(\n",
    "    optimizer=rmsprop,\n",
    "    # 손실함수는 출력층에 따라 0,1\n",
    "    loss = \"binary_crossentropy\",\n",
    "    metrics = \"accuracy\",\n",
    "    )\n",
    "# 최적의 값 찾기\n",
    "checkpoint_cb = keras.callbacks.ModelCheckpoint(\"../Data/best-dropout-model.h5\")\n",
    "# 조기종료 \n",
    "early_stopping_cb = keras.callbacks.EarlyStopping(\n",
    "    patience = 3,\n",
    "    restore_best_weights = True\n",
    ")\n",
    "\n",
    "history = model.fit(\n",
    "    train_seq,\n",
    "    train_target,\n",
    "    # 최소 \n",
    "    epochs = 100,\n",
    "    batch_size = 64, # mini batch 경사 하강법( 순환갯수 )\n",
    "    # 검증 data\n",
    "    validation_data = (val_seq,val_target),\n",
    "    callbacks = [checkpoint_cb,early_stopping_cb]\n",
    ")"
   ]
  },
  {
   "cell_type": "code",
   "execution_count": 31,
   "metadata": {},
   "outputs": [
    {
     "data": {
      "image/png": "[encoded data removed]",
      "text/plain": [
       "<Figure size 432x288 with 1 Axes>"
      ]
     },
     "metadata": {
      "needs_background": "light"
     },
     "output_type": "display_data"
    }
   ],
   "source": [
    "# 시각화 \n",
    "plt.plot(history.history['loss'])\n",
    "plt.plot(history.history['val_loss'])\n",
    "plt.xlabel('epoch')\n",
    "plt.ylabel('loss')\n",
    "plt.legend(['train','val'])\n",
    "plt.show()\n",
    "# 과대적합 발생 \n",
    "# train의 loss가 더 많음 "
   ]
  },
  {
   "cell_type": "code",
   "execution_count": 32,
   "metadata": {},
   "outputs": [
    {
     "name": "stdout",
     "output_type": "stream",
     "text": [
      "157/157 [==============================] - 1s 7ms/step - loss: 0.4263 - accuracy: 0.8026\n"
     ]
    },
    {
     "data": {
      "text/plain": [
       "[0.426316499710083, 0.8026000261306763]"
      ]
     },
     "execution_count": 32,
     "metadata": {},
     "output_type": "execute_result"
    }
   ],
   "source": [
    "# 검증데이터의 loss, 정확도 \n",
    "model.evaluate(val_seq,val_target)"
   ]
  },
  {
   "cell_type": "markdown",
   "metadata": {},
   "source": [
    "---\n",
    "# 2개층을 연결하기"
   ]
  },
  {
   "cell_type": "code",
   "execution_count": 33,
   "metadata": {},
   "outputs": [
    {
     "name": "stdout",
     "output_type": "stream",
     "text": [
      "Model: \"sequential_3\"\n",
      "_________________________________________________________________\n",
      " Layer (type)                Output Shape              Param #   \n",
      "=================================================================\n",
      " embedding_2 (Embedding)     (None, 100, 16)           8000      \n",
      "                                                                 \n",
      " lstm_2 (LSTM)               (None, 100, 8)            800       \n",
      "                                                                 \n",
      " lstm_3 (LSTM)               (None, 8)                 544       \n",
      "                                                                 \n",
      " dense_3 (Dense)             (None, 1)                 9         \n",
      "                                                                 \n",
      "=================================================================\n",
      "Total params: 9,353\n",
      "Trainable params: 9,353\n",
      "Non-trainable params: 0\n",
      "_________________________________________________________________\n"
     ]
    }
   ],
   "source": [
    "model = keras.Sequential()\n",
    "# 16, hyperparameter\n",
    "model.add(keras.layers.Embedding(500, 16, input_length = 100)) # one hot encoding\n",
    "# 8 = > cell\n",
    "model.add(keras.layers.LSTM(8,dropout=0.3, return_sequences=True))\n",
    "# lstm층 추가 \n",
    "# 모든 타임스탭의 은닉상태를 출력하려면 return_sequence 이여야한다.(전체가 한 문장인지 알게 )\n",
    "model.add(keras.layers.LSTM(8,dropout=0.3))\n",
    "model.add(keras.layers.Dense(1,activation = \"sigmoid\"))\n",
    "\n",
    "model.summary()"
   ]
  },
  {
   "cell_type": "code",
   "execution_count": 34,
   "metadata": {},
   "outputs": [
    {
     "name": "stdout",
     "output_type": "stream",
     "text": [
      "Epoch 1/100\n",
      "313/313 [==============================] - 30s 81ms/step - loss: 0.6927 - accuracy: 0.5429 - val_loss: 0.6921 - val_accuracy: 0.5858\n",
      "Epoch 2/100\n",
      "313/313 [==============================] - 22s 71ms/step - loss: 0.6903 - accuracy: 0.6154 - val_loss: 0.6867 - val_accuracy: 0.6490\n",
      "Epoch 3/100\n",
      "313/313 [==============================] - 22s 69ms/step - loss: 0.6746 - accuracy: 0.6352 - val_loss: 0.6509 - val_accuracy: 0.6876\n",
      "Epoch 4/100\n",
      "313/313 [==============================] - 21s 67ms/step - loss: 0.6200 - accuracy: 0.6990 - val_loss: 0.5859 - val_accuracy: 0.7280\n",
      "Epoch 5/100\n",
      "313/313 [==============================] - 20s 63ms/step - loss: 0.5710 - accuracy: 0.7296 - val_loss: 0.5494 - val_accuracy: 0.7460\n",
      "Epoch 6/100\n",
      "313/313 [==============================] - 20s 63ms/step - loss: 0.5436 - accuracy: 0.7426 - val_loss: 0.5256 - val_accuracy: 0.7592\n",
      "Epoch 7/100\n",
      "313/313 [==============================] - 20s 63ms/step - loss: 0.5224 - accuracy: 0.7534 - val_loss: 0.5131 - val_accuracy: 0.7594\n",
      "Epoch 8/100\n",
      "313/313 [==============================] - 20s 64ms/step - loss: 0.5061 - accuracy: 0.7631 - val_loss: 0.4984 - val_accuracy: 0.7680\n",
      "Epoch 9/100\n",
      "313/313 [==============================] - 23s 73ms/step - loss: 0.4945 - accuracy: 0.7717 - val_loss: 0.4873 - val_accuracy: 0.7748\n",
      "Epoch 10/100\n",
      "313/313 [==============================] - 23s 73ms/step - loss: 0.4842 - accuracy: 0.7775 - val_loss: 0.4826 - val_accuracy: 0.7732\n",
      "Epoch 11/100\n",
      "313/313 [==============================] - 19s 61ms/step - loss: 0.4738 - accuracy: 0.7837 - val_loss: 0.4779 - val_accuracy: 0.7788\n",
      "Epoch 12/100\n",
      "313/313 [==============================] - 20s 62ms/step - loss: 0.4728 - accuracy: 0.7811 - val_loss: 0.4690 - val_accuracy: 0.7820\n",
      "Epoch 13/100\n",
      "313/313 [==============================] - 19s 62ms/step - loss: 0.4641 - accuracy: 0.7874 - val_loss: 0.4659 - val_accuracy: 0.7810\n",
      "Epoch 14/100\n",
      "313/313 [==============================] - 19s 61ms/step - loss: 0.4607 - accuracy: 0.7897 - val_loss: 0.4616 - val_accuracy: 0.7838\n",
      "Epoch 15/100\n",
      "313/313 [==============================] - 20s 63ms/step - loss: 0.4563 - accuracy: 0.7924 - val_loss: 0.4596 - val_accuracy: 0.7848\n",
      "Epoch 16/100\n",
      "313/313 [==============================] - 20s 63ms/step - loss: 0.4527 - accuracy: 0.7935 - val_loss: 0.4560 - val_accuracy: 0.7864\n",
      "Epoch 17/100\n",
      "313/313 [==============================] - 19s 62ms/step - loss: 0.4500 - accuracy: 0.7945 - val_loss: 0.4674 - val_accuracy: 0.7756\n",
      "Epoch 18/100\n",
      "313/313 [==============================] - 20s 63ms/step - loss: 0.4478 - accuracy: 0.7933 - val_loss: 0.4559 - val_accuracy: 0.7882\n",
      "Epoch 19/100\n",
      "313/313 [==============================] - 21s 68ms/step - loss: 0.4425 - accuracy: 0.7965 - val_loss: 0.4484 - val_accuracy: 0.7904\n",
      "Epoch 20/100\n",
      "313/313 [==============================] - 20s 65ms/step - loss: 0.4437 - accuracy: 0.7987 - val_loss: 0.4463 - val_accuracy: 0.7902\n",
      "Epoch 21/100\n",
      "313/313 [==============================] - 19s 61ms/step - loss: 0.4409 - accuracy: 0.7993 - val_loss: 0.4489 - val_accuracy: 0.7922\n",
      "Epoch 22/100\n",
      "313/313 [==============================] - 21s 66ms/step - loss: 0.4391 - accuracy: 0.7992 - val_loss: 0.4434 - val_accuracy: 0.7932\n",
      "Epoch 23/100\n",
      "313/313 [==============================] - 21s 66ms/step - loss: 0.4361 - accuracy: 0.8015 - val_loss: 0.4430 - val_accuracy: 0.7960\n",
      "Epoch 24/100\n",
      "313/313 [==============================] - 20s 65ms/step - loss: 0.4345 - accuracy: 0.8020 - val_loss: 0.4420 - val_accuracy: 0.7954\n",
      "Epoch 25/100\n",
      "313/313 [==============================] - 21s 68ms/step - loss: 0.4333 - accuracy: 0.8048 - val_loss: 0.4440 - val_accuracy: 0.7906\n",
      "Epoch 26/100\n",
      "313/313 [==============================] - 20s 65ms/step - loss: 0.4326 - accuracy: 0.8031 - val_loss: 0.4499 - val_accuracy: 0.7952\n",
      "Epoch 27/100\n",
      "313/313 [==============================] - 20s 63ms/step - loss: 0.4321 - accuracy: 0.8047 - val_loss: 0.4400 - val_accuracy: 0.7974\n",
      "Epoch 28/100\n",
      "313/313 [==============================] - 21s 66ms/step - loss: 0.4261 - accuracy: 0.8068 - val_loss: 0.4433 - val_accuracy: 0.7896\n",
      "Epoch 29/100\n",
      "313/313 [==============================] - 20s 63ms/step - loss: 0.4301 - accuracy: 0.8051 - val_loss: 0.4420 - val_accuracy: 0.7880\n",
      "Epoch 30/100\n",
      "313/313 [==============================] - 20s 63ms/step - loss: 0.4283 - accuracy: 0.8051 - val_loss: 0.4362 - val_accuracy: 0.7990\n",
      "Epoch 31/100\n",
      "313/313 [==============================] - 20s 64ms/step - loss: 0.4258 - accuracy: 0.8066 - val_loss: 0.4353 - val_accuracy: 0.7988\n",
      "Epoch 32/100\n",
      "313/313 [==============================] - 20s 64ms/step - loss: 0.4254 - accuracy: 0.8051 - val_loss: 0.4373 - val_accuracy: 0.7938\n",
      "Epoch 33/100\n",
      "313/313 [==============================] - 20s 64ms/step - loss: 0.4245 - accuracy: 0.8051 - val_loss: 0.4371 - val_accuracy: 0.7984\n",
      "Epoch 34/100\n",
      "313/313 [==============================] - 20s 64ms/step - loss: 0.4230 - accuracy: 0.8066 - val_loss: 0.4362 - val_accuracy: 0.8000\n"
     ]
    }
   ],
   "source": [
    "# 훈련\n",
    "# optimizer\n",
    "rmsprop = keras.optimizers.RMSprop(learning_rate=1e-4)\n",
    "model.compile(\n",
    "    optimizer=rmsprop,\n",
    "    # 손실함수는 출력층에 따라 0,1\n",
    "    loss = \"binary_crossentropy\",\n",
    "    metrics = \"accuracy\",\n",
    "    )\n",
    "# 최적의 값 찾기\n",
    "checkpoint_cb = keras.callbacks.ModelCheckpoint(\"../Data/best-2nn-model.h5\")\n",
    "# 조기종료 \n",
    "early_stopping_cb = keras.callbacks.EarlyStopping(\n",
    "    patience = 3,\n",
    "    restore_best_weights = True\n",
    ")\n",
    "\n",
    "history = model.fit(\n",
    "    train_seq,\n",
    "    train_target,\n",
    "    # 최소 \n",
    "    epochs = 100,\n",
    "    batch_size = 64, # mini batch 경사 하강법( 순환갯수 )\n",
    "    # 검증 data\n",
    "    validation_data = (val_seq,val_target),\n",
    "    callbacks = [checkpoint_cb,early_stopping_cb]\n",
    ")"
   ]
  },
  {
   "cell_type": "code",
   "execution_count": 35,
   "metadata": {},
   "outputs": [
    {
     "name": "stdout",
     "output_type": "stream",
     "text": [
      "157/157 [==============================] - 2s 11ms/step - loss: 0.4353 - accuracy: 0.7988\n"
     ]
    },
    {
     "data": {
      "text/plain": [
       "[0.4352980852127075, 0.798799991607666]"
      ]
     },
     "execution_count": 35,
     "metadata": {},
     "output_type": "execute_result"
    }
   ],
   "source": [
    "# 검증데이터의 loss, 정확도 \n",
    "model.evaluate(val_seq,val_target)"
   ]
  },
  {
   "cell_type": "code",
   "execution_count": 36,
   "metadata": {},
   "outputs": [
    {
     "data": {
      "image/png": "[encoded data removed]",
      "text/plain": [
       "<Figure size 432x288 with 1 Axes>"
      ]
     },
     "metadata": {
      "needs_background": "light"
     },
     "output_type": "display_data"
    }
   ],
   "source": [
    "# 시각화 \n",
    "plt.plot(history.history['loss'])\n",
    "plt.plot(history.history['val_loss'])\n",
    "plt.xlabel('epoch')\n",
    "plt.ylabel('loss')\n",
    "plt.legend(['train','val'])\n",
    "plt.show()\n",
    "# 과대적합 발생 \n",
    "# train의 loss가 더 많음 "
   ]
  },
  {
   "cell_type": "markdown",
   "metadata": {},
   "source": [
    "- LSTM층은하나의 문장이 토큰 a,b,c 가 있다 할때 다음 셀은 outputA, outputAB, outputABC가 넘겨주어 학습한다.(바통터치하여 학습한다.)\n",
    "- 그 후 dense 층으로 간다"
   ]
  },
  {
   "cell_type": "markdown",
   "metadata": {},
   "source": [
    "### GRU(Gated Recurrent Unit) 신경망\n",
    "- LSTM의 간소화 버전(모든 토큰을 기억하는 것이 퍼포먼스에 안 좋음)\n",
    "- 자동 dropout"
   ]
  },
  {
   "cell_type": "code",
   "execution_count": 37,
   "metadata": {},
   "outputs": [
    {
     "name": "stdout",
     "output_type": "stream",
     "text": [
      "Model: \"sequential_4\"\n",
      "_________________________________________________________________\n",
      " Layer (type)                Output Shape              Param #   \n",
      "=================================================================\n",
      " embedding_3 (Embedding)     (None, 100, 16)           8000      \n",
      "                                                                 \n",
      " gru (GRU)                   (None, 8)                 624       \n",
      "                                                                 \n",
      " dense_4 (Dense)             (None, 1)                 9         \n",
      "                                                                 \n",
      "=================================================================\n",
      "Total params: 8,633\n",
      "Trainable params: 8,633\n",
      "Non-trainable params: 0\n",
      "_________________________________________________________________\n"
     ]
    }
   ],
   "source": [
    "model = keras.Sequential()\n",
    "# 16, hyperparameter\n",
    "model.add(keras.layers.Embedding(500, 16, input_length = 100)) # one hot encoding\n",
    "# 8 = > cell\n",
    "model.add(keras.layers.GRU(8))\n",
    "model.add(keras.layers.Dense(1,activation = \"sigmoid\"))\n",
    "\n",
    "model.summary()"
   ]
  },
  {
   "cell_type": "code",
   "execution_count": 38,
   "metadata": {},
   "outputs": [
    {
     "name": "stdout",
     "output_type": "stream",
     "text": [
      "Epoch 1/100\n",
      "313/313 [==============================] - 17s 43ms/step - loss: 0.6926 - accuracy: 0.5321 - val_loss: 0.6920 - val_accuracy: 0.5526\n",
      "Epoch 2/100\n",
      "313/313 [==============================] - 13s 41ms/step - loss: 0.6908 - accuracy: 0.5793 - val_loss: 0.6900 - val_accuracy: 0.5818\n",
      "Epoch 3/100\n",
      "313/313 [==============================] - 14s 45ms/step - loss: 0.6877 - accuracy: 0.6039 - val_loss: 0.6864 - val_accuracy: 0.6010\n",
      "Epoch 4/100\n",
      "313/313 [==============================] - 12s 39ms/step - loss: 0.6819 - accuracy: 0.6244 - val_loss: 0.6793 - val_accuracy: 0.6176\n",
      "Epoch 5/100\n",
      "313/313 [==============================] - 12s 39ms/step - loss: 0.6710 - accuracy: 0.6414 - val_loss: 0.6653 - val_accuracy: 0.6408\n",
      "Epoch 6/100\n",
      "313/313 [==============================] - 13s 42ms/step - loss: 0.6479 - accuracy: 0.6658 - val_loss: 0.6336 - val_accuracy: 0.6704\n",
      "Epoch 7/100\n",
      "313/313 [==============================] - 12s 37ms/step - loss: 0.5909 - accuracy: 0.7060 - val_loss: 0.5631 - val_accuracy: 0.7280\n",
      "Epoch 8/100\n",
      "313/313 [==============================] - 12s 37ms/step - loss: 0.5364 - accuracy: 0.7418 - val_loss: 0.5356 - val_accuracy: 0.7430\n",
      "Epoch 9/100\n",
      "313/313 [==============================] - 12s 39ms/step - loss: 0.5146 - accuracy: 0.7579 - val_loss: 0.5180 - val_accuracy: 0.7528\n",
      "Epoch 10/100\n",
      "313/313 [==============================] - 12s 37ms/step - loss: 0.4982 - accuracy: 0.7674 - val_loss: 0.5103 - val_accuracy: 0.7590\n",
      "Epoch 11/100\n",
      "313/313 [==============================] - 11s 35ms/step - loss: 0.4851 - accuracy: 0.7761 - val_loss: 0.4957 - val_accuracy: 0.7624\n",
      "Epoch 12/100\n",
      "313/313 [==============================] - 11s 36ms/step - loss: 0.4739 - accuracy: 0.7846 - val_loss: 0.4833 - val_accuracy: 0.7696\n",
      "Epoch 13/100\n",
      "313/313 [==============================] - 11s 36ms/step - loss: 0.4642 - accuracy: 0.7893 - val_loss: 0.4764 - val_accuracy: 0.7772\n",
      "Epoch 14/100\n",
      "313/313 [==============================] - 11s 36ms/step - loss: 0.4567 - accuracy: 0.7934 - val_loss: 0.4707 - val_accuracy: 0.7812\n",
      "Epoch 15/100\n",
      "313/313 [==============================] - 12s 38ms/step - loss: 0.4505 - accuracy: 0.7958 - val_loss: 0.4661 - val_accuracy: 0.7844\n",
      "Epoch 16/100\n",
      "313/313 [==============================] - 12s 38ms/step - loss: 0.4456 - accuracy: 0.7986 - val_loss: 0.4627 - val_accuracy: 0.7870\n",
      "Epoch 17/100\n",
      "313/313 [==============================] - 12s 38ms/step - loss: 0.4420 - accuracy: 0.8015 - val_loss: 0.4599 - val_accuracy: 0.7878\n",
      "Epoch 18/100\n",
      "313/313 [==============================] - 12s 37ms/step - loss: 0.4380 - accuracy: 0.8051 - val_loss: 0.4576 - val_accuracy: 0.7874\n",
      "Epoch 19/100\n",
      "313/313 [==============================] - 12s 38ms/step - loss: 0.4351 - accuracy: 0.8061 - val_loss: 0.4561 - val_accuracy: 0.7884\n",
      "Epoch 20/100\n",
      "313/313 [==============================] - 13s 43ms/step - loss: 0.4323 - accuracy: 0.8083 - val_loss: 0.4594 - val_accuracy: 0.7914\n",
      "Epoch 21/100\n",
      "313/313 [==============================] - 13s 40ms/step - loss: 0.4305 - accuracy: 0.8091 - val_loss: 0.4537 - val_accuracy: 0.7884\n",
      "Epoch 22/100\n",
      "313/313 [==============================] - 12s 38ms/step - loss: 0.4283 - accuracy: 0.8108 - val_loss: 0.4524 - val_accuracy: 0.7906\n",
      "Epoch 23/100\n",
      "313/313 [==============================] - 12s 38ms/step - loss: 0.4264 - accuracy: 0.8109 - val_loss: 0.4514 - val_accuracy: 0.7892\n",
      "Epoch 24/100\n",
      "313/313 [==============================] - 11s 37ms/step - loss: 0.4253 - accuracy: 0.8116 - val_loss: 0.4503 - val_accuracy: 0.7910\n",
      "Epoch 25/100\n",
      "313/313 [==============================] - 12s 39ms/step - loss: 0.4236 - accuracy: 0.8124 - val_loss: 0.4500 - val_accuracy: 0.7910\n",
      "Epoch 26/100\n",
      "313/313 [==============================] - 12s 38ms/step - loss: 0.4227 - accuracy: 0.8135 - val_loss: 0.4498 - val_accuracy: 0.7906\n",
      "Epoch 27/100\n",
      "313/313 [==============================] - 11s 36ms/step - loss: 0.4214 - accuracy: 0.8130 - val_loss: 0.4543 - val_accuracy: 0.7850\n",
      "Epoch 28/100\n",
      "313/313 [==============================] - 11s 36ms/step - loss: 0.4209 - accuracy: 0.8145 - val_loss: 0.4483 - val_accuracy: 0.7908\n",
      "Epoch 29/100\n",
      "313/313 [==============================] - 11s 36ms/step - loss: 0.4197 - accuracy: 0.8147 - val_loss: 0.4481 - val_accuracy: 0.7914\n",
      "Epoch 30/100\n",
      "313/313 [==============================] - 11s 36ms/step - loss: 0.4189 - accuracy: 0.8145 - val_loss: 0.4509 - val_accuracy: 0.7926\n",
      "Epoch 31/100\n",
      "313/313 [==============================] - 11s 36ms/step - loss: 0.4182 - accuracy: 0.8166 - val_loss: 0.4471 - val_accuracy: 0.7922\n",
      "Epoch 32/100\n",
      "313/313 [==============================] - 11s 36ms/step - loss: 0.4175 - accuracy: 0.8154 - val_loss: 0.4471 - val_accuracy: 0.7938\n",
      "Epoch 33/100\n",
      "313/313 [==============================] - 11s 36ms/step - loss: 0.4170 - accuracy: 0.8150 - val_loss: 0.4454 - val_accuracy: 0.7932\n",
      "Epoch 34/100\n",
      "313/313 [==============================] - 11s 36ms/step - loss: 0.4164 - accuracy: 0.8153 - val_loss: 0.4463 - val_accuracy: 0.7910\n",
      "Epoch 35/100\n",
      "313/313 [==============================] - 12s 37ms/step - loss: 0.4162 - accuracy: 0.8158 - val_loss: 0.4441 - val_accuracy: 0.7936\n",
      "Epoch 36/100\n",
      "313/313 [==============================] - 12s 37ms/step - loss: 0.4152 - accuracy: 0.8166 - val_loss: 0.4535 - val_accuracy: 0.7934\n",
      "Epoch 37/100\n",
      "313/313 [==============================] - 12s 37ms/step - loss: 0.4150 - accuracy: 0.8165 - val_loss: 0.4446 - val_accuracy: 0.7950\n",
      "Epoch 38/100\n",
      "313/313 [==============================] - 12s 38ms/step - loss: 0.4142 - accuracy: 0.8162 - val_loss: 0.4424 - val_accuracy: 0.7952\n",
      "Epoch 39/100\n",
      "313/313 [==============================] - 11s 37ms/step - loss: 0.4143 - accuracy: 0.8163 - val_loss: 0.4447 - val_accuracy: 0.7914\n",
      "Epoch 40/100\n",
      "313/313 [==============================] - 12s 37ms/step - loss: 0.4132 - accuracy: 0.8171 - val_loss: 0.4415 - val_accuracy: 0.7952\n",
      "Epoch 41/100\n",
      "313/313 [==============================] - 12s 37ms/step - loss: 0.4129 - accuracy: 0.8178 - val_loss: 0.4423 - val_accuracy: 0.7948\n",
      "Epoch 42/100\n",
      "313/313 [==============================] - 12s 38ms/step - loss: 0.4126 - accuracy: 0.8166 - val_loss: 0.4427 - val_accuracy: 0.7918\n",
      "Epoch 43/100\n",
      "313/313 [==============================] - 11s 37ms/step - loss: 0.4123 - accuracy: 0.8166 - val_loss: 0.4407 - val_accuracy: 0.7962\n",
      "Epoch 44/100\n",
      "313/313 [==============================] - 12s 38ms/step - loss: 0.4119 - accuracy: 0.8166 - val_loss: 0.4402 - val_accuracy: 0.7960\n",
      "Epoch 45/100\n",
      "313/313 [==============================] - 12s 40ms/step - loss: 0.4114 - accuracy: 0.8173 - val_loss: 0.4404 - val_accuracy: 0.7958\n",
      "Epoch 46/100\n",
      "313/313 [==============================] - 13s 41ms/step - loss: 0.4112 - accuracy: 0.8170 - val_loss: 0.4413 - val_accuracy: 0.7956\n",
      "Epoch 47/100\n",
      "313/313 [==============================] - 13s 42ms/step - loss: 0.4114 - accuracy: 0.8174 - val_loss: 0.4396 - val_accuracy: 0.7950\n",
      "Epoch 48/100\n",
      "313/313 [==============================] - 13s 40ms/step - loss: 0.4107 - accuracy: 0.8191 - val_loss: 0.4389 - val_accuracy: 0.7964\n",
      "Epoch 49/100\n",
      "313/313 [==============================] - 12s 37ms/step - loss: 0.4102 - accuracy: 0.8185 - val_loss: 0.4395 - val_accuracy: 0.7950\n",
      "Epoch 50/100\n",
      "313/313 [==============================] - 13s 43ms/step - loss: 0.4100 - accuracy: 0.8181 - val_loss: 0.4390 - val_accuracy: 0.7992\n",
      "Epoch 51/100\n",
      "313/313 [==============================] - 13s 42ms/step - loss: 0.4097 - accuracy: 0.8173 - val_loss: 0.4374 - val_accuracy: 0.7990\n",
      "Epoch 52/100\n",
      "313/313 [==============================] - 13s 42ms/step - loss: 0.4095 - accuracy: 0.8174 - val_loss: 0.4380 - val_accuracy: 0.7980\n",
      "Epoch 53/100\n",
      "313/313 [==============================] - 13s 41ms/step - loss: 0.4093 - accuracy: 0.8177 - val_loss: 0.4382 - val_accuracy: 0.7980\n",
      "Epoch 54/100\n",
      "313/313 [==============================] - 13s 42ms/step - loss: 0.4087 - accuracy: 0.8177 - val_loss: 0.4380 - val_accuracy: 0.7998\n"
     ]
    }
   ],
   "source": [
    "# 훈련\n",
    "# optimizer\n",
    "rmsprop = keras.optimizers.RMSprop(learning_rate=1e-4)\n",
    "model.compile(\n",
    "    optimizer=rmsprop,\n",
    "    # 손실함수는 출력층에 따라 0,1\n",
    "    loss = \"binary_crossentropy\",\n",
    "    metrics = \"accuracy\",\n",
    "    )\n",
    "# 최적의 값 찾기\n",
    "checkpoint_cb = keras.callbacks.ModelCheckpoint(\"../Data/best-gru-model.h5\")\n",
    "# 조기종료 \n",
    "early_stopping_cb = keras.callbacks.EarlyStopping(\n",
    "    patience = 3,\n",
    "    restore_best_weights = True\n",
    ")\n",
    "\n",
    "history = model.fit(\n",
    "    train_seq,\n",
    "    train_target,\n",
    "    # 최소 \n",
    "    epochs = 100,\n",
    "    batch_size = 64, # mini batch 경사 하강법( 순환갯수 )\n",
    "    # 검증 data\n",
    "    validation_data = (val_seq,val_target),\n",
    "    callbacks = [checkpoint_cb,early_stopping_cb]\n",
    ")"
   ]
  },
  {
   "cell_type": "code",
   "execution_count": 39,
   "metadata": {},
   "outputs": [
    {
     "name": "stdout",
     "output_type": "stream",
     "text": [
      "157/157 [==============================] - 1s 7ms/step - loss: 0.4374 - accuracy: 0.7990\n"
     ]
    },
    {
     "data": {
      "text/plain": [
       "[0.4373794496059418, 0.7990000247955322]"
      ]
     },
     "execution_count": 39,
     "metadata": {},
     "output_type": "execute_result"
    }
   ],
   "source": [
    "# 검증데이터의 loss, 정확도 \n",
    "model.evaluate(val_seq,val_target)"
   ]
  },
  {
   "cell_type": "code",
   "execution_count": 40,
   "metadata": {},
   "outputs": [
    {
     "data": {
      "image/png": "[encoded data removed]",
      "text/plain": [
       "<Figure size 432x288 with 1 Axes>"
      ]
     },
     "metadata": {
      "needs_background": "light"
     },
     "output_type": "display_data"
    }
   ],
   "source": [
    "# 시각화 \n",
    "plt.plot(history.history['loss'])\n",
    "plt.plot(history.history['val_loss'])\n",
    "plt.xlabel('epoch')\n",
    "plt.ylabel('loss')\n",
    "plt.legend(['train','val'])\n",
    "plt.show()\n",
    "# 과대적합 발생 \n",
    "# train의 loss가 더 많음 "
   ]
  },
  {
   "cell_type": "code",
   "execution_count": null,
   "metadata": {},
   "outputs": [],
   "source": []
  }
 ],
 "metadata": {
  "kernelspec": {
   "display_name": "Python 3.9.7 ('base')",
   "language": "python",
   "name": "python3"
  },
  "language_info": {
   "codemirror_mode": {
    "name": "ipython",
    "version": 3
   },
   "file_extension": ".py",
   "mimetype": "text/x-python",
   "name": "python",
   "nbconvert_exporter": "python",
   "pygments_lexer": "ipython3",
   "version": "3.9.7"
  },
  "orig_nbformat": 4,
  "vscode": {
   "interpreter": {
    "hash": "c34e8390e776d2ee205b71ed5a6130fee3cef8da5e87e926ce18e14f4a070d72"
   }
  }
 },
 "nbformat": 4,
 "nbformat_minor": 2
}
