{
 "cells": [
  {
   "cell_type": "markdown",
   "metadata": {},
   "source": [
    "### CNN(Convolutional Neural Network, 합성곱 신경망)에서 본 심층신경망(다층 퍼셉트론)의 단점\n",
    "- 입력값으로 고유 이미지 생김새 정보를 알 수 없다. 2차원 배열 자료를 1차원으로 변경하여 작업이 시작된다.\n",
    "- 심층신경망은 픽셀 하나, 하나의 변화에 상당히 민감하다. 이미지 생김새를 사용할 수 없으므로 한 두개의 픽셀이 모델 예측에 영향을 끼친다.\n",
    "- 픽셀 한 두개의 정보에도 민감하게 반응하기 위해 상당히 많은 변수를 모델 안에 가지고 있다. 이로 인해 학습시간이 오래 걸리고 잘못하면 과대적합이 발생한다. "
   ]
  },
  {
   "cell_type": "markdown",
   "metadata": {},
   "source": [
    "![](../Data/cnn.png)"
   ]
  },
  {
   "cell_type": "markdown",
   "metadata": {},
   "source": [
    "### 합성곱 신경망 (CNN:Convolutional Neural Network)의 구성요소 \n",
    "- 밀집층 \n",
    "1차원 합성곱 (노드의)\n",
    "- 합성곱 신경망은 노드의 전체갯수가 아니고 정하여 사용함 (3,5 => hyper parameter: 가중치가 3개 혹은 5개)\n",
    "- 1차원이니 입력층을 아래로 한칸을 이동하여(1,2,3 => 2,3,4 =>3,4,5) 위에서 계산한 동일한 가중치와 절편을 사용한다. (같은 가중치)\n",
    "- 밀집층 보다 가중치의 갯수가 훨씬 작다 \n",
    "- 10개의 입력이 있으면 출력은 8개만 만들어짐.(화살표가 지나간 노드)\n",
    "- 3개씩 있는 것을 필터라고 하여 필터의 커널은 3이다.(3개씩 묶음 )\n",
    "\n",
    "- 겹치게 학습을 해야 이미지가 쌓인다. \n",
    "2차원 합성곱\n",
    "- 4 * 4의 그림일 경우 커널을 3 * 3로 한다면 가운데가 겹쳐서 인식된다.\n",
    "- 겹칠수록 이미지가 쌓여 학습을 많이 하여 정확해진다.\n",
    "- 단점 : 가장자리는 가운데에 비해 학습을 더하여 덜 정확함. \n",
    "-> feature가 뚜렷한 것을 골라서 그래서 윤곽선을 뚜렷하게 그릴수 있음"
   ]
  },
  {
   "cell_type": "markdown",
   "metadata": {},
   "source": [
    "![](../Data/cnn2.png)"
   ]
  },
  {
   "cell_type": "markdown",
   "metadata": {},
   "source": [
    "- 주의: 같은 그림이여도 위치가 다르면 다른 이미지라 인식할 수 있기 때문에 이미지 processing이 필요하다. \n",
    "- 이것은 합성곱신경망의 전단계에서 이루어지는 것임"
   ]
  },
  {
   "cell_type": "markdown",
   "metadata": {},
   "source": [
    "- 윤곽선의 위주라서 컬러 구분은 어떻게 할까?\n",
    "- r,g,b 는 하나의 면이 3차원으로 쌓인 큐브 모양이다.\n",
    "- 그래서 커널 또한 3차원으로 구성되어 학습을 한다.<br>\n",
    "-> 차원에 따라서 커널의 차원 또한 바뀌어 학습한다. "
   ]
  },
  {
   "cell_type": "markdown",
   "metadata": {},
   "source": [
    "- 여기서 특징점을 뽑아내어 인식한다. => 모양으로 하는 것이 아니다.(그래서 위치가 바껴도 인식할 수 있는 것임)"
   ]
  },
  {
   "cell_type": "markdown",
   "metadata": {},
   "source": [
    "> cnn은 이미지 딥러닝을 위한 전처리<br>\n",
    "> 반고흐 그림과 피카소의 그림도 구분 가능하다. 색깔로 하는 것이 아님<br>\n",
    "> 이를 이용해서 위조 인식도 가능하다."
   ]
  }
 ],
 "metadata": {
  "kernelspec": {
   "display_name": "Python 3.9.7 ('base')",
   "language": "python",
   "name": "python3"
  },
  "language_info": {
   "name": "python",
   "version": "3.9.7"
  },
  "orig_nbformat": 4,
  "vscode": {
   "interpreter": {
    "hash": "c34e8390e776d2ee205b71ed5a6130fee3cef8da5e87e926ce18e14f4a070d72"
   }
  }
 },
 "nbformat": 4,
 "nbformat_minor": 2
}
