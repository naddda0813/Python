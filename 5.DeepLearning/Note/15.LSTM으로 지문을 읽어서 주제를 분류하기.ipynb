{
 "cells": [
  {
   "cell_type": "code",
   "execution_count": 2,
   "metadata": {},
   "outputs": [
    {
     "data": {
      "text/html": [
       "<div>\n",
       "<style scoped>\n",
       "    .dataframe tbody tr th:only-of-type {\n",
       "        vertical-align: middle;\n",
       "    }\n",
       "\n",
       "    .dataframe tbody tr th {\n",
       "        vertical-align: top;\n",
       "    }\n",
       "\n",
       "    .dataframe thead th {\n",
       "        text-align: right;\n",
       "    }\n",
       "</style>\n",
       "<table border=\"1\" class=\"dataframe\">\n",
       "  <thead>\n",
       "    <tr style=\"text-align: right;\">\n",
       "      <th></th>\n",
       "      <th>paragraph</th>\n",
       "      <th>category</th>\n",
       "    </tr>\n",
       "  </thead>\n",
       "  <tbody>\n",
       "    <tr>\n",
       "      <th>0</th>\n",
       "      <td>dishplace is located in sunnyvale downtown the...</td>\n",
       "      <td>food</td>\n",
       "    </tr>\n",
       "    <tr>\n",
       "      <th>1</th>\n",
       "      <td>service can be slower during busy hours but ou...</td>\n",
       "      <td>food</td>\n",
       "    </tr>\n",
       "    <tr>\n",
       "      <th>2</th>\n",
       "      <td>portions are huge both french toast and their ...</td>\n",
       "      <td>food</td>\n",
       "    </tr>\n",
       "    <tr>\n",
       "      <th>3</th>\n",
       "      <td>we started with apps going the chicken and waf...</td>\n",
       "      <td>food</td>\n",
       "    </tr>\n",
       "    <tr>\n",
       "      <th>4</th>\n",
       "      <td>the biscuits and gravy was too salty two peopl...</td>\n",
       "      <td>food</td>\n",
       "    </tr>\n",
       "  </tbody>\n",
       "</table>\n",
       "</div>"
      ],
      "text/plain": [
       "                                           paragraph category\n",
       "0  dishplace is located in sunnyvale downtown the...     food\n",
       "1  service can be slower during busy hours but ou...     food\n",
       "2  portions are huge both french toast and their ...     food\n",
       "3  we started with apps going the chicken and waf...     food\n",
       "4  the biscuits and gravy was too salty two peopl...     food"
      ]
     },
     "execution_count": 2,
     "metadata": {},
     "output_type": "execute_result"
    }
   ],
   "source": [
    "import pandas as pd\n",
    "df = pd.read_csv(\"../Data/lstm.csv\")\n",
    "df.head()"
   ]
  },
  {
   "cell_type": "code",
   "execution_count": 3,
   "metadata": {},
   "outputs": [
    {
     "data": {
      "text/plain": [
       "array(['food', 'sports'], dtype=object)"
      ]
     },
     "execution_count": 3,
     "metadata": {},
     "output_type": "execute_result"
    }
   ],
   "source": [
    "df.category.unique()\n",
    "# 이진분류"
   ]
  },
  {
   "cell_type": "code",
   "execution_count": 6,
   "metadata": {},
   "outputs": [
    {
     "data": {
      "text/plain": [
       "536"
      ]
     },
     "execution_count": 6,
     "metadata": {},
     "output_type": "execute_result"
    }
   ],
   "source": [
    "# 데이터에 사용된 중복 없는 전체 단어 갯수를 파악\n",
    "results = set()\n",
    "# 소문자로 만들고 쪼갠다\n",
    "df['paragraph'].str.lower().str.split().apply(results.update)\n",
    "vocab_size = len(results)\n",
    "vocab_size"
   ]
  },
  {
   "cell_type": "code",
   "execution_count": 7,
   "metadata": {},
   "outputs": [
    {
     "data": {
      "text/plain": [
       "['dishplace is located in sunnyvale downtown there is parking around the area but it can be difficult to find during peak business hours my sisters and i came to this place for dinner on a weekday they were really busy so i highly recommended making reservations unless you have the patience to wait',\n",
       " 'service can be slower during busy hours but our waiter was courteous and help gave some great entree recommendations',\n",
       " 'portions are huge both french toast and their various omelettes are really good their french toast is probably 1.5x more than other brunch places great place to visit if you are hungry and dont want to wait 1 hour for a table',\n",
       " 'we started with apps going the chicken and waffle slides and chicken nachos the sliders were amazing and the nachos were good too maybe by themselves the nachos would have scored better but after those sliders they were up against some tough competition',\n",
       " 'the biscuits and gravy was too salty two people in my group had the gravy and all thought it was too salty my hubby ordered a side of double egg and it was served on two small plates who serves eggs to one person on separate plates we commented on that when it was delivered and even the server laughed and said she doesnt know why the kitchen does that presentation of food is important and they really missed on this one']"
      ]
     },
     "execution_count": 7,
     "metadata": {},
     "output_type": "execute_result"
    }
   ],
   "source": [
    "# 단어를 숫자로 인코딩\n",
    "paragraphs = df['paragraph'].to_list()\n",
    "paragraphs[0:5]"
   ]
  },
  {
   "cell_type": "code",
   "execution_count": 9,
   "metadata": {},
   "outputs": [],
   "source": [
    "from tensorflow import keras\n",
    "keras.utils.set_random_seed(1)"
   ]
  },
  {
   "cell_type": "code",
   "execution_count": 10,
   "metadata": {},
   "outputs": [],
   "source": [
    "# one hot encoding\n",
    "encoded_paragraphs = [keras.preprocessing.text.one_hot(paragraph, vocab_size) for paragraph in paragraphs]"
   ]
  },
  {
   "cell_type": "code",
   "execution_count": 11,
   "metadata": {},
   "outputs": [
    {
     "name": "stdout",
     "output_type": "stream",
     "text": [
      "91\n"
     ]
    }
   ],
   "source": [
    "# 데이터에서 가장 긴 문장의 단어 갯수 확인\n",
    "max_length = 0\n",
    "for row in df['paragraph']:\n",
    "    if len(row.split(\" \")) > max_length:\n",
    "        max_length = len(row.split(\" \"))\n",
    "print(max_length)"
   ]
  },
  {
   "cell_type": "code",
   "execution_count": 16,
   "metadata": {},
   "outputs": [
    {
     "data": {
      "text/plain": [
       "array([[ 95, 119, 464, ...,   0,   0,   0],\n",
       "       [352, 256, 146, ...,   0,   0,   0],\n",
       "       [ 32, 308, 242, ...,   0,   0,   0],\n",
       "       ...,\n",
       "       [470,  25,   8, ...,   0,   0,   0],\n",
       "       [193, 312,  39, ...,   0,   0,   0],\n",
       "       [ 72, 476, 312, ...,   0,   0,   0]], dtype=int32)"
      ]
     },
     "execution_count": 16,
     "metadata": {},
     "output_type": "execute_result"
    }
   ],
   "source": [
    "# 문장마다 단어 갯수가 다르므로 Sequence padding을 넣어서 문장의 길이를 동일하게 만듬\n",
    "padded_paragraphs_encoding = keras.preprocessing.sequence.pad_sequences(encoded_paragraphs,maxlen=max_length,padding=\"post\")\n",
    "padded_paragraphs_encoding"
   ]
  },
  {
   "cell_type": "code",
   "execution_count": 17,
   "metadata": {},
   "outputs": [],
   "source": [
    "# 분류형태 (food, sports)로 수치  변경하기 \n",
    "categories = df['category'].to_list()\n",
    "\n",
    "def category_encode(category):\n",
    "    if category == \"food\":\n",
    "        return [1,0]\n",
    "    else:\n",
    "        return [0,1]"
   ]
  },
  {
   "cell_type": "code",
   "execution_count": 18,
   "metadata": {},
   "outputs": [
    {
     "data": {
      "text/plain": [
       "[[1, 0],\n",
       " [1, 0],\n",
       " [1, 0],\n",
       " [1, 0],\n",
       " [1, 0],\n",
       " [1, 0],\n",
       " [1, 0],\n",
       " [1, 0],\n",
       " [1, 0],\n",
       " [1, 0],\n",
       " [0, 1],\n",
       " [0, 1],\n",
       " [0, 1],\n",
       " [0, 1],\n",
       " [0, 1],\n",
       " [0, 1],\n",
       " [0, 1],\n",
       " [0, 1],\n",
       " [0, 1],\n",
       " [0, 1]]"
      ]
     },
     "execution_count": 18,
     "metadata": {},
     "output_type": "execute_result"
    }
   ],
   "source": [
    "encoded_category = [category_encode(category) for category in categories]\n",
    "encoded_category"
   ]
  },
  {
   "cell_type": "code",
   "execution_count": 19,
   "metadata": {},
   "outputs": [
    {
     "name": "stdout",
     "output_type": "stream",
     "text": [
      "[95, 119, 464, 292, 185, 81, 406, 119, 256, 143, 312, 330, 193, 469, 256, 146, 528, 51, 303, 529, 9, 66, 209, 508, 526, 282, 222, 476, 51, 137, 233, 8, 331, 285, 403, 66, 344, 432, 338, 225, 465, 222, 151, 312, 417, 278, 14, 71, 264, 312, 21, 51, 101]\n"
     ]
    }
   ],
   "source": [
    "# 피쳐 확인 \n",
    "print(encoded_paragraphs[0])"
   ]
  },
  {
   "cell_type": "code",
   "execution_count": 22,
   "metadata": {},
   "outputs": [
    {
     "data": {
      "text/plain": [
       "73"
      ]
     },
     "execution_count": 22,
     "metadata": {},
     "output_type": "execute_result"
    }
   ],
   "source": [
    "len(encoded_paragraphs[19])"
   ]
  },
  {
   "cell_type": "markdown",
   "metadata": {},
   "source": [
    "---\n",
    "# 주제 분류하는 모델 구현학"
   ]
  },
  {
   "cell_type": "code",
   "execution_count": 23,
   "metadata": {},
   "outputs": [
    {
     "name": "stderr",
     "output_type": "stream",
     "text": [
      "2022-07-22 14:11:19.901136: I tensorflow/core/platform/cpu_feature_guard.cc:193] This TensorFlow binary is optimized with oneAPI Deep Neural Network Library (oneDNN) to use the following CPU instructions in performance-critical operations:  AVX2 FMA\n",
      "To enable them in other operations, rebuild TensorFlow with the appropriate compiler flags.\n"
     ]
    }
   ],
   "source": [
    "model = keras.Sequential()"
   ]
  },
  {
   "cell_type": "code",
   "execution_count": 24,
   "metadata": {},
   "outputs": [],
   "source": [
    "# 문맥 생성단계\n",
    "# vocab_size = 536\n",
    "model.add(keras.layers.Embedding(vocab_size,5,input_length=max_length))\n",
    "# 임베딩 레이어는 인덱스를 받아 5차원 벡터의 임베딩 출력 => hyper parameter\n",
    "# 하나의 토큰을 주어, 동사, 목적어, 보어를 알기 위해 5 => 한국어는 필요 없다.\n",
    "model.add(keras.layers.LSTM(64))"
   ]
  },
  {
   "cell_type": "code",
   "execution_count": 27,
   "metadata": {},
   "outputs": [],
   "source": [
    "#  분류 단계\n",
    "# lstm의 반만 \n",
    "model.add(keras.layers.Dense(32,activation=\"relu\"))\n",
    "# 출력층\n",
    "model.add(keras.layers.Dense(2,activation=\"softmax\"))\n",
    "# 출력하는 게 food, sports이지만 0과 1의 숫자가 아니라 문장형태이므로 다준분류 ,sigmoid\n"
   ]
  },
  {
   "cell_type": "code",
   "execution_count": 28,
   "metadata": {},
   "outputs": [],
   "source": [
    "model.compile(loss=\"categorical_crossentropy\",optimizer=\"adam\",metrics=\"accuracy\")"
   ]
  },
  {
   "cell_type": "code",
   "execution_count": 29,
   "metadata": {},
   "outputs": [],
   "source": [
    "import numpy as np\n",
    "train_X = np.array(padded_paragraphs_encoding)\n",
    "train_Y = np.array(encoded_category)"
   ]
  },
  {
   "cell_type": "code",
   "execution_count": 30,
   "metadata": {},
   "outputs": [
    {
     "name": "stdout",
     "output_type": "stream",
     "text": [
      "Epoch 1/50\n",
      "2/2 [==============================] - 2s 26ms/step - loss: 0.6938 - accuracy: 0.4000\n",
      "Epoch 2/50\n",
      "2/2 [==============================] - 0s 24ms/step - loss: 0.6929 - accuracy: 0.5500\n",
      "Epoch 3/50\n",
      "2/2 [==============================] - 0s 26ms/step - loss: 0.6927 - accuracy: 0.5000\n",
      "Epoch 4/50\n",
      "2/2 [==============================] - 0s 23ms/step - loss: 0.6924 - accuracy: 0.5000\n",
      "Epoch 5/50\n",
      "2/2 [==============================] - 0s 21ms/step - loss: 0.6919 - accuracy: 0.5000\n",
      "Epoch 6/50\n",
      "2/2 [==============================] - 0s 24ms/step - loss: 0.6915 - accuracy: 0.5000\n",
      "Epoch 7/50\n",
      "2/2 [==============================] - 0s 21ms/step - loss: 0.6909 - accuracy: 0.5000\n",
      "Epoch 8/50\n",
      "2/2 [==============================] - 0s 24ms/step - loss: 0.6901 - accuracy: 0.5000\n",
      "Epoch 9/50\n",
      "2/2 [==============================] - 0s 29ms/step - loss: 0.6893 - accuracy: 0.5000\n",
      "Epoch 10/50\n",
      "2/2 [==============================] - 0s 26ms/step - loss: 0.6885 - accuracy: 0.5000\n",
      "Epoch 11/50\n",
      "2/2 [==============================] - 0s 28ms/step - loss: 0.6867 - accuracy: 0.6000\n",
      "Epoch 12/50\n",
      "2/2 [==============================] - 0s 25ms/step - loss: 0.6845 - accuracy: 0.5000\n",
      "Epoch 13/50\n",
      "2/2 [==============================] - 0s 27ms/step - loss: 0.6791 - accuracy: 0.6500\n",
      "Epoch 14/50\n",
      "2/2 [==============================] - 0s 28ms/step - loss: 0.6688 - accuracy: 0.5000\n",
      "Epoch 15/50\n",
      "2/2 [==============================] - 0s 24ms/step - loss: 0.6518 - accuracy: 0.5000\n",
      "Epoch 16/50\n",
      "2/2 [==============================] - 0s 26ms/step - loss: 0.6626 - accuracy: 0.4500\n",
      "Epoch 17/50\n",
      "2/2 [==============================] - 0s 26ms/step - loss: 0.6191 - accuracy: 0.7500\n",
      "Epoch 18/50\n",
      "2/2 [==============================] - 0s 23ms/step - loss: 0.6139 - accuracy: 0.7500\n",
      "Epoch 19/50\n",
      "2/2 [==============================] - 0s 26ms/step - loss: 0.5264 - accuracy: 0.7000\n",
      "Epoch 20/50\n",
      "2/2 [==============================] - 0s 33ms/step - loss: 0.5222 - accuracy: 0.7000\n",
      "Epoch 21/50\n",
      "2/2 [==============================] - 0s 26ms/step - loss: 0.4741 - accuracy: 0.8500\n",
      "Epoch 22/50\n",
      "2/2 [==============================] - 0s 24ms/step - loss: 0.4529 - accuracy: 0.8500\n",
      "Epoch 23/50\n",
      "2/2 [==============================] - 0s 21ms/step - loss: 0.4360 - accuracy: 0.8500\n",
      "Epoch 24/50\n",
      "2/2 [==============================] - 0s 23ms/step - loss: 0.4297 - accuracy: 0.8500\n",
      "Epoch 25/50\n",
      "2/2 [==============================] - 0s 21ms/step - loss: 0.3701 - accuracy: 0.9500\n",
      "Epoch 26/50\n",
      "2/2 [==============================] - 0s 25ms/step - loss: 1.1069 - accuracy: 0.8500\n",
      "Epoch 27/50\n",
      "2/2 [==============================] - 0s 26ms/step - loss: 0.4141 - accuracy: 0.8500\n",
      "Epoch 28/50\n",
      "2/2 [==============================] - 0s 24ms/step - loss: 0.5137 - accuracy: 0.8500\n",
      "Epoch 29/50\n",
      "2/2 [==============================] - 0s 23ms/step - loss: 0.6346 - accuracy: 0.6000\n",
      "Epoch 30/50\n",
      "2/2 [==============================] - 0s 23ms/step - loss: 0.6492 - accuracy: 0.6000\n",
      "Epoch 31/50\n",
      "2/2 [==============================] - 0s 23ms/step - loss: 0.6533 - accuracy: 0.6000\n",
      "Epoch 32/50\n",
      "2/2 [==============================] - 0s 23ms/step - loss: 0.6579 - accuracy: 0.6000\n",
      "Epoch 33/50\n",
      "2/2 [==============================] - 0s 26ms/step - loss: 0.6603 - accuracy: 0.6000\n",
      "Epoch 34/50\n",
      "2/2 [==============================] - 0s 24ms/step - loss: 0.6613 - accuracy: 0.6000\n",
      "Epoch 35/50\n",
      "2/2 [==============================] - 0s 31ms/step - loss: 0.6614 - accuracy: 0.6000\n",
      "Epoch 36/50\n",
      "2/2 [==============================] - 0s 26ms/step - loss: 0.6612 - accuracy: 0.6000\n",
      "Epoch 37/50\n",
      "2/2 [==============================] - 0s 25ms/step - loss: 0.6604 - accuracy: 0.6000\n",
      "Epoch 38/50\n",
      "2/2 [==============================] - 0s 27ms/step - loss: 0.6590 - accuracy: 0.6000\n",
      "Epoch 39/50\n",
      "2/2 [==============================] - 0s 23ms/step - loss: 0.6573 - accuracy: 0.6000\n",
      "Epoch 40/50\n",
      "2/2 [==============================] - 0s 23ms/step - loss: 0.6552 - accuracy: 0.6000\n",
      "Epoch 41/50\n",
      "2/2 [==============================] - 0s 21ms/step - loss: 0.6531 - accuracy: 0.6000\n",
      "Epoch 42/50\n",
      "2/2 [==============================] - 0s 24ms/step - loss: 0.6504 - accuracy: 0.6000\n",
      "Epoch 43/50\n",
      "2/2 [==============================] - 0s 27ms/step - loss: 0.6474 - accuracy: 0.6000\n",
      "Epoch 44/50\n",
      "2/2 [==============================] - 0s 24ms/step - loss: 0.6440 - accuracy: 0.6000\n",
      "Epoch 45/50\n",
      "2/2 [==============================] - 0s 23ms/step - loss: 0.6395 - accuracy: 0.6000\n",
      "Epoch 46/50\n",
      "2/2 [==============================] - 0s 24ms/step - loss: 0.6352 - accuracy: 0.6000\n",
      "Epoch 47/50\n",
      "2/2 [==============================] - 0s 27ms/step - loss: 0.6297 - accuracy: 0.6000\n",
      "Epoch 48/50\n",
      "2/2 [==============================] - 0s 24ms/step - loss: 0.6228 - accuracy: 0.6000\n",
      "Epoch 49/50\n",
      "2/2 [==============================] - 0s 22ms/step - loss: 0.6175 - accuracy: 0.6000\n",
      "Epoch 50/50\n",
      "2/2 [==============================] - 0s 23ms/step - loss: 0.6032 - accuracy: 0.6000\n"
     ]
    },
    {
     "data": {
      "text/plain": [
       "<keras.callbacks.History at 0x7fefda9a83d0>"
      ]
     },
     "execution_count": 30,
     "metadata": {},
     "output_type": "execute_result"
    }
   ],
   "source": [
    "# 학습\n",
    "model.fit(train_X,train_Y,batch_size=10,epochs=50)\n"
   ]
  },
  {
   "cell_type": "code",
   "execution_count": null,
   "metadata": {},
   "outputs": [],
   "source": []
  }
 ],
 "metadata": {
  "kernelspec": {
   "display_name": "Python 3.9.7 ('base')",
   "language": "python",
   "name": "python3"
  },
  "language_info": {
   "codemirror_mode": {
    "name": "ipython",
    "version": 3
   },
   "file_extension": ".py",
   "mimetype": "text/x-python",
   "name": "python",
   "nbconvert_exporter": "python",
   "pygments_lexer": "ipython3",
   "version": "3.9.7"
  },
  "orig_nbformat": 4,
  "vscode": {
   "interpreter": {
    "hash": "c34e8390e776d2ee205b71ed5a6130fee3cef8da5e87e926ce18e14f4a070d72"
   }
  }
 },
 "nbformat": 4,
 "nbformat_minor": 2
}
