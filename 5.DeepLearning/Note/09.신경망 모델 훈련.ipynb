{
 "cells": [
  {
   "cell_type": "code",
   "execution_count": 69,
   "metadata": {},
   "outputs": [],
   "source": [
    "import warnings\n",
    "warnings.filterwarnings(\"ignore\")\n",
    "#gpu 사용 \n",
    "import os\n",
    "os.environ[\"TF_CPP_MIN_LOG_LEVEL\"] = \"3\""
   ]
  },
  {
   "cell_type": "code",
   "execution_count": 70,
   "metadata": {},
   "outputs": [],
   "source": [
    "from sklearn.model_selection import train_test_split\n"
   ]
  },
  {
   "cell_type": "code",
   "execution_count": 71,
   "metadata": {},
   "outputs": [],
   "source": [
    "from tensorflow import keras\n",
    "(train_input, train_target), (test_input, test_target) = keras.datasets.fashion_mnist.load_data()\n",
    "# 표준화\n",
    "train_scaled = train_input / 255.0  # 시각화 하므로 /255\n",
    "# 학습과 검증용으로 나누기 \n",
    "train_scaled, val_scaled, train_target, val_target = train_test_split(\n",
    "    train_scaled,train_target, test_size = 0.2, random_state=42\n",
    ")"
   ]
  },
  {
   "cell_type": "code",
   "execution_count": 72,
   "metadata": {},
   "outputs": [],
   "source": [
    "# model 함수 구현\n",
    "def model_fn(a_layer=None): # default는 none\n",
    "    model = keras.Sequential()\n",
    "    model.add(keras.layers.Flatten(input_shape=(28,28)))\n",
    "    model.add(keras.layers.Dense(100,activation=\"relu\"))\n",
    "    if a_layer:\n",
    "        model.add(a_layer)\n",
    "    model.add(keras.layers.Dense(10,activation=\"softmax\"))\n",
    "    return model"
   ]
  },
  {
   "cell_type": "code",
   "execution_count": 73,
   "metadata": {},
   "outputs": [
    {
     "name": "stdout",
     "output_type": "stream",
     "text": [
      "Model: \"sequential_15\"\n",
      "_________________________________________________________________\n",
      " Layer (type)                Output Shape              Param #   \n",
      "=================================================================\n",
      " flatten_15 (Flatten)        (None, 784)               0         \n",
      "                                                                 \n",
      " dense_30 (Dense)            (None, 100)               78500     \n",
      "                                                                 \n",
      " dense_31 (Dense)            (None, 10)                1010      \n",
      "                                                                 \n",
      "=================================================================\n",
      "Total params: 79,510\n",
      "Trainable params: 79,510\n",
      "Non-trainable params: 0\n",
      "_________________________________________________________________\n"
     ]
    }
   ],
   "source": [
    "model = model_fn()\n",
    "model.summary()"
   ]
  },
  {
   "cell_type": "code",
   "execution_count": 75,
   "metadata": {},
   "outputs": [
    {
     "name": "stdout",
     "output_type": "stream",
     "text": [
      "Epoch 1/5\n",
      "1500/1500 [==============================] - 4s 2ms/step - loss: 0.3096 - accuracy: 0.8899\n",
      "Epoch 2/5\n",
      "1500/1500 [==============================] - 3s 2ms/step - loss: 0.2985 - accuracy: 0.8948\n",
      "Epoch 3/5\n",
      "1500/1500 [==============================] - 4s 2ms/step - loss: 0.2919 - accuracy: 0.8972\n",
      "Epoch 4/5\n",
      "1500/1500 [==============================] - 3s 2ms/step - loss: 0.2823 - accuracy: 0.9009\n",
      "Epoch 5/5\n",
      "1500/1500 [==============================] - 3s 2ms/step - loss: 0.2772 - accuracy: 0.9035\n"
     ]
    }
   ],
   "source": [
    "model.compile(loss='sparse_categorical_crossentropy',metrics='accuracy')\n",
    "history = model.fit(train_scaled,train_target,epochs=5)"
   ]
  },
  {
   "cell_type": "code",
   "execution_count": 76,
   "metadata": {},
   "outputs": [
    {
     "data": {
      "text/plain": [
       "dict_keys(['loss', 'accuracy'])"
      ]
     },
     "execution_count": 76,
     "metadata": {},
     "output_type": "execute_result"
    }
   ],
   "source": [
    "history.history.keys()"
   ]
  },
  {
   "cell_type": "code",
   "execution_count": 77,
   "metadata": {},
   "outputs": [
    {
     "data": {
      "text/plain": [
       "[0.3096335530281067,\n",
       " 0.2984561026096344,\n",
       " 0.2918711006641388,\n",
       " 0.28232771158218384,\n",
       " 0.2771618366241455]"
      ]
     },
     "execution_count": 77,
     "metadata": {},
     "output_type": "execute_result"
    }
   ],
   "source": [
    "history.history['loss']"
   ]
  },
  {
   "cell_type": "markdown",
   "metadata": {},
   "source": [
    "### 손실곡선 "
   ]
  },
  {
   "cell_type": "code",
   "execution_count": 78,
   "metadata": {},
   "outputs": [
    {
     "data": {
      "image/png": "[encoded data removed]",
      "text/plain": [
       "<Figure size 432x288 with 1 Axes>"
      ]
     },
     "metadata": {
      "needs_background": "light"
     },
     "output_type": "display_data"
    }
   ],
   "source": [
    "import matplotlib.pyplot as plt\n",
    "\n",
    "plt.plot(history.history['loss'])\n",
    "plt.xlabel(\"epoch\")\n",
    "plt.ylabel(\"loss\")\n",
    "plt.show()"
   ]
  },
  {
   "cell_type": "code",
   "execution_count": 79,
   "metadata": {},
   "outputs": [
    {
     "data": {
      "image/png": "[encoded data removed]",
      "text/plain": [
       "<Figure size 432x288 with 1 Axes>"
      ]
     },
     "metadata": {
      "needs_background": "light"
     },
     "output_type": "display_data"
    }
   ],
   "source": [
    "import matplotlib.pyplot as plt\n",
    "\n",
    "plt.plot(history.history['accuracy'])\n",
    "plt.xlabel(\"epoch\")\n",
    "plt.ylabel(\"accuracy\")\n",
    "plt.show()"
   ]
  },
  {
   "cell_type": "code",
   "execution_count": 80,
   "metadata": {},
   "outputs": [
    {
     "name": "stdout",
     "output_type": "stream",
     "text": [
      "Epoch 1/20\n",
      "1500/1500 [==============================] - 4s 2ms/step - loss: 0.5326 - accuracy: 0.8119\n",
      "Epoch 2/20\n",
      "1500/1500 [==============================] - 3s 2ms/step - loss: 0.3901 - accuracy: 0.8576\n",
      "Epoch 3/20\n",
      "1500/1500 [==============================] - 3s 2ms/step - loss: 0.3535 - accuracy: 0.8727\n",
      "Epoch 4/20\n",
      "1500/1500 [==============================] - 3s 2ms/step - loss: 0.3312 - accuracy: 0.8812\n",
      "Epoch 5/20\n",
      "1500/1500 [==============================] - 3s 2ms/step - loss: 0.3181 - accuracy: 0.8868\n",
      "Epoch 6/20\n",
      "1500/1500 [==============================] - 4s 2ms/step - loss: 0.3077 - accuracy: 0.8900\n",
      "Epoch 7/20\n",
      "1500/1500 [==============================] - 4s 2ms/step - loss: 0.2969 - accuracy: 0.8940\n",
      "Epoch 8/20\n",
      "1500/1500 [==============================] - 4s 3ms/step - loss: 0.2878 - accuracy: 0.8979\n",
      "Epoch 9/20\n",
      "1500/1500 [==============================] - 4s 2ms/step - loss: 0.2817 - accuracy: 0.8997\n",
      "Epoch 10/20\n",
      "1500/1500 [==============================] - 3s 2ms/step - loss: 0.2763 - accuracy: 0.9029\n",
      "Epoch 11/20\n",
      "1500/1500 [==============================] - 3s 2ms/step - loss: 0.2674 - accuracy: 0.9064\n",
      "Epoch 12/20\n",
      "1500/1500 [==============================] - 3s 2ms/step - loss: 0.2631 - accuracy: 0.9079\n",
      "Epoch 13/20\n",
      "1500/1500 [==============================] - 3s 2ms/step - loss: 0.2584 - accuracy: 0.9097\n",
      "Epoch 14/20\n",
      "1500/1500 [==============================] - 3s 2ms/step - loss: 0.2531 - accuracy: 0.9121\n",
      "Epoch 15/20\n",
      "1500/1500 [==============================] - 3s 2ms/step - loss: 0.2476 - accuracy: 0.9147\n",
      "Epoch 16/20\n",
      "1500/1500 [==============================] - 3s 2ms/step - loss: 0.2449 - accuracy: 0.9165\n",
      "Epoch 17/20\n",
      "1500/1500 [==============================] - 3s 2ms/step - loss: 0.2393 - accuracy: 0.9175\n",
      "Epoch 18/20\n",
      "1500/1500 [==============================] - 3s 2ms/step - loss: 0.2361 - accuracy: 0.9183\n",
      "Epoch 19/20\n",
      "1500/1500 [==============================] - 3s 2ms/step - loss: 0.2305 - accuracy: 0.9204\n",
      "Epoch 20/20\n",
      "1500/1500 [==============================] - 3s 2ms/step - loss: 0.2284 - accuracy: 0.9231\n"
     ]
    }
   ],
   "source": [
    "model =model_fn()\n",
    "model.compile(loss='sparse_categorical_crossentropy',metrics='accuracy')\n",
    "history = model.fit(train_scaled,train_target,epochs=20)"
   ]
  },
  {
   "cell_type": "code",
   "execution_count": 83,
   "metadata": {},
   "outputs": [
    {
     "data": {
      "image/png": "[encoded data removed]",
      "text/plain": [
       "<Figure size 432x288 with 1 Axes>"
      ]
     },
     "metadata": {
      "needs_background": "light"
     },
     "output_type": "display_data"
    }
   ],
   "source": [
    "# epochs =20 일때 loss\n",
    "import matplotlib.pyplot as plt\n",
    "\n",
    "plt.plot(history.history['loss'])\n",
    "plt.xlabel(\"epoch\")\n",
    "plt.ylabel(\"loss\")\n",
    "plt.show()"
   ]
  },
  {
   "cell_type": "code",
   "execution_count": 84,
   "metadata": {},
   "outputs": [
    {
     "data": {
      "image/png": "[encoded data removed]",
      "text/plain": [
       "<Figure size 432x288 with 1 Axes>"
      ]
     },
     "metadata": {
      "needs_background": "light"
     },
     "output_type": "display_data"
    }
   ],
   "source": [
    "import matplotlib.pyplot as plt\n",
    "# epochs =20 일때 accuracy\n",
    "plt.plot(history.history['accuracy'])\n",
    "plt.xlabel(\"epoch\")\n",
    "plt.ylabel(\"accuracy\")\n",
    "plt.show()"
   ]
  },
  {
   "cell_type": "markdown",
   "metadata": {},
   "source": [
    "> 검증 세트 만든 이유: 과대적합 확인할려구"
   ]
  },
  {
   "cell_type": "markdown",
   "metadata": {},
   "source": [
    "---\n",
    "### 검증 손실\n",
    ": 검증 세트에 대한 정확도를 파악하기 위해 validation data를 사용한다."
   ]
  },
  {
   "cell_type": "code",
   "execution_count": 85,
   "metadata": {},
   "outputs": [
    {
     "name": "stdout",
     "output_type": "stream",
     "text": [
      "Epoch 1/20\n",
      "1500/1500 [==============================] - 4s 3ms/step - loss: 0.5296 - accuracy: 0.8140 - val_loss: 0.4128 - val_accuracy: 0.8528\n",
      "Epoch 2/20\n",
      "1500/1500 [==============================] - 4s 3ms/step - loss: 0.3908 - accuracy: 0.8602 - val_loss: 0.4002 - val_accuracy: 0.8588\n",
      "Epoch 3/20\n",
      "1500/1500 [==============================] - 4s 2ms/step - loss: 0.3533 - accuracy: 0.8728 - val_loss: 0.3547 - val_accuracy: 0.8777\n",
      "Epoch 4/20\n",
      "1500/1500 [==============================] - 4s 2ms/step - loss: 0.3326 - accuracy: 0.8808 - val_loss: 0.3549 - val_accuracy: 0.8750\n",
      "Epoch 5/20\n",
      "1500/1500 [==============================] - 4s 2ms/step - loss: 0.3194 - accuracy: 0.8843 - val_loss: 0.3676 - val_accuracy: 0.8733\n",
      "Epoch 6/20\n",
      "1500/1500 [==============================] - 4s 2ms/step - loss: 0.3081 - accuracy: 0.8908 - val_loss: 0.3583 - val_accuracy: 0.8817\n",
      "Epoch 7/20\n",
      "1500/1500 [==============================] - 4s 2ms/step - loss: 0.2979 - accuracy: 0.8950 - val_loss: 0.3654 - val_accuracy: 0.8811\n",
      "Epoch 8/20\n",
      "1500/1500 [==============================] - 3s 2ms/step - loss: 0.2886 - accuracy: 0.8979 - val_loss: 0.3773 - val_accuracy: 0.8807\n",
      "Epoch 9/20\n",
      "1500/1500 [==============================] - 4s 2ms/step - loss: 0.2837 - accuracy: 0.8998 - val_loss: 0.3945 - val_accuracy: 0.8706\n",
      "Epoch 10/20\n",
      "1500/1500 [==============================] - 4s 2ms/step - loss: 0.2785 - accuracy: 0.9029 - val_loss: 0.3887 - val_accuracy: 0.8814\n",
      "Epoch 11/20\n",
      "1500/1500 [==============================] - 4s 2ms/step - loss: 0.2721 - accuracy: 0.9049 - val_loss: 0.3980 - val_accuracy: 0.8827\n",
      "Epoch 12/20\n",
      "1500/1500 [==============================] - 4s 2ms/step - loss: 0.2646 - accuracy: 0.9080 - val_loss: 0.3782 - val_accuracy: 0.8880\n",
      "Epoch 13/20\n",
      "1500/1500 [==============================] - 4s 2ms/step - loss: 0.2594 - accuracy: 0.9098 - val_loss: 0.4038 - val_accuracy: 0.8841\n",
      "Epoch 14/20\n",
      "1500/1500 [==============================] - 4s 2ms/step - loss: 0.2544 - accuracy: 0.9122 - val_loss: 0.4400 - val_accuracy: 0.8808\n",
      "Epoch 15/20\n",
      "1500/1500 [==============================] - 4s 2ms/step - loss: 0.2529 - accuracy: 0.9133 - val_loss: 0.4370 - val_accuracy: 0.8813\n",
      "Epoch 16/20\n",
      "1500/1500 [==============================] - 4s 2ms/step - loss: 0.2460 - accuracy: 0.9157 - val_loss: 0.4233 - val_accuracy: 0.8829\n",
      "Epoch 17/20\n",
      "1500/1500 [==============================] - 4s 3ms/step - loss: 0.2435 - accuracy: 0.9157 - val_loss: 0.4038 - val_accuracy: 0.8858\n",
      "Epoch 18/20\n",
      "1500/1500 [==============================] - 4s 2ms/step - loss: 0.2380 - accuracy: 0.9176 - val_loss: 0.4592 - val_accuracy: 0.8778\n",
      "Epoch 19/20\n",
      "1500/1500 [==============================] - 4s 2ms/step - loss: 0.2366 - accuracy: 0.9194 - val_loss: 0.4741 - val_accuracy: 0.8775\n",
      "Epoch 20/20\n",
      "1500/1500 [==============================] - 4s 2ms/step - loss: 0.2295 - accuracy: 0.9219 - val_loss: 0.4489 - val_accuracy: 0.8857\n"
     ]
    }
   ],
   "source": [
    "model =model_fn()\n",
    "model.compile(loss='sparse_categorical_crossentropy',metrics='accuracy')\n",
    "history = model.fit(train_scaled,train_target,epochs=20,\n",
    "                    validation_data= (val_scaled, val_target)\n",
    ")"
   ]
  },
  {
   "cell_type": "code",
   "execution_count": 86,
   "metadata": {},
   "outputs": [
    {
     "data": {
      "text/plain": [
       "dict_keys(['loss', 'accuracy', 'val_loss', 'val_accuracy'])"
      ]
     },
     "execution_count": 86,
     "metadata": {},
     "output_type": "execute_result"
    }
   ],
   "source": [
    "history.history.keys()\n",
    "# train과 검증용도 담겼다."
   ]
  },
  {
   "cell_type": "code",
   "execution_count": 91,
   "metadata": {},
   "outputs": [
    {
     "data": {
      "image/png": "[encoded data removed]",
      "text/plain": [
       "<Figure size 432x288 with 1 Axes>"
      ]
     },
     "metadata": {
      "needs_background": "light"
     },
     "output_type": "display_data"
    }
   ],
   "source": [
    "plt.plot(history.history['val_loss'])\n",
    "plt.plot(history.history['loss'])\n",
    "plt.xlabel(\"epoch\")\n",
    "plt.ylabel(\"loss\")\n",
    "plt.legend([\"val\",\"train\"])\n",
    "plt.show()"
   ]
  },
  {
   "cell_type": "markdown",
   "metadata": {},
   "source": [
    "> 훈련세트는 epoch가 증가함에 따라 손실이 떨어지고 있으나<br>\n",
    "> 검증세트는 epoch가 증가함에 따라 손실이 증가한다.<br>\n",
    "> 검증세트는 과대적합 발생 (validation이 train보다 잘 맞추는 것)\n"
   ]
  },
  {
   "cell_type": "markdown",
   "metadata": {},
   "source": [
    "---\n",
    "# opimizer로 과대적합 방지 시도(adam)"
   ]
  },
  {
   "cell_type": "code",
   "execution_count": 92,
   "metadata": {},
   "outputs": [
    {
     "name": "stdout",
     "output_type": "stream",
     "text": [
      "Epoch 1/20\n",
      "1500/1500 [==============================] - 3s 2ms/step - loss: 0.5253 - accuracy: 0.8155 - val_loss: 0.4221 - val_accuracy: 0.8505\n",
      "Epoch 2/20\n",
      "1500/1500 [==============================] - 4s 2ms/step - loss: 0.3926 - accuracy: 0.8604 - val_loss: 0.3781 - val_accuracy: 0.8623\n",
      "Epoch 3/20\n",
      "1500/1500 [==============================] - 3s 2ms/step - loss: 0.3522 - accuracy: 0.8731 - val_loss: 0.3455 - val_accuracy: 0.8737\n",
      "Epoch 4/20\n",
      "1500/1500 [==============================] - 3s 2ms/step - loss: 0.3246 - accuracy: 0.8816 - val_loss: 0.3493 - val_accuracy: 0.8737\n",
      "Epoch 5/20\n",
      "1500/1500 [==============================] - 3s 2ms/step - loss: 0.3078 - accuracy: 0.8875 - val_loss: 0.3473 - val_accuracy: 0.8751\n",
      "Epoch 6/20\n",
      "1500/1500 [==============================] - 3s 2ms/step - loss: 0.2916 - accuracy: 0.8928 - val_loss: 0.3207 - val_accuracy: 0.8851\n",
      "Epoch 7/20\n",
      "1500/1500 [==============================] - 3s 2ms/step - loss: 0.2793 - accuracy: 0.8967 - val_loss: 0.3355 - val_accuracy: 0.8772\n",
      "Epoch 8/20\n",
      "1500/1500 [==============================] - 3s 2ms/step - loss: 0.2673 - accuracy: 0.9010 - val_loss: 0.3270 - val_accuracy: 0.8847\n",
      "Epoch 9/20\n",
      "1500/1500 [==============================] - 3s 2ms/step - loss: 0.2562 - accuracy: 0.9053 - val_loss: 0.3387 - val_accuracy: 0.8787\n",
      "Epoch 10/20\n",
      "1500/1500 [==============================] - 4s 2ms/step - loss: 0.2506 - accuracy: 0.9070 - val_loss: 0.3111 - val_accuracy: 0.8876\n",
      "Epoch 11/20\n",
      "1500/1500 [==============================] - 3s 2ms/step - loss: 0.2396 - accuracy: 0.9112 - val_loss: 0.3325 - val_accuracy: 0.8826\n",
      "Epoch 12/20\n",
      "1500/1500 [==============================] - 3s 2ms/step - loss: 0.2317 - accuracy: 0.9140 - val_loss: 0.3177 - val_accuracy: 0.8893\n",
      "Epoch 13/20\n",
      "1500/1500 [==============================] - 3s 2ms/step - loss: 0.2258 - accuracy: 0.9159 - val_loss: 0.3216 - val_accuracy: 0.8892\n",
      "Epoch 14/20\n",
      "1500/1500 [==============================] - 3s 2ms/step - loss: 0.2200 - accuracy: 0.9180 - val_loss: 0.3454 - val_accuracy: 0.8788\n",
      "Epoch 15/20\n",
      "1500/1500 [==============================] - 3s 2ms/step - loss: 0.2114 - accuracy: 0.9218 - val_loss: 0.3442 - val_accuracy: 0.8842\n",
      "Epoch 16/20\n",
      "1500/1500 [==============================] - 3s 2ms/step - loss: 0.2075 - accuracy: 0.9228 - val_loss: 0.3417 - val_accuracy: 0.8838\n",
      "Epoch 17/20\n",
      "1500/1500 [==============================] - 3s 2ms/step - loss: 0.2007 - accuracy: 0.9253 - val_loss: 0.3326 - val_accuracy: 0.8877\n",
      "Epoch 18/20\n",
      "1500/1500 [==============================] - 3s 2ms/step - loss: 0.1953 - accuracy: 0.9269 - val_loss: 0.3309 - val_accuracy: 0.8916\n",
      "Epoch 19/20\n",
      "1500/1500 [==============================] - 3s 2ms/step - loss: 0.1903 - accuracy: 0.9299 - val_loss: 0.3438 - val_accuracy: 0.8866\n",
      "Epoch 20/20\n",
      "1500/1500 [==============================] - 4s 2ms/step - loss: 0.1852 - accuracy: 0.9302 - val_loss: 0.3413 - val_accuracy: 0.8873\n"
     ]
    }
   ],
   "source": [
    "model =model_fn()\n",
    "model.compile(optimizer=\"adam\",loss='sparse_categorical_crossentropy',metrics='accuracy')\n",
    "history = model.fit(train_scaled,train_target,epochs=20,\n",
    "             validation_data = (val_scaled,val_target)\n",
    ")"
   ]
  },
  {
   "cell_type": "code",
   "execution_count": 93,
   "metadata": {},
   "outputs": [
    {
     "data": {
      "text/plain": [
       "dict_keys(['loss', 'accuracy', 'val_loss', 'val_accuracy'])"
      ]
     },
     "execution_count": 93,
     "metadata": {},
     "output_type": "execute_result"
    }
   ],
   "source": [
    "history.history.keys()"
   ]
  },
  {
   "cell_type": "code",
   "execution_count": 94,
   "metadata": {},
   "outputs": [
    {
     "data": {
      "image/png": "[encoded data removed]",
      "text/plain": [
       "<Figure size 432x288 with 1 Axes>"
      ]
     },
     "metadata": {
      "needs_background": "light"
     },
     "output_type": "display_data"
    }
   ],
   "source": [
    "plt.plot(history.history['val_loss'])\n",
    "plt.plot(history.history['loss'])\n",
    "plt.xlabel(\"epoch\")\n",
    "plt.ylabel(\"loss\")\n",
    "plt.legend([\"val\",\"train\"])\n",
    "plt.show()"
   ]
  },
  {
   "cell_type": "markdown",
   "metadata": {},
   "source": [
    "> 훈련세트는 epoch가 중거험애 따라 손실이 떨어지고 있으나<br>\n",
    "> 검증세트는 epoch가 중거험애 따라 손실이 증가한다.<br>\n",
    "> 이 모델은 훈련세트에는 정확도가 높아 좋디만, 검증세트는 적합하지 않는 과대적합 모델이다<br>\n",
    "> Optimizzer(최적화 알고리즘)을 사용한 것이 좀 더 나은 모델이나 검증 손실에 대한 부분(과대적합)은 아직 해결이 안됨"
   ]
  },
  {
   "cell_type": "markdown",
   "metadata": {},
   "source": [
    "---\n",
    "# drop out \n",
    "- 규제\n",
    "- 신경망 모델에만 있음\n",
    "- 훈련시에만 각 sample을 처리할 때 은닉층의 임의의 node를 계산에 포함시키지 않는다."
   ]
  },
  {
   "cell_type": "markdown",
   "metadata": {},
   "source": [
    "![](../Data/dropout.png)"
   ]
  },
  {
   "cell_type": "code",
   "execution_count": 95,
   "metadata": {},
   "outputs": [
    {
     "name": "stdout",
     "output_type": "stream",
     "text": [
      "Model: \"sequential_19\"\n",
      "_________________________________________________________________\n",
      " Layer (type)                Output Shape              Param #   \n",
      "=================================================================\n",
      " flatten_19 (Flatten)        (None, 784)               0         \n",
      "                                                                 \n",
      " dense_38 (Dense)            (None, 100)               78500     \n",
      "                                                                 \n",
      " dropout_3 (Dropout)         (None, 100)               0         \n",
      "                                                                 \n",
      " dense_39 (Dense)            (None, 10)                1010      \n",
      "                                                                 \n",
      "=================================================================\n",
      "Total params: 79,510\n",
      "Trainable params: 79,510\n",
      "Non-trainable params: 0\n",
      "_________________________________________________________________\n"
     ]
    }
   ],
   "source": [
    "# model dropout 추가\n",
    "model = model_fn(keras.layers.Dropout(0.3)) # dropout - rate = 0.3 \n",
    "model.summary()"
   ]
  },
  {
   "cell_type": "code",
   "execution_count": 96,
   "metadata": {},
   "outputs": [
    {
     "name": "stdout",
     "output_type": "stream",
     "text": [
      "Epoch 1/20\n",
      "1500/1500 [==============================] - 4s 2ms/step - loss: 0.5875 - accuracy: 0.7932 - val_loss: 0.4269 - val_accuracy: 0.8456\n",
      "Epoch 2/20\n",
      "1500/1500 [==============================] - 3s 2ms/step - loss: 0.4339 - accuracy: 0.8445 - val_loss: 0.3866 - val_accuracy: 0.8592\n",
      "Epoch 3/20\n",
      "1500/1500 [==============================] - 3s 2ms/step - loss: 0.4031 - accuracy: 0.8546 - val_loss: 0.3701 - val_accuracy: 0.8656\n",
      "Epoch 4/20\n",
      "1500/1500 [==============================] - 3s 2ms/step - loss: 0.3800 - accuracy: 0.8616 - val_loss: 0.3597 - val_accuracy: 0.8690\n",
      "Epoch 5/20\n",
      "1500/1500 [==============================] - 3s 2ms/step - loss: 0.3670 - accuracy: 0.8641 - val_loss: 0.3572 - val_accuracy: 0.8707\n",
      "Epoch 6/20\n",
      "1500/1500 [==============================] - 3s 2ms/step - loss: 0.3533 - accuracy: 0.8701 - val_loss: 0.3385 - val_accuracy: 0.8765\n",
      "Epoch 7/20\n",
      "1500/1500 [==============================] - 3s 2ms/step - loss: 0.3444 - accuracy: 0.8733 - val_loss: 0.3368 - val_accuracy: 0.8729\n",
      "Epoch 8/20\n",
      "1500/1500 [==============================] - 3s 2ms/step - loss: 0.3308 - accuracy: 0.8769 - val_loss: 0.3322 - val_accuracy: 0.8777\n",
      "Epoch 9/20\n",
      "1500/1500 [==============================] - 3s 2ms/step - loss: 0.3262 - accuracy: 0.8783 - val_loss: 0.3344 - val_accuracy: 0.8783\n",
      "Epoch 10/20\n",
      "1500/1500 [==============================] - 3s 2ms/step - loss: 0.3221 - accuracy: 0.8794 - val_loss: 0.3310 - val_accuracy: 0.8821\n",
      "Epoch 11/20\n",
      "1500/1500 [==============================] - 3s 2ms/step - loss: 0.3117 - accuracy: 0.8831 - val_loss: 0.3196 - val_accuracy: 0.8834\n",
      "Epoch 12/20\n",
      "1500/1500 [==============================] - 3s 2ms/step - loss: 0.3057 - accuracy: 0.8859 - val_loss: 0.3297 - val_accuracy: 0.8805\n",
      "Epoch 13/20\n",
      "1500/1500 [==============================] - 3s 2ms/step - loss: 0.3051 - accuracy: 0.8859 - val_loss: 0.3241 - val_accuracy: 0.8832\n",
      "Epoch 14/20\n",
      "1500/1500 [==============================] - 3s 2ms/step - loss: 0.2954 - accuracy: 0.8888 - val_loss: 0.3228 - val_accuracy: 0.8854\n",
      "Epoch 15/20\n",
      "1500/1500 [==============================] - 3s 2ms/step - loss: 0.2952 - accuracy: 0.8905 - val_loss: 0.3160 - val_accuracy: 0.8852\n",
      "Epoch 16/20\n",
      "1500/1500 [==============================] - 3s 2ms/step - loss: 0.2883 - accuracy: 0.8912 - val_loss: 0.3299 - val_accuracy: 0.8857\n",
      "Epoch 17/20\n",
      "1500/1500 [==============================] - 3s 2ms/step - loss: 0.2856 - accuracy: 0.8938 - val_loss: 0.3438 - val_accuracy: 0.8827\n",
      "Epoch 18/20\n",
      "1500/1500 [==============================] - 3s 2ms/step - loss: 0.2797 - accuracy: 0.8946 - val_loss: 0.3187 - val_accuracy: 0.8863\n",
      "Epoch 19/20\n",
      "1500/1500 [==============================] - 3s 2ms/step - loss: 0.2763 - accuracy: 0.8964 - val_loss: 0.3242 - val_accuracy: 0.8840\n",
      "Epoch 20/20\n",
      "1500/1500 [==============================] - 3s 2ms/step - loss: 0.2742 - accuracy: 0.8969 - val_loss: 0.3235 - val_accuracy: 0.8873\n"
     ]
    }
   ],
   "source": [
    "# Dropout해서 만든 모델에 손실함수 끼우고 학습시키기 \n",
    "\n",
    "model.compile(optimizer=\"adam\",loss='sparse_categorical_crossentropy',metrics='accuracy')\n",
    "history = model.fit(train_scaled,train_target,epochs=20,\n",
    "  validation_data = (val_scaled,val_target))"
   ]
  },
  {
   "cell_type": "code",
   "execution_count": 97,
   "metadata": {},
   "outputs": [
    {
     "data": {
      "image/png": "[encoded data removed]",
      "text/plain": [
       "<Figure size 432x288 with 1 Axes>"
      ]
     },
     "metadata": {
      "needs_background": "light"
     },
     "output_type": "display_data"
    }
   ],
   "source": [
    "plt.plot(history.history['val_loss'])\n",
    "plt.plot(history.history['loss'])\n",
    "plt.xlabel(\"epoch\")\n",
    "plt.ylabel(\"loss\")\n",
    "plt.legend([\"train\",\"val\"])\n",
    "plt.show()"
   ]
  },
  {
   "cell_type": "markdown",
   "metadata": {},
   "source": [
    "> epoch 가 10일 경우 train과 val의 차이가 적은 거 같다 \n",
    "> 기본적으로 훈련세트의 손실이 검증세트보다 적게 나오는 epoch의 갯수를 선택한다."
   ]
  },
  {
   "cell_type": "markdown",
   "metadata": {},
   "source": [
    "---\n",
    "### 모델의 저장과 복원\n",
    "- hdf5 format으로 저장"
   ]
  },
  {
   "cell_type": "code",
   "execution_count": 98,
   "metadata": {},
   "outputs": [],
   "source": [
    "# model 저장 \n",
    "model.save(\"../Data/model-whole.h5\")"
   ]
  },
  {
   "cell_type": "code",
   "execution_count": 99,
   "metadata": {},
   "outputs": [],
   "source": [
    "# 복원\n",
    "model = keras.models.load_model(\"../Data/model-whole.h5\")"
   ]
  },
  {
   "cell_type": "code",
   "execution_count": 100,
   "metadata": {},
   "outputs": [
    {
     "name": "stdout",
     "output_type": "stream",
     "text": [
      "375/375 [==============================] - 1s 1ms/step - loss: 0.3235 - accuracy: 0.8873\n"
     ]
    },
    {
     "data": {
      "text/plain": [
       "[0.32349032163619995, 0.887333333492279]"
      ]
     },
     "execution_count": 100,
     "metadata": {},
     "output_type": "execute_result"
    }
   ],
   "source": [
    "# 사용\n",
    "model.evaluate(val_scaled,val_target)"
   ]
  },
  {
   "cell_type": "markdown",
   "metadata": {},
   "source": [
    "---\n",
    "# Calbacks\n",
    "- 훈련수행시 손실값이 제일 작은 함수를 저장해준다. <- 굉장히 편함"
   ]
  },
  {
   "cell_type": "code",
   "execution_count": 105,
   "metadata": {},
   "outputs": [
    {
     "name": "stdout",
     "output_type": "stream",
     "text": [
      "Epoch 1/20\n",
      "1500/1500 [==============================] - 4s 2ms/step - loss: 0.5888 - accuracy: 0.7938 - val_loss: 0.4185 - val_accuracy: 0.8499\n",
      "Epoch 2/20\n",
      "1500/1500 [==============================] - 4s 2ms/step - loss: 0.4378 - accuracy: 0.8426 - val_loss: 0.3875 - val_accuracy: 0.8611\n",
      "Epoch 3/20\n",
      "1500/1500 [==============================] - 3s 2ms/step - loss: 0.4060 - accuracy: 0.8533 - val_loss: 0.3629 - val_accuracy: 0.8680\n",
      "Epoch 4/20\n",
      "1500/1500 [==============================] - 3s 2ms/step - loss: 0.3842 - accuracy: 0.8609 - val_loss: 0.3588 - val_accuracy: 0.8699\n",
      "Epoch 5/20\n",
      "1500/1500 [==============================] - 4s 2ms/step - loss: 0.3684 - accuracy: 0.8668 - val_loss: 0.3493 - val_accuracy: 0.8723\n",
      "Epoch 6/20\n",
      "1500/1500 [==============================] - 3s 2ms/step - loss: 0.3542 - accuracy: 0.8710 - val_loss: 0.3363 - val_accuracy: 0.8777\n",
      "Epoch 7/20\n",
      "1500/1500 [==============================] - 3s 2ms/step - loss: 0.3494 - accuracy: 0.8719 - val_loss: 0.3520 - val_accuracy: 0.8710\n",
      "Epoch 8/20\n",
      "1500/1500 [==============================] - 4s 2ms/step - loss: 0.3388 - accuracy: 0.8759 - val_loss: 0.3357 - val_accuracy: 0.8791\n",
      "Epoch 9/20\n",
      "1500/1500 [==============================] - 3s 2ms/step - loss: 0.3286 - accuracy: 0.8782 - val_loss: 0.3333 - val_accuracy: 0.8799\n",
      "Epoch 10/20\n",
      "1500/1500 [==============================] - 4s 2ms/step - loss: 0.3212 - accuracy: 0.8792 - val_loss: 0.3394 - val_accuracy: 0.8768\n",
      "Epoch 11/20\n",
      "1500/1500 [==============================] - 3s 2ms/step - loss: 0.3148 - accuracy: 0.8820 - val_loss: 0.3304 - val_accuracy: 0.8819\n",
      "Epoch 12/20\n",
      "1500/1500 [==============================] - 3s 2ms/step - loss: 0.3110 - accuracy: 0.8841 - val_loss: 0.3327 - val_accuracy: 0.8812\n",
      "Epoch 13/20\n",
      "1500/1500 [==============================] - 3s 2ms/step - loss: 0.3049 - accuracy: 0.8854 - val_loss: 0.3261 - val_accuracy: 0.8842\n",
      "Epoch 14/20\n",
      "1500/1500 [==============================] - 3s 2ms/step - loss: 0.3016 - accuracy: 0.8864 - val_loss: 0.3238 - val_accuracy: 0.8828\n",
      "Epoch 15/20\n",
      "1500/1500 [==============================] - 3s 2ms/step - loss: 0.2921 - accuracy: 0.8898 - val_loss: 0.3233 - val_accuracy: 0.8823\n",
      "Epoch 16/20\n",
      "1500/1500 [==============================] - 3s 2ms/step - loss: 0.2926 - accuracy: 0.8896 - val_loss: 0.3243 - val_accuracy: 0.8852\n",
      "Epoch 17/20\n",
      "1500/1500 [==============================] - 3s 2ms/step - loss: 0.2893 - accuracy: 0.8903 - val_loss: 0.3187 - val_accuracy: 0.8910\n",
      "Epoch 18/20\n",
      "1500/1500 [==============================] - 4s 2ms/step - loss: 0.2825 - accuracy: 0.8932 - val_loss: 0.3353 - val_accuracy: 0.8840\n",
      "Epoch 19/20\n",
      "1500/1500 [==============================] - 3s 2ms/step - loss: 0.2766 - accuracy: 0.8944 - val_loss: 0.3162 - val_accuracy: 0.8869\n",
      "Epoch 20/20\n",
      "1500/1500 [==============================] - 3s 2ms/step - loss: 0.2782 - accuracy: 0.8937 - val_loss: 0.3262 - val_accuracy: 0.8857\n"
     ]
    },
    {
     "data": {
      "text/plain": [
       "<keras.callbacks.History at 0x7f86e82a9340>"
      ]
     },
     "execution_count": 105,
     "metadata": {},
     "output_type": "execute_result"
    }
   ],
   "source": [
    "model = model_fn(keras.layers.Dropout(0.3)) # dropout - rate = 0.3 \n",
    "model.compile(optimizer=\"adam\",loss='sparse_categorical_crossentropy',metrics='accuracy')\n",
    "# 손실값이 적은 함수 저장 \n",
    "checkpoint_cb = keras.callbacks.ModelCheckpoint(\"../Data/best-model.h5\")\n",
    "model.fit(train_scaled,train_target,epochs=20,\n",
    "                    validation_data = (val_scaled, val_target),\n",
    "                    callbacks = [checkpoint_cb]\n",
    "                    )"
   ]
  },
  {
   "cell_type": "code",
   "execution_count": 106,
   "metadata": {},
   "outputs": [
    {
     "name": "stdout",
     "output_type": "stream",
     "text": [
      "375/375 [==============================] - 1s 1ms/step - loss: 0.3262 - accuracy: 0.8857\n"
     ]
    },
    {
     "data": {
      "text/plain": [
       "[0.3262333869934082, 0.8857499957084656]"
      ]
     },
     "execution_count": 106,
     "metadata": {},
     "output_type": "execute_result"
    }
   ],
   "source": [
    "model = keras.models.load_model(\"../Data/best-model.h5\")\n",
    "model.evaluate(val_scaled, val_target)\n",
    "#검증용의 손실과 정확도 "
   ]
  },
  {
   "cell_type": "markdown",
   "metadata": {},
   "source": [
    "---\n",
    "# early stopping(조기종료)\n",
    "- callback처럼 끝까지 기다리는 것이 아니고 hyper parameter를 선정하여 한계값을 정해 실행한다."
   ]
  },
  {
   "cell_type": "code",
   "execution_count": 109,
   "metadata": {},
   "outputs": [
    {
     "name": "stdout",
     "output_type": "stream",
     "text": [
      "Epoch 1/20\n",
      "1500/1500 [==============================] - 4s 3ms/step - loss: 0.5931 - accuracy: 0.7924 - val_loss: 0.4173 - val_accuracy: 0.8512\n",
      "Epoch 2/20\n",
      "1500/1500 [==============================] - 4s 2ms/step - loss: 0.4395 - accuracy: 0.8414 - val_loss: 0.3838 - val_accuracy: 0.8577\n",
      "Epoch 3/20\n",
      "1500/1500 [==============================] - 4s 3ms/step - loss: 0.4043 - accuracy: 0.8532 - val_loss: 0.3687 - val_accuracy: 0.8634\n",
      "Epoch 4/20\n",
      "1500/1500 [==============================] - 3s 2ms/step - loss: 0.3820 - accuracy: 0.8607 - val_loss: 0.3657 - val_accuracy: 0.8658\n",
      "Epoch 5/20\n",
      "1500/1500 [==============================] - 4s 2ms/step - loss: 0.3636 - accuracy: 0.8656 - val_loss: 0.3472 - val_accuracy: 0.8737\n",
      "Epoch 6/20\n",
      "1500/1500 [==============================] - 4s 3ms/step - loss: 0.3490 - accuracy: 0.8718 - val_loss: 0.3391 - val_accuracy: 0.8735\n",
      "Epoch 7/20\n",
      "1500/1500 [==============================] - 4s 3ms/step - loss: 0.3389 - accuracy: 0.8736 - val_loss: 0.3351 - val_accuracy: 0.8767\n",
      "Epoch 8/20\n",
      "1500/1500 [==============================] - 4s 3ms/step - loss: 0.3367 - accuracy: 0.8764 - val_loss: 0.3392 - val_accuracy: 0.8767\n",
      "Epoch 9/20\n",
      "1500/1500 [==============================] - 4s 3ms/step - loss: 0.3270 - accuracy: 0.8786 - val_loss: 0.3373 - val_accuracy: 0.8742\n"
     ]
    }
   ],
   "source": [
    "model = model_fn(keras.layers.Dropout(0.3)) \n",
    "model.compile(optimizer = 'adam', loss = 'sparse_categorical_crossentropy', metrics = 'accuracy')\n",
    "# 손실값이 적은 함수 저장 \n",
    "checkpoint_cb = keras.callbacks.ModelCheckpoint(\"../Data/best-model.h5\") \n",
    "# 조기종료 > 가장 좋은 값으로 저장 \n",
    "# patience =  val_loss가 2번까지 올라가도 참아줌\n",
    "early_stopping_cb = keras.callbacks.EarlyStopping(patience=2, restore_best_weights=True) \n",
    "# - restore_best_weights : True 반드시. 참은 거 중에 가장 좋았던 걸로 지정! \n",
    "history = model.fit(train_scaled, train_target, epochs=20, \n",
    "                    validation_data = (val_scaled, val_target),\n",
    "                    callbacks = [checkpoint_cb, early_stopping_cb]\n",
    "                    ) "
   ]
  },
  {
   "cell_type": "code",
   "execution_count": 111,
   "metadata": {},
   "outputs": [
    {
     "data": {
      "text/plain": [
       "8"
      ]
     },
     "execution_count": 111,
     "metadata": {},
     "output_type": "execute_result"
    }
   ],
   "source": [
    "# 몇번째 에서 학습종료 하였나?\n",
    "early_stopping_cb.stopped_epoch"
   ]
  },
  {
   "cell_type": "code",
   "execution_count": 112,
   "metadata": {},
   "outputs": [
    {
     "data": {
      "image/png": "[encoded data removed]",
      "text/plain": [
       "<Figure size 432x288 with 1 Axes>"
      ]
     },
     "metadata": {
      "needs_background": "light"
     },
     "output_type": "display_data"
    }
   ],
   "source": [
    "plt.plot(history.history['val_loss'])\n",
    "plt.plot(history.history['loss'])\n",
    "plt.xlabel('epoch')\n",
    "plt.ylabel('loss')\n",
    "plt.show()"
   ]
  },
  {
   "cell_type": "code",
   "execution_count": null,
   "metadata": {},
   "outputs": [],
   "source": []
  }
 ],
 "metadata": {
  "kernelspec": {
   "display_name": "Python 3.9.7 ('base')",
   "language": "python",
   "name": "python3"
  },
  "language_info": {
   "codemirror_mode": {
    "name": "ipython",
    "version": 3
   },
   "file_extension": ".py",
   "mimetype": "text/x-python",
   "name": "python",
   "nbconvert_exporter": "python",
   "pygments_lexer": "ipython3",
   "version": "3.9.7"
  },
  "orig_nbformat": 4,
  "vscode": {
   "interpreter": {
    "hash": "c34e8390e776d2ee205b71ed5a6130fee3cef8da5e87e926ce18e14f4a070d72"
   }
  }
 },
 "nbformat": 4,
 "nbformat_minor": 2
}
